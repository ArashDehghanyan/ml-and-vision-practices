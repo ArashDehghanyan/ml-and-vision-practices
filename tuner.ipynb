{
  "nbformat": 4,
  "nbformat_minor": 0,
  "metadata": {
    "colab": {
      "name": "tuner.ipynb",
      "provenance": [],
      "collapsed_sections": [],
      "authorship_tag": "ABX9TyPl42HSOf+coJC6sOyOA7FK",
      "include_colab_link": true
    },
    "kernelspec": {
      "name": "python3",
      "display_name": "Python 3"
    },
    "language_info": {
      "name": "python"
    }
  },
  "cells": [
    {
      "cell_type": "markdown",
      "metadata": {
        "id": "view-in-github",
        "colab_type": "text"
      },
      "source": [
        "<a href=\"https://colab.research.google.com/github/ArashDehghanyan/ml-practicres/blob/main/tuner.ipynb\" target=\"_parent\"><img src=\"https://colab.research.google.com/assets/colab-badge.svg\" alt=\"Open In Colab\"/></a>"
      ]
    },
    {
      "cell_type": "markdown",
      "source": [
        "#**Keras Tuner**"
      ],
      "metadata": {
        "id": "_liG3dmMRleM"
      }
    },
    {
      "cell_type": "code",
      "execution_count": 9,
      "metadata": {
        "id": "mWiST_g3Rf9C"
      },
      "outputs": [],
      "source": [
        "import tensorflow as tf\n",
        "from tensorflow import keras\n",
        "from tensorflow.keras import layers"
      ]
    },
    {
      "cell_type": "code",
      "source": [
        "! pip install -q -U keras-tuner"
      ],
      "metadata": {
        "id": "z85RYpTKSQs4"
      },
      "execution_count": 10,
      "outputs": []
    },
    {
      "cell_type": "code",
      "source": [
        "import keras_tuner as kt "
      ],
      "metadata": {
        "id": "mQneeYn1SQqe"
      },
      "execution_count": 11,
      "outputs": []
    },
    {
      "cell_type": "markdown",
      "source": [
        "##Download MNIST Dataset"
      ],
      "metadata": {
        "id": "D7rnVhZ3SxHe"
      }
    },
    {
      "cell_type": "code",
      "source": [
        "(train_images, train_labels), (test_images, test_labels) = keras.datasets.mnist.load_data()\n",
        "\n",
        "# Normalize pixel values between 0 and 1\n",
        "train_images = train_images.astype('float32') / 255.0\n",
        "test_images = test_images.astype('float32') / 255.0"
      ],
      "metadata": {
        "id": "64E8JMdgSwab"
      },
      "execution_count": 12,
      "outputs": []
    },
    {
      "cell_type": "markdown",
      "source": [
        "##Define Model"
      ],
      "metadata": {
        "id": "AwgX5E1GUbLX"
      }
    },
    {
      "cell_type": "code",
      "source": [
        "def model_builder(hp):\n",
        "    model = keras.models.Sequential()\n",
        "    model.add(layers.Flatten(input_shape=(28, 28)))\n",
        "\n",
        "    # Tune the number of units in the first Dense layer\n",
        "    # choose an optimal value betwqeen 32-512\n",
        "    hp_units = hp.Int('units', min_value=32, max_value=512, step=32)\n",
        "    model.add(layers.Dense(hp_units, activation='relu'))\n",
        "    model.add(layers.Dense(10))\n",
        "\n",
        "    # Tune the learning_rate for optimizer\n",
        "    # Choose the values 0.01, 0.001 or 0.0001\n",
        "    hp_learning_rate = hp.Choice('learning_rate', values=[1e-2, 1e-3, 1e-4])\n",
        "\n",
        "    model.compile(optimizer=keras.optimizers.Adam(learning_rate=hp_learning_rate),\n",
        "                  loss=keras.losses.SparseCategoricalCrossentropy(from_logits=True),\n",
        "                  metrics=['accuracy'])\n",
        "    return model\n",
        "    "
      ],
      "metadata": {
        "id": "xLir60N-Uakx"
      },
      "execution_count": 13,
      "outputs": []
    },
    {
      "cell_type": "markdown",
      "source": [
        "##Instantiate tuner"
      ],
      "metadata": {
        "id": "18-bKaYFCKCD"
      }
    },
    {
      "cell_type": "code",
      "source": [
        "tuner = kt.Hyperband(\n",
        "    model_builder,\n",
        "    objective='val_accuracy',\n",
        "    max_epochs=10,\n",
        "    factor=3,\n",
        "    directory='my_dir',\n",
        "    project_name='intro_to_kit'\n",
        ")"
      ],
      "metadata": {
        "id": "C7nCEV9ayK6-"
      },
      "execution_count": 14,
      "outputs": []
    },
    {
      "cell_type": "code",
      "source": [
        "stop_early = keras.callbacks.EarlyStopping(monitor='val_loss', patience=5)"
      ],
      "metadata": {
        "id": "HiaK-GanEmKT"
      },
      "execution_count": 15,
      "outputs": []
    },
    {
      "cell_type": "markdown",
      "source": [
        "##**Run Hyperparameter Search**"
      ],
      "metadata": {
        "id": "pshi449uFR9O"
      }
    },
    {
      "cell_type": "code",
      "source": [
        "tuner.search(train_images, train_labels, epochs=50, validation_split=0.2, callbacks=[stop_early])\n"
      ],
      "metadata": {
        "colab": {
          "base_uri": "https://localhost:8080/"
        },
        "id": "yE_AQbaCE2O7",
        "outputId": "5d6d82d3-f09e-486a-ebcb-b52dac1b3ee7"
      },
      "execution_count": 17,
      "outputs": [
        {
          "output_type": "stream",
          "name": "stdout",
          "text": [
            "Trial 31 Complete [00h 01m 10s]\n",
            "val_accuracy: 0.9787499904632568\n",
            "\n",
            "Best val_accuracy So Far: 0.9801666736602783\n",
            "Total elapsed time: 00h 14m 06s\n",
            "INFO:tensorflow:Oracle triggered exit\n"
          ]
        }
      ]
    },
    {
      "cell_type": "code",
      "source": [
        "# Get the optimal hyper parameter\n",
        "best_hyperparameters = tuner.get_best_hyperparameters(num_trials=1)[0]"
      ],
      "metadata": {
        "id": "Rl92ekdpMNKG"
      },
      "execution_count": 20,
      "outputs": []
    },
    {
      "cell_type": "code",
      "source": [
        "print(f\"\"\"Optimal number of units for the first Dense layer: {best_hyperparameters.get('units')}\n",
        "      Optimal learning rate for the optimizer: {best_hyperparameters.get('learning_rate')}\"\"\")"
      ],
      "metadata": {
        "colab": {
          "base_uri": "https://localhost:8080/"
        },
        "id": "YU63Y3VUMNHc",
        "outputId": "4f154527-523f-4191-cf46-290674c6e621"
      },
      "execution_count": 21,
      "outputs": [
        {
          "output_type": "stream",
          "name": "stdout",
          "text": [
            "Optimal number of units for the first Dense layer: 512\n",
            "      Optimal learning rate for the optimizer: 0.001\n"
          ]
        }
      ]
    },
    {
      "cell_type": "markdown",
      "source": [
        "##**Train Model**"
      ],
      "metadata": {
        "id": "gE1hB75_M9ph"
      }
    },
    {
      "cell_type": "code",
      "source": [
        "# Build the model with the optimal hyperparameters and train it on data for 50 epochs\n",
        "model = tuner.hypermodel.build(best_hyperparameters)\n",
        "\n",
        "# Train model using optimal parameters\n",
        "history = model.fit(train_images, train_labels, epochs=50, validation_split=0.2)\n",
        "\n",
        "val_acc_per_epoch = history.history['val_accuracy']\n",
        "best_epoch = val_acc_per_epoch.index(max(val_acc_per_epoch)) + 1\n",
        "\n",
        "print()\n",
        "print(\"Best epoch:\", best_epoch)"
      ],
      "metadata": {
        "colab": {
          "base_uri": "https://localhost:8080/"
        },
        "id": "lRKI-mNpND9Q",
        "outputId": "ebac71f1-865a-463f-87b1-c996bb2a9c0b"
      },
      "execution_count": 22,
      "outputs": [
        {
          "output_type": "stream",
          "name": "stdout",
          "text": [
            "Epoch 1/50\n",
            "1500/1500 [==============================] - 8s 5ms/step - loss: 0.2243 - accuracy: 0.9336 - val_loss: 0.1232 - val_accuracy: 0.9630\n",
            "Epoch 2/50\n",
            "1500/1500 [==============================] - 8s 5ms/step - loss: 0.0868 - accuracy: 0.9732 - val_loss: 0.0928 - val_accuracy: 0.9718\n",
            "Epoch 3/50\n",
            "1500/1500 [==============================] - 8s 5ms/step - loss: 0.0565 - accuracy: 0.9822 - val_loss: 0.0799 - val_accuracy: 0.9773\n",
            "Epoch 4/50\n",
            "1500/1500 [==============================] - 8s 5ms/step - loss: 0.0400 - accuracy: 0.9872 - val_loss: 0.0781 - val_accuracy: 0.9773\n",
            "Epoch 5/50\n",
            "1500/1500 [==============================] - 8s 5ms/step - loss: 0.0282 - accuracy: 0.9912 - val_loss: 0.0988 - val_accuracy: 0.9720\n",
            "Epoch 6/50\n",
            "1500/1500 [==============================] - 8s 6ms/step - loss: 0.0225 - accuracy: 0.9924 - val_loss: 0.0892 - val_accuracy: 0.9773\n",
            "Epoch 7/50\n",
            "1500/1500 [==============================] - 7s 5ms/step - loss: 0.0176 - accuracy: 0.9944 - val_loss: 0.0908 - val_accuracy: 0.9766\n",
            "Epoch 8/50\n",
            "1500/1500 [==============================] - 7s 5ms/step - loss: 0.0141 - accuracy: 0.9956 - val_loss: 0.1025 - val_accuracy: 0.9762\n",
            "Epoch 9/50\n",
            "1500/1500 [==============================] - 8s 5ms/step - loss: 0.0098 - accuracy: 0.9970 - val_loss: 0.0972 - val_accuracy: 0.9760\n",
            "Epoch 10/50\n",
            "1500/1500 [==============================] - 8s 5ms/step - loss: 0.0122 - accuracy: 0.9959 - val_loss: 0.0985 - val_accuracy: 0.9792\n",
            "Epoch 11/50\n",
            "1500/1500 [==============================] - 8s 5ms/step - loss: 0.0076 - accuracy: 0.9974 - val_loss: 0.1192 - val_accuracy: 0.9749\n",
            "Epoch 12/50\n",
            "1500/1500 [==============================] - 8s 5ms/step - loss: 0.0110 - accuracy: 0.9962 - val_loss: 0.1151 - val_accuracy: 0.9779\n",
            "Epoch 13/50\n",
            "1500/1500 [==============================] - 8s 5ms/step - loss: 0.0078 - accuracy: 0.9974 - val_loss: 0.1287 - val_accuracy: 0.9748\n",
            "Epoch 14/50\n",
            "1500/1500 [==============================] - 8s 5ms/step - loss: 0.0082 - accuracy: 0.9974 - val_loss: 0.1231 - val_accuracy: 0.9784\n",
            "Epoch 15/50\n",
            "1500/1500 [==============================] - 7s 5ms/step - loss: 0.0076 - accuracy: 0.9974 - val_loss: 0.1381 - val_accuracy: 0.9781\n",
            "Epoch 16/50\n",
            "1500/1500 [==============================] - 7s 5ms/step - loss: 0.0072 - accuracy: 0.9977 - val_loss: 0.1157 - val_accuracy: 0.9797\n",
            "Epoch 17/50\n",
            "1500/1500 [==============================] - 7s 5ms/step - loss: 0.0057 - accuracy: 0.9982 - val_loss: 0.1207 - val_accuracy: 0.9806\n",
            "Epoch 18/50\n",
            "1500/1500 [==============================] - 7s 5ms/step - loss: 0.0073 - accuracy: 0.9975 - val_loss: 0.1012 - val_accuracy: 0.9818\n",
            "Epoch 19/50\n",
            "1500/1500 [==============================] - 7s 5ms/step - loss: 0.0064 - accuracy: 0.9979 - val_loss: 0.1230 - val_accuracy: 0.9806\n",
            "Epoch 20/50\n",
            "1500/1500 [==============================] - 7s 5ms/step - loss: 0.0054 - accuracy: 0.9981 - val_loss: 0.1345 - val_accuracy: 0.9795\n",
            "Epoch 21/50\n",
            "1500/1500 [==============================] - 7s 5ms/step - loss: 0.0063 - accuracy: 0.9980 - val_loss: 0.1350 - val_accuracy: 0.9787\n",
            "Epoch 22/50\n",
            "1500/1500 [==============================] - 8s 5ms/step - loss: 0.0057 - accuracy: 0.9981 - val_loss: 0.1319 - val_accuracy: 0.9797\n",
            "Epoch 23/50\n",
            "1500/1500 [==============================] - 8s 5ms/step - loss: 0.0046 - accuracy: 0.9988 - val_loss: 0.1750 - val_accuracy: 0.9747\n",
            "Epoch 24/50\n",
            "1500/1500 [==============================] - 7s 5ms/step - loss: 0.0057 - accuracy: 0.9980 - val_loss: 0.1559 - val_accuracy: 0.9783\n",
            "Epoch 25/50\n",
            "1500/1500 [==============================] - 8s 5ms/step - loss: 0.0036 - accuracy: 0.9990 - val_loss: 0.1383 - val_accuracy: 0.9813\n",
            "Epoch 26/50\n",
            "1500/1500 [==============================] - 7s 5ms/step - loss: 0.0053 - accuracy: 0.9982 - val_loss: 0.1470 - val_accuracy: 0.9789\n",
            "Epoch 27/50\n",
            "1500/1500 [==============================] - 7s 5ms/step - loss: 0.0065 - accuracy: 0.9982 - val_loss: 0.1457 - val_accuracy: 0.9796\n",
            "Epoch 28/50\n",
            "1500/1500 [==============================] - 7s 5ms/step - loss: 0.0042 - accuracy: 0.9985 - val_loss: 0.1625 - val_accuracy: 0.9783\n",
            "Epoch 29/50\n",
            "1500/1500 [==============================] - 8s 5ms/step - loss: 0.0041 - accuracy: 0.9986 - val_loss: 0.1698 - val_accuracy: 0.9778\n",
            "Epoch 30/50\n",
            "1500/1500 [==============================] - 7s 5ms/step - loss: 0.0071 - accuracy: 0.9980 - val_loss: 0.1674 - val_accuracy: 0.9787\n",
            "Epoch 31/50\n",
            "1500/1500 [==============================] - 7s 5ms/step - loss: 0.0040 - accuracy: 0.9986 - val_loss: 0.1475 - val_accuracy: 0.9803\n",
            "Epoch 32/50\n",
            "1500/1500 [==============================] - 7s 5ms/step - loss: 0.0038 - accuracy: 0.9990 - val_loss: 0.1823 - val_accuracy: 0.9780\n",
            "Epoch 33/50\n",
            "1500/1500 [==============================] - 7s 5ms/step - loss: 0.0031 - accuracy: 0.9990 - val_loss: 0.1828 - val_accuracy: 0.9800\n",
            "Epoch 34/50\n",
            "1500/1500 [==============================] - 7s 5ms/step - loss: 0.0059 - accuracy: 0.9980 - val_loss: 0.1720 - val_accuracy: 0.9805\n",
            "Epoch 35/50\n",
            "1500/1500 [==============================] - 7s 5ms/step - loss: 0.0044 - accuracy: 0.9986 - val_loss: 0.1699 - val_accuracy: 0.9797\n",
            "Epoch 36/50\n",
            "1500/1500 [==============================] - 8s 5ms/step - loss: 0.0029 - accuracy: 0.9991 - val_loss: 0.1838 - val_accuracy: 0.9772\n",
            "Epoch 37/50\n",
            "1500/1500 [==============================] - 7s 5ms/step - loss: 0.0064 - accuracy: 0.9982 - val_loss: 0.1845 - val_accuracy: 0.9807\n",
            "Epoch 38/50\n",
            "1500/1500 [==============================] - 7s 5ms/step - loss: 0.0038 - accuracy: 0.9989 - val_loss: 0.1700 - val_accuracy: 0.9813\n",
            "Epoch 39/50\n",
            "1500/1500 [==============================] - 8s 5ms/step - loss: 0.0013 - accuracy: 0.9997 - val_loss: 0.2167 - val_accuracy: 0.9769\n",
            "Epoch 40/50\n",
            "1500/1500 [==============================] - 7s 5ms/step - loss: 0.0039 - accuracy: 0.9988 - val_loss: 0.2171 - val_accuracy: 0.9778\n",
            "Epoch 41/50\n",
            "1500/1500 [==============================] - 7s 5ms/step - loss: 0.0075 - accuracy: 0.9982 - val_loss: 0.1842 - val_accuracy: 0.9798\n",
            "Epoch 42/50\n",
            "1500/1500 [==============================] - 7s 5ms/step - loss: 0.0012 - accuracy: 0.9996 - val_loss: 0.1910 - val_accuracy: 0.9792\n",
            "Epoch 43/50\n",
            "1500/1500 [==============================] - 7s 5ms/step - loss: 0.0068 - accuracy: 0.9981 - val_loss: 0.1901 - val_accuracy: 0.9809\n",
            "Epoch 44/50\n",
            "1500/1500 [==============================] - 8s 5ms/step - loss: 0.0023 - accuracy: 0.9993 - val_loss: 0.2075 - val_accuracy: 0.9786\n",
            "Epoch 45/50\n",
            "1500/1500 [==============================] - 8s 5ms/step - loss: 0.0038 - accuracy: 0.9988 - val_loss: 0.1923 - val_accuracy: 0.9807\n",
            "Epoch 46/50\n",
            "1500/1500 [==============================] - 7s 5ms/step - loss: 0.0028 - accuracy: 0.9993 - val_loss: 0.2055 - val_accuracy: 0.9803\n",
            "Epoch 47/50\n",
            "1500/1500 [==============================] - 8s 5ms/step - loss: 0.0021 - accuracy: 0.9992 - val_loss: 0.2038 - val_accuracy: 0.9792\n",
            "Epoch 48/50\n",
            "1500/1500 [==============================] - 7s 5ms/step - loss: 0.0056 - accuracy: 0.9983 - val_loss: 0.1999 - val_accuracy: 0.9805\n",
            "Epoch 49/50\n",
            "1500/1500 [==============================] - 7s 5ms/step - loss: 0.0038 - accuracy: 0.9991 - val_loss: 0.2141 - val_accuracy: 0.9807\n",
            "Epoch 50/50\n",
            "1500/1500 [==============================] - 7s 5ms/step - loss: 0.0043 - accuracy: 0.9987 - val_loss: 0.2382 - val_accuracy: 0.9784\n",
            "\n",
            "Best epoch: 18\n"
          ]
        }
      ]
    },
    {
      "cell_type": "code",
      "source": [
        "# Reinstantiate the hypermodel and train it with the optimal number of epochs\n",
        "hypermodel = tuner.hypermodel.build(best_hyperparameters)\n",
        "\n",
        "# Re-train the model\n",
        "hypermodel.fit(train_images, train_labels, epochs=best_epoch, validation_split=0.2)"
      ],
      "metadata": {
        "colab": {
          "base_uri": "https://localhost:8080/"
        },
        "id": "cu-IQ9zXSj25",
        "outputId": "e0f3ab46-e6a5-40b8-924d-72fdd4310ef3"
      },
      "execution_count": 23,
      "outputs": [
        {
          "output_type": "stream",
          "name": "stdout",
          "text": [
            "Epoch 1/18\n",
            "1500/1500 [==============================] - 9s 6ms/step - loss: 0.2222 - accuracy: 0.9338 - val_loss: 0.1136 - val_accuracy: 0.9645\n",
            "Epoch 2/18\n",
            "1500/1500 [==============================] - 8s 5ms/step - loss: 0.0870 - accuracy: 0.9731 - val_loss: 0.1047 - val_accuracy: 0.9690\n",
            "Epoch 3/18\n",
            "1500/1500 [==============================] - 8s 6ms/step - loss: 0.0569 - accuracy: 0.9831 - val_loss: 0.0954 - val_accuracy: 0.9715\n",
            "Epoch 4/18\n",
            "1500/1500 [==============================] - 8s 5ms/step - loss: 0.0386 - accuracy: 0.9880 - val_loss: 0.0729 - val_accuracy: 0.9776\n",
            "Epoch 5/18\n",
            "1500/1500 [==============================] - 8s 5ms/step - loss: 0.0283 - accuracy: 0.9908 - val_loss: 0.0972 - val_accuracy: 0.9730\n",
            "Epoch 6/18\n",
            "1500/1500 [==============================] - 8s 5ms/step - loss: 0.0231 - accuracy: 0.9925 - val_loss: 0.0874 - val_accuracy: 0.9772\n",
            "Epoch 7/18\n",
            "1500/1500 [==============================] - 8s 6ms/step - loss: 0.0162 - accuracy: 0.9946 - val_loss: 0.0845 - val_accuracy: 0.9790\n",
            "Epoch 8/18\n",
            "1500/1500 [==============================] - 8s 5ms/step - loss: 0.0143 - accuracy: 0.9954 - val_loss: 0.0872 - val_accuracy: 0.9793\n",
            "Epoch 9/18\n",
            "1500/1500 [==============================] - 8s 5ms/step - loss: 0.0130 - accuracy: 0.9961 - val_loss: 0.1001 - val_accuracy: 0.9772\n",
            "Epoch 10/18\n",
            "1500/1500 [==============================] - 8s 5ms/step - loss: 0.0095 - accuracy: 0.9971 - val_loss: 0.1053 - val_accuracy: 0.9775\n",
            "Epoch 11/18\n",
            "1500/1500 [==============================] - 8s 5ms/step - loss: 0.0112 - accuracy: 0.9963 - val_loss: 0.0952 - val_accuracy: 0.9810\n",
            "Epoch 12/18\n",
            "1500/1500 [==============================] - 8s 5ms/step - loss: 0.0062 - accuracy: 0.9981 - val_loss: 0.1056 - val_accuracy: 0.9780\n",
            "Epoch 13/18\n",
            "1500/1500 [==============================] - 8s 5ms/step - loss: 0.0119 - accuracy: 0.9961 - val_loss: 0.1129 - val_accuracy: 0.9786\n",
            "Epoch 14/18\n",
            "1500/1500 [==============================] - 8s 5ms/step - loss: 0.0034 - accuracy: 0.9990 - val_loss: 0.1305 - val_accuracy: 0.9762\n",
            "Epoch 15/18\n",
            "1500/1500 [==============================] - 8s 5ms/step - loss: 0.0105 - accuracy: 0.9966 - val_loss: 0.1088 - val_accuracy: 0.9787\n",
            "Epoch 16/18\n",
            "1500/1500 [==============================] - 8s 5ms/step - loss: 0.0056 - accuracy: 0.9981 - val_loss: 0.1291 - val_accuracy: 0.9762\n",
            "Epoch 17/18\n",
            "1500/1500 [==============================] - 8s 6ms/step - loss: 0.0063 - accuracy: 0.9982 - val_loss: 0.1188 - val_accuracy: 0.9790\n",
            "Epoch 18/18\n",
            "1500/1500 [==============================] - 8s 5ms/step - loss: 0.0070 - accuracy: 0.9978 - val_loss: 0.1384 - val_accuracy: 0.9775\n"
          ]
        },
        {
          "output_type": "execute_result",
          "data": {
            "text/plain": [
              "<keras.callbacks.History at 0x7feda182a150>"
            ]
          },
          "metadata": {},
          "execution_count": 23
        }
      ]
    },
    {
      "cell_type": "code",
      "source": [
        "# Evaluate model on the test set\n",
        "evaluate_result = hypermodel.evaluate(test_images, test_labels)\n",
        "print(\"[test loss, test accuracy]:\", evaluate_result)"
      ],
      "metadata": {
        "colab": {
          "base_uri": "https://localhost:8080/"
        },
        "id": "Y_L4y8RrTXxt",
        "outputId": "0b5fb650-d8c2-4c32-ccb8-a5335f7638d9"
      },
      "execution_count": 24,
      "outputs": [
        {
          "output_type": "stream",
          "name": "stdout",
          "text": [
            "313/313 [==============================] - 1s 3ms/step - loss: 0.1157 - accuracy: 0.9787\n",
            "[test loss, test accuracy]: [0.11569742113351822, 0.9786999821662903]\n"
          ]
        }
      ]
    }
  ]
}
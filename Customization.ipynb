{
  "nbformat": 4,
  "nbformat_minor": 0,
  "metadata": {
    "colab": {
      "name": "Customization.ipynb",
      "provenance": [],
      "collapsed_sections": [],
      "authorship_tag": "ABX9TyMN0BkmuoCNfvwUwwi7xj5T",
      "include_colab_link": true
    },
    "kernelspec": {
      "name": "python3",
      "display_name": "Python 3"
    },
    "language_info": {
      "name": "python"
    },
    "accelerator": "GPU"
  },
  "cells": [
    {
      "cell_type": "markdown",
      "metadata": {
        "id": "view-in-github",
        "colab_type": "text"
      },
      "source": [
        "<a href=\"https://colab.research.google.com/github/ArashDehghanyan/ml-practicres/blob/main/Customization.ipynb\" target=\"_parent\"><img src=\"https://colab.research.google.com/assets/colab-badge.svg\" alt=\"Open In Colab\"/></a>"
      ]
    },
    {
      "cell_type": "code",
      "execution_count": 1,
      "metadata": {
        "id": "ej1YTRt7NS1-"
      },
      "outputs": [],
      "source": [
        "import tensorflow as tf"
      ]
    },
    {
      "cell_type": "code",
      "source": [
        "print(tf.version.VERSION)"
      ],
      "metadata": {
        "colab": {
          "base_uri": "https://localhost:8080/"
        },
        "id": "-pMDpunf2QMT",
        "outputId": "014b8501-426f-4e34-c923-7b04e1a9dfee"
      },
      "execution_count": 2,
      "outputs": [
        {
          "output_type": "stream",
          "name": "stdout",
          "text": [
            "2.8.0\n"
          ]
        }
      ]
    },
    {
      "cell_type": "markdown",
      "source": [
        "#Basics"
      ],
      "metadata": {
        "id": "o2hhc1fGNcjR"
      }
    },
    {
      "cell_type": "code",
      "source": [
        "print(tf.reduce_sum([1, 2, 3]).numpy())\n",
        "print(tf.add(1, 2).numpy())\n",
        "print(tf.add([1, 2], [3, 4]).numpy())\n",
        "print(tf.square(5).numpy())\n",
        "print((tf.square(2) + tf.square(3)).numpy())\n",
        "x = tf.matmul([[1]], [[1, 2]])\n",
        "print(x)\n",
        "print(x.shape)\n",
        "print(x.dtype)\n",
        "print(x.numpy())"
      ],
      "metadata": {
        "colab": {
          "base_uri": "https://localhost:8080/"
        },
        "id": "gkuG18D7NwNT",
        "outputId": "97f55ba4-f10d-405f-c33f-804f1251c604"
      },
      "execution_count": 3,
      "outputs": [
        {
          "output_type": "stream",
          "name": "stdout",
          "text": [
            "6\n",
            "3\n",
            "[4 6]\n",
            "25\n",
            "13\n",
            "tf.Tensor([[1 2]], shape=(1, 2), dtype=int32)\n",
            "(1, 2)\n",
            "<dtype: 'int32'>\n",
            "[[1 2]]\n"
          ]
        }
      ]
    },
    {
      "cell_type": "code",
      "source": [
        "x = tf.random.uniform([3, 3])\n",
        "\n",
        "print(\"Is there a GPU available:\")\n",
        "print(tf.config.list_physical_devices(\"GPU\"))\n",
        "\n",
        "print(\"Is the tensor on the GPU #0:\")\n",
        "print(x.device.endswith(\"GPU:0\"))"
      ],
      "metadata": {
        "colab": {
          "base_uri": "https://localhost:8080/"
        },
        "id": "HcMpuLwl2Zvc",
        "outputId": "37ab7600-734d-42c0-ad04-22eac9ba600f"
      },
      "execution_count": 4,
      "outputs": [
        {
          "output_type": "stream",
          "name": "stdout",
          "text": [
            "Is there a GPU available:\n",
            "[PhysicalDevice(name='/physical_device:GPU:0', device_type='GPU')]\n",
            "Is the tensor on the GPU #0:\n",
            "True\n"
          ]
        }
      ]
    },
    {
      "cell_type": "code",
      "source": [
        "print(x.device)"
      ],
      "metadata": {
        "colab": {
          "base_uri": "https://localhost:8080/"
        },
        "id": "CVXix4Ef3hcV",
        "outputId": "fec9d833-da01-4cf8-9a91-e3a09f166a22"
      },
      "execution_count": 5,
      "outputs": [
        {
          "output_type": "stream",
          "name": "stdout",
          "text": [
            "/job:localhost/replica:0/task:0/device:GPU:0\n"
          ]
        }
      ]
    },
    {
      "cell_type": "markdown",
      "source": [
        "##Explicit device placement"
      ],
      "metadata": {
        "id": "4f5OG8UICcjQ"
      }
    },
    {
      "cell_type": "code",
      "source": [
        "import time\n",
        "\n",
        "def time_matmul(x):\n",
        "    start = time.time()\n",
        "    for loop in range(10):\n",
        "        tf.matmul(x, x)\n",
        "    \n",
        "    result = time.time() - start\n",
        "    print(\"10 loops: {:0.2f}ms\".format(1000 * result))\n",
        "\n",
        "# Force execution on CPU\n",
        "print(\"on CPU:\")\n",
        "with tf.device(\"CPU:0\"):\n",
        "    x = tf.random.uniform([1000, 1000])\n",
        "    assert x.device.endswith(\"CPU:0\")\n",
        "    time_matmul(x)\n",
        "\n",
        "# Force execution on GPU\n",
        "print(\"on GPU:\")\n",
        "with tf.device(\"GPU:0\"):\n",
        "    x = tf.random.uniform([1000, 1000])\n",
        "    assert x.device.endswith(\"GPU:0\")\n",
        "    time_matmul(x)\n",
        "    "
      ],
      "metadata": {
        "colab": {
          "base_uri": "https://localhost:8080/"
        },
        "id": "eCHLyagzCgcI",
        "outputId": "daf1922e-f1aa-41d4-c284-b435358a02aa"
      },
      "execution_count": 6,
      "outputs": [
        {
          "output_type": "stream",
          "name": "stdout",
          "text": [
            "on CPU:\n",
            "10 loops: 445.63ms\n",
            "on GPU:\n",
            "10 loops: 1283.01ms\n"
          ]
        }
      ]
    },
    {
      "cell_type": "markdown",
      "source": [
        "##Datasets"
      ],
      "metadata": {
        "id": "T0OuCRm4JLUn"
      }
    },
    {
      "cell_type": "code",
      "source": [
        "ds_tensor = tf.data.Dataset.from_tensor_slices([1,2,3,4,5,6,7,8])\n",
        "\n",
        "import tempfile\n",
        "_, filename = tempfile.mkstemp()\n",
        "\n",
        "with open(filename, 'w') as f:\n",
        "    f.write(\"\"\"Line 1\n",
        "    Line 2\n",
        "    Line 3\n",
        "    Lin3 4\n",
        "    Line 5\n",
        "    \"\"\")\n",
        "\n",
        "ds_file = tf.data.TextLineDataset(filename)\n"
      ],
      "metadata": {
        "id": "Dx529IcFJNlK"
      },
      "execution_count": 7,
      "outputs": []
    },
    {
      "cell_type": "markdown",
      "source": [
        "##Apply transformations"
      ],
      "metadata": {
        "id": "jgUXlJbMLmzj"
      }
    },
    {
      "cell_type": "code",
      "source": [
        "ds_tensor = ds_tensor.map(tf.square).shuffle(2).batch(2)\n",
        "ds_file = ds_file.shuffle(2).batch(2)"
      ],
      "metadata": {
        "id": "yhIuPtBpLpsl"
      },
      "execution_count": 8,
      "outputs": []
    },
    {
      "cell_type": "markdown",
      "source": [
        "##Iterate"
      ],
      "metadata": {
        "id": "kmGsFU8bMJdU"
      }
    },
    {
      "cell_type": "code",
      "source": [
        "print(\"Elements of ds_tensor:\")\n",
        "for x in ds_tensor:\n",
        "    print(x)\n",
        "\n",
        "\n",
        "print(\"\\n\\nElements of ds_file:\")\n",
        "for x in ds_file:\n",
        "    print(x)"
      ],
      "metadata": {
        "colab": {
          "base_uri": "https://localhost:8080/"
        },
        "id": "yYQHPW0XMFUz",
        "outputId": "7ab7da9e-0e1f-4341-a3a3-ff84977b4777"
      },
      "execution_count": 9,
      "outputs": [
        {
          "output_type": "stream",
          "name": "stdout",
          "text": [
            "Elements of ds_tensor:\n",
            "tf.Tensor([1 9], shape=(2,), dtype=int32)\n",
            "tf.Tensor([ 4 25], shape=(2,), dtype=int32)\n",
            "tf.Tensor([36 49], shape=(2,), dtype=int32)\n",
            "tf.Tensor([16 64], shape=(2,), dtype=int32)\n",
            "\n",
            "\n",
            "Elements of ds_file:\n",
            "tf.Tensor([b'Line 1' b'    Line 3'], shape=(2,), dtype=string)\n",
            "tf.Tensor([b'    Lin3 4' b'    Line 5'], shape=(2,), dtype=string)\n",
            "tf.Tensor([b'    Line 2' b'    '], shape=(2,), dtype=string)\n"
          ]
        }
      ]
    },
    {
      "cell_type": "markdown",
      "source": [
        "#Layers"
      ],
      "metadata": {
        "id": "y7bVFTkXNgjl"
      }
    },
    {
      "cell_type": "code",
      "source": [
        "import numpy as np\n",
        "import tensorflow as tf\n",
        "\n",
        "print(tf.version.VERSION)\n",
        "print(tf.config.list_physical_devices('GPU'))"
      ],
      "metadata": {
        "colab": {
          "base_uri": "https://localhost:8080/"
        },
        "id": "ooJcdSnaNk_J",
        "outputId": "88ef5423-5c45-4c62-8bb8-1f3bd6925a1f"
      },
      "execution_count": 10,
      "outputs": [
        {
          "output_type": "stream",
          "name": "stdout",
          "text": [
            "2.8.0\n",
            "[PhysicalDevice(name='/physical_device:GPU:0', device_type='GPU')]\n"
          ]
        }
      ]
    },
    {
      "cell_type": "code",
      "source": [
        "layer = tf.keras.layers.Dense(10, input_shape=(None, 5))\n",
        "\n",
        "layer(tf.ones((10, 5))).shape"
      ],
      "metadata": {
        "colab": {
          "base_uri": "https://localhost:8080/"
        },
        "id": "ikjBfXzUOUIZ",
        "outputId": "645560de-4dd6-4743-c1cf-596cf4c3595c"
      },
      "execution_count": 11,
      "outputs": [
        {
          "output_type": "execute_result",
          "data": {
            "text/plain": [
              "TensorShape([10, 10])"
            ]
          },
          "metadata": {},
          "execution_count": 11
        }
      ]
    },
    {
      "cell_type": "code",
      "source": [
        "layer.variables"
      ],
      "metadata": {
        "colab": {
          "base_uri": "https://localhost:8080/"
        },
        "id": "VB3XOlB-QkwF",
        "outputId": "cd2dcd95-4112-4a32-93f7-94f2cd0220e0"
      },
      "execution_count": 12,
      "outputs": [
        {
          "output_type": "execute_result",
          "data": {
            "text/plain": [
              "[<tf.Variable 'dense/kernel:0' shape=(5, 10) dtype=float32, numpy=\n",
              " array([[-0.21179754,  0.21092278, -0.40015218, -0.22113153, -0.23944607,\n",
              "         -0.40425682, -0.15561366,  0.60537654,  0.32219583, -0.26386443],\n",
              "        [-0.48199585,  0.25304425, -0.46911347,  0.45276457,  0.6172239 ,\n",
              "         -0.25503737,  0.02143198,  0.581798  ,  0.18439204, -0.50854516],\n",
              "        [-0.51820004,  0.4374779 , -0.3796827 ,  0.60323566, -0.22683   ,\n",
              "          0.16394353,  0.43335027, -0.5503243 ,  0.3695169 , -0.1428121 ],\n",
              "        [-0.2173799 ,  0.53955716,  0.27413273,  0.44992357,  0.1720857 ,\n",
              "          0.11956406,  0.50344497, -0.4318034 , -0.21277991, -0.5778047 ],\n",
              "        [ 0.07842165, -0.58695203,  0.38537103, -0.16278383, -0.09324139,\n",
              "          0.10304582, -0.60329   ,  0.40765303,  0.09181327, -0.3044617 ]],\n",
              "       dtype=float32)>,\n",
              " <tf.Variable 'dense/bias:0' shape=(10,) dtype=float32, numpy=array([0., 0., 0., 0., 0., 0., 0., 0., 0., 0.], dtype=float32)>]"
            ]
          },
          "metadata": {},
          "execution_count": 12
        }
      ]
    },
    {
      "cell_type": "code",
      "source": [
        "layer.trainable_variables"
      ],
      "metadata": {
        "colab": {
          "base_uri": "https://localhost:8080/"
        },
        "id": "NgTkK2TkQwcs",
        "outputId": "4e6c0409-ebcd-47dd-b9f4-34b05fe100be"
      },
      "execution_count": 13,
      "outputs": [
        {
          "output_type": "execute_result",
          "data": {
            "text/plain": [
              "[<tf.Variable 'dense/kernel:0' shape=(5, 10) dtype=float32, numpy=\n",
              " array([[-0.21179754,  0.21092278, -0.40015218, -0.22113153, -0.23944607,\n",
              "         -0.40425682, -0.15561366,  0.60537654,  0.32219583, -0.26386443],\n",
              "        [-0.48199585,  0.25304425, -0.46911347,  0.45276457,  0.6172239 ,\n",
              "         -0.25503737,  0.02143198,  0.581798  ,  0.18439204, -0.50854516],\n",
              "        [-0.51820004,  0.4374779 , -0.3796827 ,  0.60323566, -0.22683   ,\n",
              "          0.16394353,  0.43335027, -0.5503243 ,  0.3695169 , -0.1428121 ],\n",
              "        [-0.2173799 ,  0.53955716,  0.27413273,  0.44992357,  0.1720857 ,\n",
              "          0.11956406,  0.50344497, -0.4318034 , -0.21277991, -0.5778047 ],\n",
              "        [ 0.07842165, -0.58695203,  0.38537103, -0.16278383, -0.09324139,\n",
              "          0.10304582, -0.60329   ,  0.40765303,  0.09181327, -0.3044617 ]],\n",
              "       dtype=float32)>,\n",
              " <tf.Variable 'dense/bias:0' shape=(10,) dtype=float32, numpy=array([0., 0., 0., 0., 0., 0., 0., 0., 0., 0.], dtype=float32)>]"
            ]
          },
          "metadata": {},
          "execution_count": 13
        }
      ]
    },
    {
      "cell_type": "code",
      "source": [
        "layer.kernel, layer.bias"
      ],
      "metadata": {
        "colab": {
          "base_uri": "https://localhost:8080/"
        },
        "id": "J3gPip4LQ66m",
        "outputId": "766afca2-7c7f-4ac5-e508-6a91b836b99e"
      },
      "execution_count": 14,
      "outputs": [
        {
          "output_type": "execute_result",
          "data": {
            "text/plain": [
              "(<tf.Variable 'dense/kernel:0' shape=(5, 10) dtype=float32, numpy=\n",
              " array([[-0.21179754,  0.21092278, -0.40015218, -0.22113153, -0.23944607,\n",
              "         -0.40425682, -0.15561366,  0.60537654,  0.32219583, -0.26386443],\n",
              "        [-0.48199585,  0.25304425, -0.46911347,  0.45276457,  0.6172239 ,\n",
              "         -0.25503737,  0.02143198,  0.581798  ,  0.18439204, -0.50854516],\n",
              "        [-0.51820004,  0.4374779 , -0.3796827 ,  0.60323566, -0.22683   ,\n",
              "          0.16394353,  0.43335027, -0.5503243 ,  0.3695169 , -0.1428121 ],\n",
              "        [-0.2173799 ,  0.53955716,  0.27413273,  0.44992357,  0.1720857 ,\n",
              "          0.11956406,  0.50344497, -0.4318034 , -0.21277991, -0.5778047 ],\n",
              "        [ 0.07842165, -0.58695203,  0.38537103, -0.16278383, -0.09324139,\n",
              "          0.10304582, -0.60329   ,  0.40765303,  0.09181327, -0.3044617 ]],\n",
              "       dtype=float32)>,\n",
              " <tf.Variable 'dense/bias:0' shape=(10,) dtype=float32, numpy=array([0., 0., 0., 0., 0., 0., 0., 0., 0., 0.], dtype=float32)>)"
            ]
          },
          "metadata": {},
          "execution_count": 14
        }
      ]
    },
    {
      "cell_type": "markdown",
      "source": [
        "#Custom layers"
      ],
      "metadata": {
        "id": "hOSarJPZR8ZQ"
      }
    },
    {
      "cell_type": "code",
      "source": [
        "class MyDenseLayer(tf.keras.layers.Layer):\n",
        "    def __init__(self, num_outputs):\n",
        "        super(MyDenseLayer, self).__init__()\n",
        "        self.num_outputs = num_outputs\n",
        "\n",
        "    def build(self, input_shape):\n",
        "        self.kernel = self.add_weight(\n",
        "            \"kernel\", shape=[int(input_shape[-1]), self.num_outputs]\n",
        "        )\n",
        "\n",
        "    def call(self, inputs):\n",
        "        return tf.matmul(inputs, self.kernel)\n"
      ],
      "metadata": {
        "id": "UIk5gGVSSDhA"
      },
      "execution_count": 22,
      "outputs": []
    },
    {
      "cell_type": "code",
      "source": [
        "layer = MyDenseLayer(10)\n",
        "layer(tf.ones([10, 5])).shape"
      ],
      "metadata": {
        "id": "A-ZoqlYdRZU9",
        "colab": {
          "base_uri": "https://localhost:8080/"
        },
        "outputId": "fd635f3e-9391-4d76-aede-09a8aea7f2d2"
      },
      "execution_count": 26,
      "outputs": [
        {
          "output_type": "execute_result",
          "data": {
            "text/plain": [
              "TensorShape([10, 10])"
            ]
          },
          "metadata": {},
          "execution_count": 26
        }
      ]
    },
    {
      "cell_type": "code",
      "source": [
        "print([var.name for var in layer.trainable_variables])"
      ],
      "metadata": {
        "id": "BxmWr6L8UTp5",
        "colab": {
          "base_uri": "https://localhost:8080/"
        },
        "outputId": "3d17d336-b5a7-427d-821c-9fdbae27dcd4"
      },
      "execution_count": 27,
      "outputs": [
        {
          "output_type": "stream",
          "name": "stdout",
          "text": [
            "['my_dense_layer_6/kernel:0']\n"
          ]
        }
      ]
    }
  ]
}
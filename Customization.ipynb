{
  "nbformat": 4,
  "nbformat_minor": 0,
  "metadata": {
    "colab": {
      "name": "Customization.ipynb",
      "provenance": [],
      "collapsed_sections": [],
      "authorship_tag": "ABX9TyMkghZOMJ1gEtJlS/wZGOUE",
      "include_colab_link": true
    },
    "kernelspec": {
      "name": "python3",
      "display_name": "Python 3"
    },
    "language_info": {
      "name": "python"
    },
    "accelerator": "GPU"
  },
  "cells": [
    {
      "cell_type": "markdown",
      "metadata": {
        "id": "view-in-github",
        "colab_type": "text"
      },
      "source": [
        "<a href=\"https://colab.research.google.com/github/ArashDehghanyan/ml-practicres/blob/main/Customization.ipynb\" target=\"_parent\"><img src=\"https://colab.research.google.com/assets/colab-badge.svg\" alt=\"Open In Colab\"/></a>"
      ]
    },
    {
      "cell_type": "code",
      "execution_count": null,
      "metadata": {
        "id": "ej1YTRt7NS1-"
      },
      "outputs": [],
      "source": [
        "import tensorflow as tf"
      ]
    },
    {
      "cell_type": "code",
      "source": [
        "print(tf.version.VERSION)"
      ],
      "metadata": {
        "colab": {
          "base_uri": "https://localhost:8080/"
        },
        "id": "-pMDpunf2QMT",
        "outputId": "7885bb04-9b5f-45ec-f276-61e861371b91"
      },
      "execution_count": null,
      "outputs": [
        {
          "output_type": "stream",
          "name": "stdout",
          "text": [
            "2.8.0\n"
          ]
        }
      ]
    },
    {
      "cell_type": "markdown",
      "source": [
        "#Basics"
      ],
      "metadata": {
        "id": "o2hhc1fGNcjR"
      }
    },
    {
      "cell_type": "code",
      "source": [
        "print(tf.reduce_sum([1, 2, 3]).numpy())\n",
        "print(tf.add(1, 2).numpy())\n",
        "print(tf.add([1, 2], [3, 4]).numpy())\n",
        "print(tf.square(5).numpy())\n",
        "print((tf.square(2) + tf.square(3)).numpy())\n",
        "x = tf.matmul([[1]], [[1, 2]])\n",
        "print(x)\n",
        "print(x.shape)\n",
        "print(x.dtype)\n",
        "print(x.numpy())"
      ],
      "metadata": {
        "colab": {
          "base_uri": "https://localhost:8080/"
        },
        "id": "gkuG18D7NwNT",
        "outputId": "90c197d7-42f1-42b2-c002-70970e595649"
      },
      "execution_count": null,
      "outputs": [
        {
          "output_type": "stream",
          "name": "stdout",
          "text": [
            "6\n",
            "3\n",
            "[4 6]\n",
            "25\n",
            "13\n",
            "tf.Tensor([[1 2]], shape=(1, 2), dtype=int32)\n",
            "(1, 2)\n",
            "<dtype: 'int32'>\n",
            "[[1 2]]\n"
          ]
        }
      ]
    },
    {
      "cell_type": "code",
      "source": [
        "x = tf.random.uniform([3, 3])\n",
        "\n",
        "print(\"Is there a GPU available:\")\n",
        "print(tf.config.list_physical_devices(\"GPU\"))\n",
        "\n",
        "print(\"Is the tensor on the GPU #0:\")\n",
        "print(x.device.endswith(\"GPU:0\"))"
      ],
      "metadata": {
        "colab": {
          "base_uri": "https://localhost:8080/"
        },
        "id": "HcMpuLwl2Zvc",
        "outputId": "aa3efd81-3479-44cf-cbe2-adc3638b6e1f"
      },
      "execution_count": null,
      "outputs": [
        {
          "output_type": "stream",
          "name": "stdout",
          "text": [
            "Is there a GPU available:\n",
            "[PhysicalDevice(name='/physical_device:GPU:0', device_type='GPU')]\n",
            "Is the tensor on the GPU #0:\n",
            "True\n"
          ]
        }
      ]
    },
    {
      "cell_type": "code",
      "source": [
        "print(x.device)"
      ],
      "metadata": {
        "colab": {
          "base_uri": "https://localhost:8080/"
        },
        "id": "CVXix4Ef3hcV",
        "outputId": "8be34026-ffe2-4728-e0f3-51c87ed986fa"
      },
      "execution_count": null,
      "outputs": [
        {
          "output_type": "stream",
          "name": "stdout",
          "text": [
            "/job:localhost/replica:0/task:0/device:GPU:0\n"
          ]
        }
      ]
    },
    {
      "cell_type": "markdown",
      "source": [
        "##Explicit device placement"
      ],
      "metadata": {
        "id": "4f5OG8UICcjQ"
      }
    },
    {
      "cell_type": "code",
      "source": [
        "import time\n",
        "\n",
        "def time_matmul(x):\n",
        "    start = time.time()\n",
        "    for loop in range(10):\n",
        "        tf.matmul(x, x)\n",
        "    \n",
        "    result = time.time() - start\n",
        "    print(\"10 loops: {:0.2f}ms\".format(1000 * result))\n",
        "\n",
        "# Force execution on CPU\n",
        "print(\"on CPU:\")\n",
        "with tf.device(\"CPU:0\"):\n",
        "    x = tf.random.uniform([1000, 1000])\n",
        "    assert x.device.endswith(\"CPU:0\")\n",
        "    time_matmul(x)\n",
        "\n",
        "# Force execution on GPU\n",
        "print(\"on GPU:\")\n",
        "with tf.device(\"GPU:0\"):\n",
        "    x = tf.random.uniform([1000, 1000])\n",
        "    assert x.device.endswith(\"GPU:0\")\n",
        "    time_matmul(x)\n",
        "    "
      ],
      "metadata": {
        "colab": {
          "base_uri": "https://localhost:8080/"
        },
        "id": "eCHLyagzCgcI",
        "outputId": "9d12d85c-792b-4333-d838-4f760bb857d0"
      },
      "execution_count": null,
      "outputs": [
        {
          "output_type": "stream",
          "name": "stdout",
          "text": [
            "on CPU:\n",
            "10 loops: 620.01ms\n",
            "on GPU:\n",
            "10 loops: 2171.86ms\n"
          ]
        }
      ]
    },
    {
      "cell_type": "markdown",
      "source": [
        "##Datasets"
      ],
      "metadata": {
        "id": "T0OuCRm4JLUn"
      }
    },
    {
      "cell_type": "code",
      "source": [
        "ds_tensor = tf.data.Dataset.from_tensor_slices([1,2,3,4,5,6,7,8])\n",
        "\n",
        "import tempfile\n",
        "_, filename = tempfile.mkstemp()\n",
        "\n",
        "with open(filename, 'w') as f:\n",
        "    f.write(\"\"\"Line 1\n",
        "    Line 2\n",
        "    Line 3\n",
        "    Lin3 4\n",
        "    Line 5\n",
        "    \"\"\")\n",
        "\n",
        "ds_file = tf.data.TextLineDataset(filename)\n"
      ],
      "metadata": {
        "id": "Dx529IcFJNlK"
      },
      "execution_count": null,
      "outputs": []
    },
    {
      "cell_type": "markdown",
      "source": [
        "##Apply transformations"
      ],
      "metadata": {
        "id": "jgUXlJbMLmzj"
      }
    },
    {
      "cell_type": "code",
      "source": [
        "ds_tensor = ds_tensor.map(tf.square).shuffle(2).batch(2)\n",
        "ds_file = ds_file.shuffle(2).batch(2)"
      ],
      "metadata": {
        "id": "yhIuPtBpLpsl"
      },
      "execution_count": null,
      "outputs": []
    },
    {
      "cell_type": "markdown",
      "source": [
        "##Iterate"
      ],
      "metadata": {
        "id": "kmGsFU8bMJdU"
      }
    },
    {
      "cell_type": "code",
      "source": [
        "print(\"Elements of ds_tensor:\")\n",
        "for x in ds_tensor:\n",
        "    print(x)\n",
        "\n",
        "\n",
        "print(\"\\n\\nElements of ds_file:\")\n",
        "for x in ds_file:\n",
        "    print(x)"
      ],
      "metadata": {
        "colab": {
          "base_uri": "https://localhost:8080/"
        },
        "id": "yYQHPW0XMFUz",
        "outputId": "14921ce8-d6e4-48c9-a298-d161dd20f438"
      },
      "execution_count": null,
      "outputs": [
        {
          "output_type": "stream",
          "name": "stdout",
          "text": [
            "Elements of ds_tensor:\n",
            "tf.Tensor([1 9], shape=(2,), dtype=int32)\n",
            "tf.Tensor([16  4], shape=(2,), dtype=int32)\n",
            "tf.Tensor([36 25], shape=(2,), dtype=int32)\n",
            "tf.Tensor([49 64], shape=(2,), dtype=int32)\n",
            "\n",
            "\n",
            "Elements of ds_file:\n",
            "tf.Tensor([b'    Line 2' b'Line 1'], shape=(2,), dtype=string)\n",
            "tf.Tensor([b'    Line 3' b'    Lin3 4'], shape=(2,), dtype=string)\n",
            "tf.Tensor([b'    Line 5' b'    '], shape=(2,), dtype=string)\n"
          ]
        }
      ]
    },
    {
      "cell_type": "markdown",
      "source": [
        "#Layers"
      ],
      "metadata": {
        "id": "y7bVFTkXNgjl"
      }
    },
    {
      "cell_type": "code",
      "source": [
        "import numpy as np\n",
        "import tensorflow as tf\n",
        "\n",
        "print(tf.version.VERSION)\n",
        "print(tf.config.list_physical_devices('GPU'))"
      ],
      "metadata": {
        "colab": {
          "base_uri": "https://localhost:8080/"
        },
        "id": "ooJcdSnaNk_J",
        "outputId": "69eaf6f0-04ea-4e98-a653-c12f7be5a38f"
      },
      "execution_count": null,
      "outputs": [
        {
          "output_type": "stream",
          "name": "stdout",
          "text": [
            "2.8.0\n",
            "[PhysicalDevice(name='/physical_device:GPU:0', device_type='GPU')]\n"
          ]
        }
      ]
    },
    {
      "cell_type": "code",
      "source": [
        "layer = tf.keras.layers.Dense(10, input_shape=(None, 5))\n",
        "\n",
        "layer(tf.ones((10, 5))).shape"
      ],
      "metadata": {
        "colab": {
          "base_uri": "https://localhost:8080/"
        },
        "id": "ikjBfXzUOUIZ",
        "outputId": "dd7d1cfb-be0e-40ca-b1d2-c112eb3a81c8"
      },
      "execution_count": null,
      "outputs": [
        {
          "output_type": "execute_result",
          "data": {
            "text/plain": [
              "TensorShape([10, 10])"
            ]
          },
          "metadata": {},
          "execution_count": 11
        }
      ]
    },
    {
      "cell_type": "code",
      "source": [
        "layer.variables"
      ],
      "metadata": {
        "colab": {
          "base_uri": "https://localhost:8080/"
        },
        "id": "VB3XOlB-QkwF",
        "outputId": "31e20668-7724-4cfe-def4-7af790041f7c"
      },
      "execution_count": null,
      "outputs": [
        {
          "output_type": "execute_result",
          "data": {
            "text/plain": [
              "[<tf.Variable 'dense/kernel:0' shape=(5, 10) dtype=float32, numpy=\n",
              " array([[ 0.11010939,  0.19350135,  0.37618273, -0.2473126 , -0.06733954,\n",
              "          0.1271798 ,  0.09935647,  0.29709804,  0.22326338,  0.4617676 ],\n",
              "        [ 0.00079358, -0.08750266,  0.50379604,  0.08723545, -0.49089634,\n",
              "         -0.54005826,  0.24811238, -0.0426994 , -0.40523708,  0.45907754],\n",
              "        [ 0.38664526,  0.52150756,  0.16027695,  0.28553164, -0.49305895,\n",
              "         -0.12187684, -0.5773006 ,  0.4439333 , -0.4152347 , -0.28739855],\n",
              "        [ 0.5374258 ,  0.10927796,  0.5914728 , -0.01432931, -0.29877844,\n",
              "         -0.13994545, -0.07057685, -0.5257404 , -0.18129665, -0.29039335],\n",
              "        [ 0.12775761,  0.31753856,  0.39368802, -0.23998547, -0.44138277,\n",
              "         -0.19343805,  0.2064774 ,  0.47885185, -0.32723582, -0.15031779]],\n",
              "       dtype=float32)>,\n",
              " <tf.Variable 'dense/bias:0' shape=(10,) dtype=float32, numpy=array([0., 0., 0., 0., 0., 0., 0., 0., 0., 0.], dtype=float32)>]"
            ]
          },
          "metadata": {},
          "execution_count": 12
        }
      ]
    },
    {
      "cell_type": "code",
      "source": [
        "layer.trainable_variables"
      ],
      "metadata": {
        "colab": {
          "base_uri": "https://localhost:8080/"
        },
        "id": "NgTkK2TkQwcs",
        "outputId": "1470f5c9-25e8-463c-b43a-f3c7ea15ce63"
      },
      "execution_count": null,
      "outputs": [
        {
          "output_type": "execute_result",
          "data": {
            "text/plain": [
              "[<tf.Variable 'dense/kernel:0' shape=(5, 10) dtype=float32, numpy=\n",
              " array([[ 0.11010939,  0.19350135,  0.37618273, -0.2473126 , -0.06733954,\n",
              "          0.1271798 ,  0.09935647,  0.29709804,  0.22326338,  0.4617676 ],\n",
              "        [ 0.00079358, -0.08750266,  0.50379604,  0.08723545, -0.49089634,\n",
              "         -0.54005826,  0.24811238, -0.0426994 , -0.40523708,  0.45907754],\n",
              "        [ 0.38664526,  0.52150756,  0.16027695,  0.28553164, -0.49305895,\n",
              "         -0.12187684, -0.5773006 ,  0.4439333 , -0.4152347 , -0.28739855],\n",
              "        [ 0.5374258 ,  0.10927796,  0.5914728 , -0.01432931, -0.29877844,\n",
              "         -0.13994545, -0.07057685, -0.5257404 , -0.18129665, -0.29039335],\n",
              "        [ 0.12775761,  0.31753856,  0.39368802, -0.23998547, -0.44138277,\n",
              "         -0.19343805,  0.2064774 ,  0.47885185, -0.32723582, -0.15031779]],\n",
              "       dtype=float32)>,\n",
              " <tf.Variable 'dense/bias:0' shape=(10,) dtype=float32, numpy=array([0., 0., 0., 0., 0., 0., 0., 0., 0., 0.], dtype=float32)>]"
            ]
          },
          "metadata": {},
          "execution_count": 13
        }
      ]
    },
    {
      "cell_type": "code",
      "source": [
        "layer.kernel, layer.bias"
      ],
      "metadata": {
        "colab": {
          "base_uri": "https://localhost:8080/"
        },
        "id": "J3gPip4LQ66m",
        "outputId": "184fe3db-234d-475d-8c53-db4b220d78b5"
      },
      "execution_count": null,
      "outputs": [
        {
          "output_type": "execute_result",
          "data": {
            "text/plain": [
              "(<tf.Variable 'dense/kernel:0' shape=(5, 10) dtype=float32, numpy=\n",
              " array([[ 0.11010939,  0.19350135,  0.37618273, -0.2473126 , -0.06733954,\n",
              "          0.1271798 ,  0.09935647,  0.29709804,  0.22326338,  0.4617676 ],\n",
              "        [ 0.00079358, -0.08750266,  0.50379604,  0.08723545, -0.49089634,\n",
              "         -0.54005826,  0.24811238, -0.0426994 , -0.40523708,  0.45907754],\n",
              "        [ 0.38664526,  0.52150756,  0.16027695,  0.28553164, -0.49305895,\n",
              "         -0.12187684, -0.5773006 ,  0.4439333 , -0.4152347 , -0.28739855],\n",
              "        [ 0.5374258 ,  0.10927796,  0.5914728 , -0.01432931, -0.29877844,\n",
              "         -0.13994545, -0.07057685, -0.5257404 , -0.18129665, -0.29039335],\n",
              "        [ 0.12775761,  0.31753856,  0.39368802, -0.23998547, -0.44138277,\n",
              "         -0.19343805,  0.2064774 ,  0.47885185, -0.32723582, -0.15031779]],\n",
              "       dtype=float32)>,\n",
              " <tf.Variable 'dense/bias:0' shape=(10,) dtype=float32, numpy=array([0., 0., 0., 0., 0., 0., 0., 0., 0., 0.], dtype=float32)>)"
            ]
          },
          "metadata": {},
          "execution_count": 14
        }
      ]
    },
    {
      "cell_type": "markdown",
      "source": [
        "#Custom layers"
      ],
      "metadata": {
        "id": "hOSarJPZR8ZQ"
      }
    },
    {
      "cell_type": "code",
      "source": [
        "class MyDenseLayer(tf.keras.layers.Layer):\n",
        "    def __init__(self, num_outputs):\n",
        "        super(MyDenseLayer, self).__init__()\n",
        "        self.num_outputs = num_outputs\n",
        "\n",
        "    def build(self, input_shape):\n",
        "        self.kernel = self.add_weight(\n",
        "            \"kernel\", shape=[int(input_shape[-1]), self.num_outputs]\n",
        "        )\n",
        "\n",
        "    def call(self, inputs):\n",
        "        return tf.matmul(inputs, self.kernel)\n"
      ],
      "metadata": {
        "id": "UIk5gGVSSDhA"
      },
      "execution_count": null,
      "outputs": []
    },
    {
      "cell_type": "code",
      "source": [
        "layer = MyDenseLayer(10)\n",
        "layer(tf.ones([10, 5])).shape"
      ],
      "metadata": {
        "id": "A-ZoqlYdRZU9",
        "colab": {
          "base_uri": "https://localhost:8080/"
        },
        "outputId": "62cf01f7-7a8d-4376-b136-4d4ee13fa430"
      },
      "execution_count": null,
      "outputs": [
        {
          "output_type": "execute_result",
          "data": {
            "text/plain": [
              "TensorShape([10, 10])"
            ]
          },
          "metadata": {},
          "execution_count": 16
        }
      ]
    },
    {
      "cell_type": "code",
      "source": [
        "print([var.name for var in layer.trainable_variables])"
      ],
      "metadata": {
        "id": "BxmWr6L8UTp5",
        "colab": {
          "base_uri": "https://localhost:8080/"
        },
        "outputId": "133fd2a1-e861-4b34-8a61-89cb7d4e8f18"
      },
      "execution_count": null,
      "outputs": [
        {
          "output_type": "stream",
          "name": "stdout",
          "text": [
            "['my_dense_layer/kernel:0']\n"
          ]
        }
      ]
    },
    {
      "cell_type": "markdown",
      "source": [
        "##Residual Block"
      ],
      "metadata": {
        "id": "wDIJlPP0SnXz"
      }
    },
    {
      "cell_type": "code",
      "source": [
        "from tensorflow.keras import layers"
      ],
      "metadata": {
        "id": "P_z0S0tmUieQ"
      },
      "execution_count": null,
      "outputs": []
    },
    {
      "cell_type": "code",
      "source": [
        "class ResidualBlock(tf.keras.Model):\n",
        "    def __init__(self, kernel_size, filters):\n",
        "        super(ResidualBlock, self).__init__(name='')\n",
        "        filter1, filter2, filter3 = filters\n",
        "\n",
        "        self.conv2a = layers.Conv2D(filter1, (1, 1))\n",
        "        self.bn2a = layers.BatchNormalization()\n",
        "\n",
        "        self.conv2b = layers.Conv2D(filter2, kernel_size=kernel_size, padding='same')\n",
        "        self.bn2b = layers.BatchNormalization()\n",
        "\n",
        "        self.conv2c = layers.Conv2D(filter3, (1, 1))\n",
        "        self.bn2c = layers.BatchNormalization()\n",
        "    \n",
        "    def call(self, input_tensor, training=False):\n",
        "        x = tf.nn.relu(self.bn2a(self.conv2a(input_tensor), training=training))\n",
        "\n",
        "        x = tf.nn.relu(self.bn2b(self.conv2b(x), training=training))\n",
        "\n",
        "        x = self.bn2c(self.conv2c(x))\n",
        "\n",
        "        x += input_tensor\n",
        "\n",
        "        return tf.nn.relu(x)\n"
      ],
      "metadata": {
        "id": "usjd9X58SqWF"
      },
      "execution_count": null,
      "outputs": []
    },
    {
      "cell_type": "code",
      "source": [
        "block = ResidualBlock(1, [1, 2, 3])\n",
        "\n",
        "_ = block(tf.zeros([1, 2, 3, 3]))"
      ],
      "metadata": {
        "id": "cuLZL6PmWhXC"
      },
      "execution_count": null,
      "outputs": []
    },
    {
      "cell_type": "code",
      "source": [
        "block.layers"
      ],
      "metadata": {
        "colab": {
          "base_uri": "https://localhost:8080/"
        },
        "id": "DUJEtdEfW5zS",
        "outputId": "00643ddc-4e86-495b-ed6f-c8a3797030cd"
      },
      "execution_count": null,
      "outputs": [
        {
          "output_type": "execute_result",
          "data": {
            "text/plain": [
              "[<keras.layers.convolutional.Conv2D at 0x7ff3ec1691d0>,\n",
              " <keras.layers.normalization.batch_normalization.BatchNormalization at 0x7ff3ec16bb50>,\n",
              " <keras.layers.convolutional.Conv2D at 0x7ff3ec2376d0>,\n",
              " <keras.layers.normalization.batch_normalization.BatchNormalization at 0x7ff3ec225750>,\n",
              " <keras.layers.convolutional.Conv2D at 0x7ff468fc0d50>,\n",
              " <keras.layers.normalization.batch_normalization.BatchNormalization at 0x7ff3ec162490>]"
            ]
          },
          "metadata": {},
          "execution_count": 21
        }
      ]
    },
    {
      "cell_type": "code",
      "source": [
        "len(block.variables)"
      ],
      "metadata": {
        "colab": {
          "base_uri": "https://localhost:8080/"
        },
        "id": "PxHehvptakws",
        "outputId": "7a42d7d0-221e-4efc-e1fc-f71d98955c61"
      },
      "execution_count": null,
      "outputs": [
        {
          "output_type": "execute_result",
          "data": {
            "text/plain": [
              "18"
            ]
          },
          "metadata": {},
          "execution_count": 22
        }
      ]
    },
    {
      "cell_type": "code",
      "source": [
        "block.summary()"
      ],
      "metadata": {
        "colab": {
          "base_uri": "https://localhost:8080/"
        },
        "id": "6hucadBCaqUI",
        "outputId": "7b152da0-2f04-4a0c-b8cb-bfd2876416bd"
      },
      "execution_count": null,
      "outputs": [
        {
          "output_type": "stream",
          "name": "stdout",
          "text": [
            "Model: \"\"\n",
            "_________________________________________________________________\n",
            " Layer (type)                Output Shape              Param #   \n",
            "=================================================================\n",
            " conv2d (Conv2D)             multiple                  4         \n",
            "                                                                 \n",
            " batch_normalization (BatchN  multiple                 4         \n",
            " ormalization)                                                   \n",
            "                                                                 \n",
            " conv2d_1 (Conv2D)           multiple                  4         \n",
            "                                                                 \n",
            " batch_normalization_1 (Batc  multiple                 8         \n",
            " hNormalization)                                                 \n",
            "                                                                 \n",
            " conv2d_2 (Conv2D)           multiple                  9         \n",
            "                                                                 \n",
            " batch_normalization_2 (Batc  multiple                 12        \n",
            " hNormalization)                                                 \n",
            "                                                                 \n",
            "=================================================================\n",
            "Total params: 41\n",
            "Trainable params: 29\n",
            "Non-trainable params: 12\n",
            "_________________________________________________________________\n"
          ]
        }
      ]
    },
    {
      "cell_type": "markdown",
      "source": [
        "#Custom training: walkthrough\n",
        "##Install tfds-nightly dataset"
      ],
      "metadata": {
        "id": "feTzSfw-tGC1"
      }
    },
    {
      "cell_type": "code",
      "source": [
        "! pip install -q tfds-nightly "
      ],
      "metadata": {
        "colab": {
          "base_uri": "https://localhost:8080/"
        },
        "id": "MaUg0SuHaw96",
        "outputId": "0902838e-63db-4609-c938-7cebbb11c6a6"
      },
      "execution_count": 1,
      "outputs": [
        {
          "output_type": "stream",
          "name": "stdout",
          "text": [
            "\u001b[K     |████████████████████████████████| 4.2 MB 7.3 MB/s \n",
            "\u001b[K     |████████████████████████████████| 76 kB 5.5 MB/s \n",
            "\u001b[?25h"
          ]
        }
      ]
    },
    {
      "cell_type": "code",
      "source": [
        "import os\n",
        "import tensorflow as tf\n",
        "import tensorflow_datasets as tfds\n",
        "import matplotlib.pyplot as plt\n",
        "\n",
        "print(\"Tensorflow version: {}\".format(tf.__version__))\n",
        "print(\"Tensorflow dataset version: {}\".format(tfds.__version__))"
      ],
      "metadata": {
        "colab": {
          "base_uri": "https://localhost:8080/"
        },
        "id": "m2UwQuXmtPbs",
        "outputId": "c55c18aa-0610-4e63-c8e7-a3d85501a97a"
      },
      "execution_count": 21,
      "outputs": [
        {
          "output_type": "stream",
          "name": "stdout",
          "text": [
            "Tensorflow version: 2.8.0\n",
            "Tensorflow dataset version: 4.5.2+nightly\n"
          ]
        }
      ]
    },
    {
      "cell_type": "markdown",
      "source": [
        "##Import dataset\n",
        "###Preview the data"
      ],
      "metadata": {
        "id": "rgoxoHBRw9Ss"
      }
    },
    {
      "cell_type": "code",
      "source": [
        "ds_preview, info = tfds.load('penguins/simple', split='train', with_info=True)\n",
        "df = tfds.as_dataframe(ds_preview.take(5), info)\n",
        "print(df)\n",
        "print(info.features)"
      ],
      "metadata": {
        "colab": {
          "base_uri": "https://localhost:8080/"
        },
        "id": "OHCueoaaumGc",
        "outputId": "bcaac15b-75e4-4adf-b88f-e760d0791931"
      },
      "execution_count": 22,
      "outputs": [
        {
          "output_type": "stream",
          "name": "stdout",
          "text": [
            "   body_mass_g  culmen_depth_mm  culmen_length_mm  flipper_length_mm  island  \\\n",
            "0       4200.0             13.9         45.500000              210.0       0   \n",
            "1       4650.0             13.7         40.900002              214.0       0   \n",
            "2       5300.0             14.2         51.299999              218.0       0   \n",
            "3       5650.0             15.0         47.799999              215.0       0   \n",
            "4       5050.0             15.8         46.299999              215.0       0   \n",
            "\n",
            "   sex  species  \n",
            "0    0        2  \n",
            "1    0        2  \n",
            "2    1        2  \n",
            "3    1        2  \n",
            "4    1        2  \n",
            "FeaturesDict({\n",
            "    'body_mass_g': tf.float32,\n",
            "    'culmen_depth_mm': tf.float32,\n",
            "    'culmen_length_mm': tf.float32,\n",
            "    'flipper_length_mm': tf.float32,\n",
            "    'island': ClassLabel(shape=(), dtype=tf.int64, num_classes=3),\n",
            "    'sex': ClassLabel(shape=(), dtype=tf.int64, num_classes=3),\n",
            "    'species': ClassLabel(shape=(), dtype=tf.int64, num_classes=3),\n",
            "})\n"
          ]
        }
      ]
    },
    {
      "cell_type": "code",
      "source": [
        "dataset_split, info = tfds.load('penguins/processed', split=['train[:20%]', 'train[20%:]'], as_supervised=True, with_info=True)\n",
        "ds_test = dataset_split[0]\n",
        "ds_train = dataset_split[1]\n",
        "assert isinstance(ds_test, tf.data.Dataset)\n",
        "\n",
        "print(info.features)\n",
        "df_test = tfds.as_dataframe(ds_test.take(5), info)\n",
        "print(\"Test dataset sample:\")\n",
        "print(df_test)\n",
        "\n",
        "df_train = tfds.as_dataframe(ds_train.take(5), info)\n",
        "print(\"Train dataset sample:\")\n",
        "print(df_train)\n",
        "\n",
        "ds_train_batch = ds_train.batch(32)"
      ],
      "metadata": {
        "colab": {
          "base_uri": "https://localhost:8080/"
        },
        "id": "KWrnpE-C2u33",
        "outputId": "5cd00830-cffb-4a18-b377-f1795a176610"
      },
      "execution_count": 23,
      "outputs": [
        {
          "output_type": "stream",
          "name": "stdout",
          "text": [
            "FeaturesDict({\n",
            "    'features': Tensor(shape=(4,), dtype=tf.float32),\n",
            "    'species': ClassLabel(shape=(), dtype=tf.int64, num_classes=3),\n",
            "})\n",
            "Test dataset sample:\n",
            "                                         features  species\n",
            "0  [0.6545454, 0.22619048, 0.89830506, 0.6388889]        2\n",
            "1        [0.36, 0.04761905, 0.6440678, 0.4027778]        2\n",
            "2       [0.68, 0.30952382, 0.91525424, 0.6944444]        2\n",
            "3   [0.6181818, 0.20238096, 0.8135593, 0.6805556]        2\n",
            "4  [0.5527273, 0.26190478, 0.84745765, 0.7083333]        2\n",
            "Train dataset sample:\n",
            "                                         features  species\n",
            "0  [0.49818182, 0.6904762, 0.42372882, 0.4027778]        0\n",
            "1      [0.48, 0.071428575, 0.6440678, 0.44444445]        2\n",
            "2    [0.7236364, 0.9047619, 0.6440678, 0.5833333]        1\n",
            "3  [0.34545454, 0.5833333, 0.33898306, 0.3472222]        0\n",
            "4       [0.10909091, 0.75, 0.3559322, 0.41666666]        0\n"
          ]
        }
      ]
    },
    {
      "cell_type": "code",
      "source": [
        "features, labels = next(iter(ds_train_batch))\n",
        "\n",
        "print(features)\n",
        "print(labels)"
      ],
      "metadata": {
        "colab": {
          "base_uri": "https://localhost:8080/"
        },
        "id": "abYZQTP8-BKd",
        "outputId": "52183f13-2e8a-41e6-d420-be27304e90df"
      },
      "execution_count": 24,
      "outputs": [
        {
          "output_type": "stream",
          "name": "stdout",
          "text": [
            "tf.Tensor(\n",
            "[[0.49818182 0.6904762  0.42372882 0.4027778 ]\n",
            " [0.48       0.07142857 0.6440678  0.44444445]\n",
            " [0.7236364  0.9047619  0.6440678  0.5833333 ]\n",
            " [0.34545454 0.5833333  0.33898306 0.3472222 ]\n",
            " [0.10909091 0.75       0.3559322  0.41666666]\n",
            " [0.6690909  0.63095236 0.47457626 0.19444445]\n",
            " [0.8036364  0.9166667  0.4915254  0.44444445]\n",
            " [0.4909091  0.75       0.37288135 0.22916667]\n",
            " [0.33454546 0.85714287 0.37288135 0.2361111 ]\n",
            " [0.32       0.41666666 0.2542373  0.1388889 ]\n",
            " [0.41454545 0.5952381  0.5084746  0.19444445]\n",
            " [0.14909092 0.48809522 0.2542373  0.125     ]\n",
            " [0.23636363 0.4642857  0.27118644 0.05555556]\n",
            " [0.22181818 0.5952381  0.22033899 0.3472222 ]\n",
            " [0.24727273 0.5595238  0.15254237 0.25694445]\n",
            " [0.63272727 0.35714287 0.88135594 0.8194444 ]\n",
            " [0.47272727 0.15476191 0.6440678  0.4722222 ]\n",
            " [0.6036364  0.23809524 0.84745765 0.7361111 ]\n",
            " [0.26909092 0.5595238  0.27118644 0.16666667]\n",
            " [0.28       0.71428573 0.20338982 0.5416667 ]\n",
            " [0.10545454 0.5714286  0.33898306 0.2847222 ]\n",
            " [0.18545455 0.5952381  0.10169491 0.33333334]\n",
            " [0.47272727 0.16666667 0.7288136  0.6388889 ]\n",
            " [0.45090908 0.1904762  0.7118644  0.5972222 ]\n",
            " [0.49454546 0.5        0.3559322  0.25      ]\n",
            " [0.6363636  0.22619048 0.7457627  0.5694444 ]\n",
            " [0.08727273 0.5952381  0.2542373  0.05555556]\n",
            " [0.52       0.22619048 0.7457627  0.5555556 ]\n",
            " [0.5090909  0.23809524 0.7288136  0.6666667 ]\n",
            " [0.56       0.22619048 0.779661   0.625     ]\n",
            " [0.6363636  0.3452381  0.89830506 0.8333333 ]\n",
            " [0.15636364 0.47619048 0.20338982 0.04166667]], shape=(32, 4), dtype=float32)\n",
            "tf.Tensor([0 2 1 0 0 1 1 1 0 1 1 0 0 0 0 2 2 2 0 0 0 0 2 2 1 2 0 2 2 2 2 0], shape=(32,), dtype=int64)\n"
          ]
        }
      ]
    },
    {
      "cell_type": "code",
      "source": [
        "plt.scatter(\n",
        "    features[:, 0],\n",
        "    features[:, 2],\n",
        "    c = labels,\n",
        "    cmap='viridis'\n",
        ")\n",
        "\n",
        "plt.xlabel('Body Mass')\n",
        "plt.ylabel('Culmen Length')\n",
        "plt.show()"
      ],
      "metadata": {
        "colab": {
          "base_uri": "https://localhost:8080/",
          "height": 279
        },
        "id": "3Jr3sYdG_VPQ",
        "outputId": "42bf315d-a9fb-4d85-8764-fc06a3badc3a"
      },
      "execution_count": 25,
      "outputs": [
        {
          "output_type": "display_data",
          "data": {
            "text/plain": [
              "<Figure size 432x288 with 1 Axes>"
            ],
            "image/png": "[encoded data removed]"
          },
          "metadata": {
            "needs_background": "light"
          }
        }
      ]
    },
    {
      "cell_type": "markdown",
      "source": [
        "##Define model"
      ],
      "metadata": {
        "id": "bKUIdzhM0WWg"
      }
    },
    {
      "cell_type": "code",
      "source": [
        "model = tf.keras.models.Sequential([\n",
        "    tf.keras.layers.Dense(10, activation=tf.nn.relu, input_shape=(4,)),\n",
        "    tf.keras.layers.Dense(10, activation=tf.nn.relu),\n",
        "    tf.keras.layers.Dense(3)\n",
        "])\n"
      ],
      "metadata": {
        "id": "3IhvfjMm0Vbs"
      },
      "execution_count": 26,
      "outputs": []
    },
    {
      "cell_type": "code",
      "source": [
        "predictions = model(features)\n",
        "# This example returns a logit for each class\n",
        "predictions[:5]"
      ],
      "metadata": {
        "colab": {
          "base_uri": "https://localhost:8080/"
        },
        "id": "jdOvF83M-o66",
        "outputId": "28740b8a-76a7-438d-ef87-2b4d157422ac"
      },
      "execution_count": 27,
      "outputs": [
        {
          "output_type": "execute_result",
          "data": {
            "text/plain": [
              "<tf.Tensor: shape=(5, 3), dtype=float32, numpy=\n",
              "array([[-0.117373  , -0.02241163, -0.13526282],\n",
              "       [-0.28063267,  0.04080224, -0.16245909],\n",
              "       [-0.19166864, -0.02475204, -0.20001304],\n",
              "       [-0.05105691, -0.02570873, -0.0887336 ],\n",
              "       [ 0.09852643, -0.03030641,  0.01450325]], dtype=float32)>"
            ]
          },
          "metadata": {},
          "execution_count": 27
        }
      ]
    },
    {
      "cell_type": "code",
      "source": [
        "# Convert logits to probabilities by softmax function\n",
        "tf.nn.softmax(predictions[:5])"
      ],
      "metadata": {
        "colab": {
          "base_uri": "https://localhost:8080/"
        },
        "id": "EAxj8oWh-o3W",
        "outputId": "5a984e32-ed8e-4dc7-b7bc-dcee650e0617"
      },
      "execution_count": 28,
      "outputs": [
        {
          "output_type": "execute_result",
          "data": {
            "text/plain": [
              "<tf.Tensor: shape=(5, 3), dtype=float32, numpy=\n",
              "array([[0.3244767 , 0.35679987, 0.31872344],\n",
              "       [0.28534377, 0.3935191 , 0.32113716],\n",
              "       [0.31512478, 0.372369  , 0.31250617],\n",
              "       [0.33459407, 0.34318382, 0.3222222 ],\n",
              "       [0.35733035, 0.31413656, 0.32853308]], dtype=float32)>"
            ]
          },
          "metadata": {},
          "execution_count": 28
        }
      ]
    },
    {
      "cell_type": "code",
      "source": [
        "print(\"Predictions: \", tf.argmax(predictions, axis=1))\n",
        "print(\"Labels: \", labels)"
      ],
      "metadata": {
        "colab": {
          "base_uri": "https://localhost:8080/"
        },
        "id": "Ne-pdSKtCT0y",
        "outputId": "af2290a8-41cc-4432-d128-b6649c479b84"
      },
      "execution_count": 29,
      "outputs": [
        {
          "output_type": "stream",
          "name": "stdout",
          "text": [
            "Predictions:  tf.Tensor([1 1 1 1 0 1 1 1 0 1 1 0 1 0 0 1 1 1 1 0 0 0 1 1 1 1 0 1 1 1 1 0], shape=(32,), dtype=int64)\n",
            "Labels:  tf.Tensor([0 2 1 0 0 1 1 1 0 1 1 0 0 0 0 2 2 2 0 0 0 0 2 2 1 2 0 2 2 2 2 0], shape=(32,), dtype=int64)\n"
          ]
        }
      ]
    },
    {
      "cell_type": "markdown",
      "source": [
        "##Define Loss and gradient"
      ],
      "metadata": {
        "id": "xzcoMyKSQpix"
      }
    },
    {
      "cell_type": "code",
      "source": [
        "loss_object = tf.keras.losses.SparseCategoricalCrossentropy(from_logits=True)"
      ],
      "metadata": {
        "id": "BuKmZTG2C8pB"
      },
      "execution_count": 30,
      "outputs": []
    },
    {
      "cell_type": "code",
      "source": [
        "def loss(model, x, y, training):\n",
        "    # training=training is needed only when there are layers with different\n",
        "    # behaviour during training versus inference (e. g. Dropout)\n",
        "    y_ = model(x, training=training)\n",
        "    return loss_object(y_true=y, y_pred=y_)"
      ],
      "metadata": {
        "id": "l_K-xXcnQ5WM"
      },
      "execution_count": 31,
      "outputs": []
    },
    {
      "cell_type": "code",
      "source": [
        "l = loss(model, features, labels, training=False)\n",
        "print(\"Loss test:\", l.numpy())"
      ],
      "metadata": {
        "colab": {
          "base_uri": "https://localhost:8080/"
        },
        "id": "JvYdRqIcRzCZ",
        "outputId": "5d9c27b8-2dea-440f-ffa5-5d41993b3673"
      },
      "execution_count": 32,
      "outputs": [
        {
          "output_type": "stream",
          "name": "stdout",
          "text": [
            "Loss test: 1.0858477\n"
          ]
        }
      ]
    },
    {
      "cell_type": "code",
      "source": [
        "def grad(model, inputs, targets):\n",
        "    \"\"\"Calculate gradient.\"\"\"\n",
        "    with tf.GradientTape() as tape:\n",
        "        loss_value = loss(model, inputs, targets, training=True)\n",
        "    return loss_value, tape.gradient(loss_value, model.trainable_variables)\n",
        "    "
      ],
      "metadata": {
        "id": "xsdm1ByDSO8R"
      },
      "execution_count": 33,
      "outputs": []
    },
    {
      "cell_type": "markdown",
      "source": [
        "##Create Optimizer"
      ],
      "metadata": {
        "id": "7OkLu_3jXX1a"
      }
    },
    {
      "cell_type": "code",
      "source": [
        "optimizer = tf.keras.optimizers.SGD(learning_rate=0.01)"
      ],
      "metadata": {
        "id": "f8lbTwWMXaum"
      },
      "execution_count": 34,
      "outputs": []
    },
    {
      "cell_type": "code",
      "source": [
        "# Calculate single optimization step\n",
        "loss_value, grads = grad(model, features, labels)\n",
        "print(\"Step: {}, Initial Loss: {}\".format(optimizer.iterations.numpy(), \n",
        "                                          loss_value.numpy()))\n",
        "# Apply gradients to the model trainable weights and biases\n",
        "optimizer.apply_gradients(zip(grads, model.trainable_variables))\n",
        "print(\"Step: {},\\t\\tLoss: {}\".format(optimizer.iterations.numpy(), \n",
        "                                     loss(model, features, labels, training=True).numpy()))\n"
      ],
      "metadata": {
        "colab": {
          "base_uri": "https://localhost:8080/"
        },
        "id": "gwIAbXihXnTU",
        "outputId": "c85aaba4-4a58-40b4-e9d7-40661f0287e9"
      },
      "execution_count": 35,
      "outputs": [
        {
          "output_type": "stream",
          "name": "stdout",
          "text": [
            "Step: 0, Initial Loss: 1.0858477354049683\n",
            "Step: 1,\t\tLoss: 1.0846877098083496\n"
          ]
        }
      ]
    },
    {
      "cell_type": "code",
      "source": [
        "train_loss_results = []\n",
        "train_accuracy_results = []\n",
        "\n",
        "num_epochs = 201\n",
        "\n",
        "for epoch in range(num_epochs):\n",
        "    epoch_loss = tf.keras.metrics.Mean()\n",
        "    epoch_accuracy = tf.keras.metrics.SparseCategoricalAccuracy()\n",
        "\n",
        "    # Train loop using batch of 32\n",
        "    for x, y in ds_train_batch:\n",
        "        loss_value, grads = grad(model , x, y)\n",
        "        optimizer.apply_gradients(zip(grads, model.trainable_variables))\n",
        "\n",
        "        epoch_loss.update_state(loss_value)\n",
        "        epoch_accuracy.update_state(y, model(x, training=True))\n",
        "\n",
        "    # End epoch\n",
        "    train_loss_results.append(epoch_loss.result())\n",
        "    train_accuracy_results.append(epoch_accuracy.result())\n",
        "\n",
        "    if epoch % 50 == 0:\n",
        "        print(\"Epoch: {:03d}\\tLoss: {:0.3f}\\tAccuracy: {:0.3f}\".format(epoch, epoch_loss.result(), epoch_accuracy.result()))\n"
      ],
      "metadata": {
        "colab": {
          "base_uri": "https://localhost:8080/"
        },
        "id": "UxJwIHFVkhxX",
        "outputId": "bfe863b0-6692-4d85-9a24-14cfea79b184"
      },
      "execution_count": 36,
      "outputs": [
        {
          "output_type": "stream",
          "name": "stdout",
          "text": [
            "Epoch: 000\tLoss: 1.077\tAccuracy: 0.588\n",
            "Epoch: 050\tLoss: 0.723\tAccuracy: 0.801\n",
            "Epoch: 100\tLoss: 0.446\tAccuracy: 0.805\n",
            "Epoch: 150\tLoss: 0.306\tAccuracy: 0.921\n",
            "Epoch: 200\tLoss: 0.216\tAccuracy: 0.955\n"
          ]
        }
      ]
    },
    {
      "cell_type": "code",
      "source": [
        "fig, axes = plt.subplots(2, sharex=True, figsize=(12, 8))\n",
        "fig.suptitle(\"Training Metrics\")\n",
        "\n",
        "axes[0].set_ylabel('Loss', fontsize=14)\n",
        "axes[0].plot(train_loss_results)\n",
        "\n",
        "axes[1].set_ylabel('Accuracy', fontsize=14)\n",
        "axes[1].plot(train_accuracy_results)\n",
        "axes[1].set_xlabel('Epochs', fontsize=14)\n",
        "plt.show()"
      ],
      "metadata": {
        "colab": {
          "base_uri": "https://localhost:8080/",
          "height": 558
        },
        "id": "35ROz5urowD0",
        "outputId": "37144eed-dfed-469b-966c-b1f48453196d"
      },
      "execution_count": 37,
      "outputs": [
        {
          "output_type": "display_data",
          "data": {
            "text/plain": [
              "<Figure size 864x576 with 2 Axes>"
            ],
            "image/png": "[encoded data removed]"
          },
          "metadata": {
            "needs_background": "light"
          }
        }
      ]
    },
    {
      "cell_type": "markdown",
      "source": [
        "##Evaluate model predictions"
      ],
      "metadata": {
        "id": "zirRMhaQNfkx"
      }
    },
    {
      "cell_type": "code",
      "source": [
        "test_accuracy = tf.keras.metrics.Accuracy()\n",
        "ds_test_batch = ds_test.batch(10)\n",
        "\n",
        "for (x, y) in ds_test_batch:\n",
        "    logits = model(x, training=False)\n",
        "    predictions = tf.argmax(logits, axis=1, output_type=tf.int64)\n",
        "    test_accuracy.update_state(predictions, y)\n",
        "\n",
        "print(\"Test accuracy: {:.3f}\".format(test_accuracy.result()))"
      ],
      "metadata": {
        "colab": {
          "base_uri": "https://localhost:8080/"
        },
        "id": "HnTRQUxZKudK",
        "outputId": "68ab2361-cd5c-4f84-e60c-4d2cc6e6dbff"
      },
      "execution_count": 43,
      "outputs": [
        {
          "output_type": "stream",
          "name": "stdout",
          "text": [
            "Test accuracy: 0.955\n"
          ]
        }
      ]
    },
    {
      "cell_type": "code",
      "source": [
        "tf.stack([y, predictions], axis=1)"
      ],
      "metadata": {
        "colab": {
          "base_uri": "https://localhost:8080/"
        },
        "id": "_COwX0iFOk4b",
        "outputId": "8851b888-e920-4ccb-be41-ba34edbc6b5f"
      },
      "execution_count": 44,
      "outputs": [
        {
          "output_type": "execute_result",
          "data": {
            "text/plain": [
              "<tf.Tensor: shape=(7, 2), dtype=int64, numpy=\n",
              "array([[1, 1],\n",
              "       [0, 0],\n",
              "       [2, 2],\n",
              "       [0, 0],\n",
              "       [1, 1],\n",
              "       [2, 2],\n",
              "       [0, 0]])>"
            ]
          },
          "metadata": {},
          "execution_count": 44
        }
      ]
    },
    {
      "cell_type": "markdown",
      "source": [
        "##Use trained model to make predictions"
      ],
      "metadata": {
        "id": "beNXbANRT37w"
      }
    },
    {
      "cell_type": "code",
      "source": [
        "class_names = {0: 'Adélie penguin', 1: 'Chinstrap penguin', 2: 'Gentoo penguin'}"
      ],
      "metadata": {
        "id": "PDYXZAVgVLzu"
      },
      "execution_count": 45,
      "outputs": []
    },
    {
      "cell_type": "code",
      "source": [
        "predict_dataset = tf.convert_to_tensor([\n",
        "    [0.3, 0.8, 0.4, 0.5,],\n",
        "    [0.4, 0.1, 0.8, 0.5,],\n",
        "    [0.7, 0.9, 0.8, 0.4]\n",
        "])\n",
        "\n",
        "predictions = model(predict_dataset, training=False)\n",
        "for i, logits in enumerate(predictions):\n",
        "    class_idx = tf.argmax(logits).numpy()\n",
        "    probability = tf.nn.softmax(logits)[class_idx]\n",
        "    name = class_names[class_idx]\n",
        "    print(\"Example: {} prediction: {} ({:4.1f}%)\".format(i, name, 100*probability))\n",
        "    "
      ],
      "metadata": {
        "colab": {
          "base_uri": "https://localhost:8080/"
        },
        "id": "JXmtwRqqTxTS",
        "outputId": "72009b7d-faed-4561-b74e-a471e920d8d9"
      },
      "execution_count": 46,
      "outputs": [
        {
          "output_type": "stream",
          "name": "stdout",
          "text": [
            "Example: 0 prediction: Adélie penguin (92.3%)\n",
            "Example: 1 prediction: Gentoo penguin (89.8%)\n",
            "Example: 2 prediction: Chinstrap penguin (67.7%)\n"
          ]
        }
      ]
    }
  ]
}
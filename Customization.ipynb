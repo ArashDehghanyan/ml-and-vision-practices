{
  "nbformat": 4,
  "nbformat_minor": 0,
  "metadata": {
    "colab": {
      "name": "Customization.ipynb",
      "provenance": [],
      "collapsed_sections": [],
      "authorship_tag": "ABX9TyOD4tH1x0J4FxctAwrQwmT2",
      "include_colab_link": true
    },
    "kernelspec": {
      "name": "python3",
      "display_name": "Python 3"
    },
    "language_info": {
      "name": "python"
    },
    "accelerator": "GPU",
    "widgets": {
      "application/vnd.jupyter.widget-state+json": {
        "64dc9a593cba4f79a32cf8d608e2b6ea": {
          "model_module": "@jupyter-widgets/controls",
          "model_name": "HBoxModel",
          "model_module_version": "1.5.0",
          "state": {
            "_dom_classes": [],
            "_model_module": "@jupyter-widgets/controls",
            "_model_module_version": "1.5.0",
            "_model_name": "HBoxModel",
            "_view_count": null,
            "_view_module": "@jupyter-widgets/controls",
            "_view_module_version": "1.5.0",
            "_view_name": "HBoxView",
            "box_style": "",
            "children": [
              "IPY_MODEL_d9ef71d8d155412d93811f1807ca6144",
              "IPY_MODEL_12ee43b56c194b59bc02f0dc2f7e13b2",
              "IPY_MODEL_bfee8ae409dd4b8b803fd0b765d381a5"
            ],
            "layout": "IPY_MODEL_b0a4c2810b614b8abead9b19727d179b"
          }
        },
        "d9ef71d8d155412d93811f1807ca6144": {
          "model_module": "@jupyter-widgets/controls",
          "model_name": "HTMLModel",
          "model_module_version": "1.5.0",
          "state": {
            "_dom_classes": [],
            "_model_module": "@jupyter-widgets/controls",
            "_model_module_version": "1.5.0",
            "_model_name": "HTMLModel",
            "_view_count": null,
            "_view_module": "@jupyter-widgets/controls",
            "_view_module_version": "1.5.0",
            "_view_name": "HTMLView",
            "description": "",
            "description_tooltip": null,
            "layout": "IPY_MODEL_20bc8ca7daa24bf39451a296f41f70c8",
            "placeholder": "​",
            "style": "IPY_MODEL_e9c0b7f28eb945f4b7d89ae29ee8f736",
            "value": "Dl Completed...: 100%"
          }
        },
        "12ee43b56c194b59bc02f0dc2f7e13b2": {
          "model_module": "@jupyter-widgets/controls",
          "model_name": "FloatProgressModel",
          "model_module_version": "1.5.0",
          "state": {
            "_dom_classes": [],
            "_model_module": "@jupyter-widgets/controls",
            "_model_module_version": "1.5.0",
            "_model_name": "FloatProgressModel",
            "_view_count": null,
            "_view_module": "@jupyter-widgets/controls",
            "_view_module_version": "1.5.0",
            "_view_name": "ProgressView",
            "bar_style": "success",
            "description": "",
            "description_tooltip": null,
            "layout": "IPY_MODEL_b16b62bf405b466c942c8683aba2ee66",
            "max": 1,
            "min": 0,
            "orientation": "horizontal",
            "style": "IPY_MODEL_3a378fa6ac874ad886910f33aa0d0668",
            "value": 1
          }
        },
        "bfee8ae409dd4b8b803fd0b765d381a5": {
          "model_module": "@jupyter-widgets/controls",
          "model_name": "HTMLModel",
          "model_module_version": "1.5.0",
          "state": {
            "_dom_classes": [],
            "_model_module": "@jupyter-widgets/controls",
            "_model_module_version": "1.5.0",
            "_model_name": "HTMLModel",
            "_view_count": null,
            "_view_module": "@jupyter-widgets/controls",
            "_view_module_version": "1.5.0",
            "_view_name": "HTMLView",
            "description": "",
            "description_tooltip": null,
            "layout": "IPY_MODEL_36d330f915174849b41213223221a89c",
            "placeholder": "​",
            "style": "IPY_MODEL_8c6c2eacca3f436fad94732e3065b028",
            "value": " 1/1 [00:00&lt;00:00,  4.16 url/s]"
          }
        },
        "b0a4c2810b614b8abead9b19727d179b": {
          "model_module": "@jupyter-widgets/base",
          "model_name": "LayoutModel",
          "model_module_version": "1.2.0",
          "state": {
            "_model_module": "@jupyter-widgets/base",
            "_model_module_version": "1.2.0",
            "_model_name": "LayoutModel",
            "_view_count": null,
            "_view_module": "@jupyter-widgets/base",
            "_view_module_version": "1.2.0",
            "_view_name": "LayoutView",
            "align_content": null,
            "align_items": null,
            "align_self": null,
            "border": null,
            "bottom": null,
            "display": null,
            "flex": null,
            "flex_flow": null,
            "grid_area": null,
            "grid_auto_columns": null,
            "grid_auto_flow": null,
            "grid_auto_rows": null,
            "grid_column": null,
            "grid_gap": null,
            "grid_row": null,
            "grid_template_areas": null,
            "grid_template_columns": null,
            "grid_template_rows": null,
            "height": null,
            "justify_content": null,
            "justify_items": null,
            "left": null,
            "margin": null,
            "max_height": null,
            "max_width": null,
            "min_height": null,
            "min_width": null,
            "object_fit": null,
            "object_position": null,
            "order": null,
            "overflow": null,
            "overflow_x": null,
            "overflow_y": null,
            "padding": null,
            "right": null,
            "top": null,
            "visibility": null,
            "width": null
          }
        },
        "20bc8ca7daa24bf39451a296f41f70c8": {
          "model_module": "@jupyter-widgets/base",
          "model_name": "LayoutModel",
          "model_module_version": "1.2.0",
          "state": {
            "_model_module": "@jupyter-widgets/base",
            "_model_module_version": "1.2.0",
            "_model_name": "LayoutModel",
            "_view_count": null,
            "_view_module": "@jupyter-widgets/base",
            "_view_module_version": "1.2.0",
            "_view_name": "LayoutView",
            "align_content": null,
            "align_items": null,
            "align_self": null,
            "border": null,
            "bottom": null,
            "display": null,
            "flex": null,
            "flex_flow": null,
            "grid_area": null,
            "grid_auto_columns": null,
            "grid_auto_flow": null,
            "grid_auto_rows": null,
            "grid_column": null,
            "grid_gap": null,
            "grid_row": null,
            "grid_template_areas": null,
            "grid_template_columns": null,
            "grid_template_rows": null,
            "height": null,
            "justify_content": null,
            "justify_items": null,
            "left": null,
            "margin": null,
            "max_height": null,
            "max_width": null,
            "min_height": null,
            "min_width": null,
            "object_fit": null,
            "object_position": null,
            "order": null,
            "overflow": null,
            "overflow_x": null,
            "overflow_y": null,
            "padding": null,
            "right": null,
            "top": null,
            "visibility": null,
            "width": null
          }
        },
        "e9c0b7f28eb945f4b7d89ae29ee8f736": {
          "model_module": "@jupyter-widgets/controls",
          "model_name": "DescriptionStyleModel",
          "model_module_version": "1.5.0",
          "state": {
            "_model_module": "@jupyter-widgets/controls",
            "_model_module_version": "1.5.0",
            "_model_name": "DescriptionStyleModel",
            "_view_count": null,
            "_view_module": "@jupyter-widgets/base",
            "_view_module_version": "1.2.0",
            "_view_name": "StyleView",
            "description_width": ""
          }
        },
        "b16b62bf405b466c942c8683aba2ee66": {
          "model_module": "@jupyter-widgets/base",
          "model_name": "LayoutModel",
          "model_module_version": "1.2.0",
          "state": {
            "_model_module": "@jupyter-widgets/base",
            "_model_module_version": "1.2.0",
            "_model_name": "LayoutModel",
            "_view_count": null,
            "_view_module": "@jupyter-widgets/base",
            "_view_module_version": "1.2.0",
            "_view_name": "LayoutView",
            "align_content": null,
            "align_items": null,
            "align_self": null,
            "border": null,
            "bottom": null,
            "display": null,
            "flex": null,
            "flex_flow": null,
            "grid_area": null,
            "grid_auto_columns": null,
            "grid_auto_flow": null,
            "grid_auto_rows": null,
            "grid_column": null,
            "grid_gap": null,
            "grid_row": null,
            "grid_template_areas": null,
            "grid_template_columns": null,
            "grid_template_rows": null,
            "height": null,
            "justify_content": null,
            "justify_items": null,
            "left": null,
            "margin": null,
            "max_height": null,
            "max_width": null,
            "min_height": null,
            "min_width": null,
            "object_fit": null,
            "object_position": null,
            "order": null,
            "overflow": null,
            "overflow_x": null,
            "overflow_y": null,
            "padding": null,
            "right": null,
            "top": null,
            "visibility": null,
            "width": "20px"
          }
        },
        "3a378fa6ac874ad886910f33aa0d0668": {
          "model_module": "@jupyter-widgets/controls",
          "model_name": "ProgressStyleModel",
          "model_module_version": "1.5.0",
          "state": {
            "_model_module": "@jupyter-widgets/controls",
            "_model_module_version": "1.5.0",
            "_model_name": "ProgressStyleModel",
            "_view_count": null,
            "_view_module": "@jupyter-widgets/base",
            "_view_module_version": "1.2.0",
            "_view_name": "StyleView",
            "bar_color": null,
            "description_width": ""
          }
        },
        "36d330f915174849b41213223221a89c": {
          "model_module": "@jupyter-widgets/base",
          "model_name": "LayoutModel",
          "model_module_version": "1.2.0",
          "state": {
            "_model_module": "@jupyter-widgets/base",
            "_model_module_version": "1.2.0",
            "_model_name": "LayoutModel",
            "_view_count": null,
            "_view_module": "@jupyter-widgets/base",
            "_view_module_version": "1.2.0",
            "_view_name": "LayoutView",
            "align_content": null,
            "align_items": null,
            "align_self": null,
            "border": null,
            "bottom": null,
            "display": null,
            "flex": null,
            "flex_flow": null,
            "grid_area": null,
            "grid_auto_columns": null,
            "grid_auto_flow": null,
            "grid_auto_rows": null,
            "grid_column": null,
            "grid_gap": null,
            "grid_row": null,
            "grid_template_areas": null,
            "grid_template_columns": null,
            "grid_template_rows": null,
            "height": null,
            "justify_content": null,
            "justify_items": null,
            "left": null,
            "margin": null,
            "max_height": null,
            "max_width": null,
            "min_height": null,
            "min_width": null,
            "object_fit": null,
            "object_position": null,
            "order": null,
            "overflow": null,
            "overflow_x": null,
            "overflow_y": null,
            "padding": null,
            "right": null,
            "top": null,
            "visibility": null,
            "width": null
          }
        },
        "8c6c2eacca3f436fad94732e3065b028": {
          "model_module": "@jupyter-widgets/controls",
          "model_name": "DescriptionStyleModel",
          "model_module_version": "1.5.0",
          "state": {
            "_model_module": "@jupyter-widgets/controls",
            "_model_module_version": "1.5.0",
            "_model_name": "DescriptionStyleModel",
            "_view_count": null,
            "_view_module": "@jupyter-widgets/base",
            "_view_module_version": "1.2.0",
            "_view_name": "StyleView",
            "description_width": ""
          }
        },
        "de05cc3506e349899ea2a6089ef0764c": {
          "model_module": "@jupyter-widgets/controls",
          "model_name": "HBoxModel",
          "model_module_version": "1.5.0",
          "state": {
            "_dom_classes": [],
            "_model_module": "@jupyter-widgets/controls",
            "_model_module_version": "1.5.0",
            "_model_name": "HBoxModel",
            "_view_count": null,
            "_view_module": "@jupyter-widgets/controls",
            "_view_module_version": "1.5.0",
            "_view_name": "HBoxView",
            "box_style": "",
            "children": [
              "IPY_MODEL_74dddb7cccfd4506b608c8a6aa75dd2a",
              "IPY_MODEL_4f0ab76c5d774ea493a77ed0e84c2008",
              "IPY_MODEL_8686b9513a444fccb08278cb2ddf3e9d"
            ],
            "layout": "IPY_MODEL_311110e8b5fd4b3790fc0062a7240e8c"
          }
        },
        "74dddb7cccfd4506b608c8a6aa75dd2a": {
          "model_module": "@jupyter-widgets/controls",
          "model_name": "HTMLModel",
          "model_module_version": "1.5.0",
          "state": {
            "_dom_classes": [],
            "_model_module": "@jupyter-widgets/controls",
            "_model_module_version": "1.5.0",
            "_model_name": "HTMLModel",
            "_view_count": null,
            "_view_module": "@jupyter-widgets/controls",
            "_view_module_version": "1.5.0",
            "_view_name": "HTMLView",
            "description": "",
            "description_tooltip": null,
            "layout": "IPY_MODEL_e6def0caaa1e468193ff11845e92c7a3",
            "placeholder": "​",
            "style": "IPY_MODEL_65d96bcb84a8429d951701684fa45422",
            "value": "Dl Size...: "
          }
        },
        "4f0ab76c5d774ea493a77ed0e84c2008": {
          "model_module": "@jupyter-widgets/controls",
          "model_name": "FloatProgressModel",
          "model_module_version": "1.5.0",
          "state": {
            "_dom_classes": [],
            "_model_module": "@jupyter-widgets/controls",
            "_model_module_version": "1.5.0",
            "_model_name": "FloatProgressModel",
            "_view_count": null,
            "_view_module": "@jupyter-widgets/controls",
            "_view_module_version": "1.5.0",
            "_view_name": "ProgressView",
            "bar_style": "success",
            "description": "",
            "description_tooltip": null,
            "layout": "IPY_MODEL_ba9ca699ca594538b19ebeb6bb60d804",
            "max": 1,
            "min": 0,
            "orientation": "horizontal",
            "style": "IPY_MODEL_638de220001f4563ab2a3862db75da85",
            "value": 0
          }
        },
        "8686b9513a444fccb08278cb2ddf3e9d": {
          "model_module": "@jupyter-widgets/controls",
          "model_name": "HTMLModel",
          "model_module_version": "1.5.0",
          "state": {
            "_dom_classes": [],
            "_model_module": "@jupyter-widgets/controls",
            "_model_module_version": "1.5.0",
            "_model_name": "HTMLModel",
            "_view_count": null,
            "_view_module": "@jupyter-widgets/controls",
            "_view_module_version": "1.5.0",
            "_view_name": "HTMLView",
            "description": "",
            "description_tooltip": null,
            "layout": "IPY_MODEL_b68ed1d1864f425d81e7f6ea28242406",
            "placeholder": "​",
            "style": "IPY_MODEL_618938689f5644f9914bd6be52a175c0",
            "value": " 0/0 [00:00&lt;?, ? MiB/s]"
          }
        },
        "311110e8b5fd4b3790fc0062a7240e8c": {
          "model_module": "@jupyter-widgets/base",
          "model_name": "LayoutModel",
          "model_module_version": "1.2.0",
          "state": {
            "_model_module": "@jupyter-widgets/base",
            "_model_module_version": "1.2.0",
            "_model_name": "LayoutModel",
            "_view_count": null,
            "_view_module": "@jupyter-widgets/base",
            "_view_module_version": "1.2.0",
            "_view_name": "LayoutView",
            "align_content": null,
            "align_items": null,
            "align_self": null,
            "border": null,
            "bottom": null,
            "display": null,
            "flex": null,
            "flex_flow": null,
            "grid_area": null,
            "grid_auto_columns": null,
            "grid_auto_flow": null,
            "grid_auto_rows": null,
            "grid_column": null,
            "grid_gap": null,
            "grid_row": null,
            "grid_template_areas": null,
            "grid_template_columns": null,
            "grid_template_rows": null,
            "height": null,
            "justify_content": null,
            "justify_items": null,
            "left": null,
            "margin": null,
            "max_height": null,
            "max_width": null,
            "min_height": null,
            "min_width": null,
            "object_fit": null,
            "object_position": null,
            "order": null,
            "overflow": null,
            "overflow_x": null,
            "overflow_y": null,
            "padding": null,
            "right": null,
            "top": null,
            "visibility": null,
            "width": null
          }
        },
        "e6def0caaa1e468193ff11845e92c7a3": {
          "model_module": "@jupyter-widgets/base",
          "model_name": "LayoutModel",
          "model_module_version": "1.2.0",
          "state": {
            "_model_module": "@jupyter-widgets/base",
            "_model_module_version": "1.2.0",
            "_model_name": "LayoutModel",
            "_view_count": null,
            "_view_module": "@jupyter-widgets/base",
            "_view_module_version": "1.2.0",
            "_view_name": "LayoutView",
            "align_content": null,
            "align_items": null,
            "align_self": null,
            "border": null,
            "bottom": null,
            "display": null,
            "flex": null,
            "flex_flow": null,
            "grid_area": null,
            "grid_auto_columns": null,
            "grid_auto_flow": null,
            "grid_auto_rows": null,
            "grid_column": null,
            "grid_gap": null,
            "grid_row": null,
            "grid_template_areas": null,
            "grid_template_columns": null,
            "grid_template_rows": null,
            "height": null,
            "justify_content": null,
            "justify_items": null,
            "left": null,
            "margin": null,
            "max_height": null,
            "max_width": null,
            "min_height": null,
            "min_width": null,
            "object_fit": null,
            "object_position": null,
            "order": null,
            "overflow": null,
            "overflow_x": null,
            "overflow_y": null,
            "padding": null,
            "right": null,
            "top": null,
            "visibility": null,
            "width": null
          }
        },
        "65d96bcb84a8429d951701684fa45422": {
          "model_module": "@jupyter-widgets/controls",
          "model_name": "DescriptionStyleModel",
          "model_module_version": "1.5.0",
          "state": {
            "_model_module": "@jupyter-widgets/controls",
            "_model_module_version": "1.5.0",
            "_model_name": "DescriptionStyleModel",
            "_view_count": null,
            "_view_module": "@jupyter-widgets/base",
            "_view_module_version": "1.2.0",
            "_view_name": "StyleView",
            "description_width": ""
          }
        },
        "ba9ca699ca594538b19ebeb6bb60d804": {
          "model_module": "@jupyter-widgets/base",
          "model_name": "LayoutModel",
          "model_module_version": "1.2.0",
          "state": {
            "_model_module": "@jupyter-widgets/base",
            "_model_module_version": "1.2.0",
            "_model_name": "LayoutModel",
            "_view_count": null,
            "_view_module": "@jupyter-widgets/base",
            "_view_module_version": "1.2.0",
            "_view_name": "LayoutView",
            "align_content": null,
            "align_items": null,
            "align_self": null,
            "border": null,
            "bottom": null,
            "display": null,
            "flex": null,
            "flex_flow": null,
            "grid_area": null,
            "grid_auto_columns": null,
            "grid_auto_flow": null,
            "grid_auto_rows": null,
            "grid_column": null,
            "grid_gap": null,
            "grid_row": null,
            "grid_template_areas": null,
            "grid_template_columns": null,
            "grid_template_rows": null,
            "height": null,
            "justify_content": null,
            "justify_items": null,
            "left": null,
            "margin": null,
            "max_height": null,
            "max_width": null,
            "min_height": null,
            "min_width": null,
            "object_fit": null,
            "object_position": null,
            "order": null,
            "overflow": null,
            "overflow_x": null,
            "overflow_y": null,
            "padding": null,
            "right": null,
            "top": null,
            "visibility": null,
            "width": "20px"
          }
        },
        "638de220001f4563ab2a3862db75da85": {
          "model_module": "@jupyter-widgets/controls",
          "model_name": "ProgressStyleModel",
          "model_module_version": "1.5.0",
          "state": {
            "_model_module": "@jupyter-widgets/controls",
            "_model_module_version": "1.5.0",
            "_model_name": "ProgressStyleModel",
            "_view_count": null,
            "_view_module": "@jupyter-widgets/base",
            "_view_module_version": "1.2.0",
            "_view_name": "StyleView",
            "bar_color": null,
            "description_width": ""
          }
        },
        "b68ed1d1864f425d81e7f6ea28242406": {
          "model_module": "@jupyter-widgets/base",
          "model_name": "LayoutModel",
          "model_module_version": "1.2.0",
          "state": {
            "_model_module": "@jupyter-widgets/base",
            "_model_module_version": "1.2.0",
            "_model_name": "LayoutModel",
            "_view_count": null,
            "_view_module": "@jupyter-widgets/base",
            "_view_module_version": "1.2.0",
            "_view_name": "LayoutView",
            "align_content": null,
            "align_items": null,
            "align_self": null,
            "border": null,
            "bottom": null,
            "display": null,
            "flex": null,
            "flex_flow": null,
            "grid_area": null,
            "grid_auto_columns": null,
            "grid_auto_flow": null,
            "grid_auto_rows": null,
            "grid_column": null,
            "grid_gap": null,
            "grid_row": null,
            "grid_template_areas": null,
            "grid_template_columns": null,
            "grid_template_rows": null,
            "height": null,
            "justify_content": null,
            "justify_items": null,
            "left": null,
            "margin": null,
            "max_height": null,
            "max_width": null,
            "min_height": null,
            "min_width": null,
            "object_fit": null,
            "object_position": null,
            "order": null,
            "overflow": null,
            "overflow_x": null,
            "overflow_y": null,
            "padding": null,
            "right": null,
            "top": null,
            "visibility": null,
            "width": null
          }
        },
        "618938689f5644f9914bd6be52a175c0": {
          "model_module": "@jupyter-widgets/controls",
          "model_name": "DescriptionStyleModel",
          "model_module_version": "1.5.0",
          "state": {
            "_model_module": "@jupyter-widgets/controls",
            "_model_module_version": "1.5.0",
            "_model_name": "DescriptionStyleModel",
            "_view_count": null,
            "_view_module": "@jupyter-widgets/base",
            "_view_module_version": "1.2.0",
            "_view_name": "StyleView",
            "description_width": ""
          }
        },
        "b35ee4b8a7d84b3ea2eb44f039b00779": {
          "model_module": "@jupyter-widgets/controls",
          "model_name": "HBoxModel",
          "model_module_version": "1.5.0",
          "state": {
            "_dom_classes": [],
            "_model_module": "@jupyter-widgets/controls",
            "_model_module_version": "1.5.0",
            "_model_name": "HBoxModel",
            "_view_count": null,
            "_view_module": "@jupyter-widgets/controls",
            "_view_module_version": "1.5.0",
            "_view_name": "HBoxView",
            "box_style": "",
            "children": [
              "IPY_MODEL_b057ff448faf491a975840905a1e90df",
              "IPY_MODEL_2fadc40806044d2fae2fd07192406769",
              "IPY_MODEL_1679d8355e3d4b60b7cb2cc90ae9c623"
            ],
            "layout": "IPY_MODEL_2b6b7c7a34ab4f34b2591d28b21aea1f"
          }
        },
        "b057ff448faf491a975840905a1e90df": {
          "model_module": "@jupyter-widgets/controls",
          "model_name": "HTMLModel",
          "model_module_version": "1.5.0",
          "state": {
            "_dom_classes": [],
            "_model_module": "@jupyter-widgets/controls",
            "_model_module_version": "1.5.0",
            "_model_name": "HTMLModel",
            "_view_count": null,
            "_view_module": "@jupyter-widgets/controls",
            "_view_module_version": "1.5.0",
            "_view_name": "HTMLView",
            "description": "",
            "description_tooltip": null,
            "layout": "IPY_MODEL_b537993957644459bbe6b6cc90c93a8b",
            "placeholder": "​",
            "style": "IPY_MODEL_8f3573916e1343d58999bc00e50d0c3a",
            "value": "Generating splits...: 100%"
          }
        },
        "2fadc40806044d2fae2fd07192406769": {
          "model_module": "@jupyter-widgets/controls",
          "model_name": "FloatProgressModel",
          "model_module_version": "1.5.0",
          "state": {
            "_dom_classes": [],
            "_model_module": "@jupyter-widgets/controls",
            "_model_module_version": "1.5.0",
            "_model_name": "FloatProgressModel",
            "_view_count": null,
            "_view_module": "@jupyter-widgets/controls",
            "_view_module_version": "1.5.0",
            "_view_name": "ProgressView",
            "bar_style": "",
            "description": "",
            "description_tooltip": null,
            "layout": "IPY_MODEL_93c3e7eedb3640ffb843dd6100e8c8ba",
            "max": 1,
            "min": 0,
            "orientation": "horizontal",
            "style": "IPY_MODEL_baaf7a8d4519453a9ec4a3e6c6ac79fd",
            "value": 1
          }
        },
        "1679d8355e3d4b60b7cb2cc90ae9c623": {
          "model_module": "@jupyter-widgets/controls",
          "model_name": "HTMLModel",
          "model_module_version": "1.5.0",
          "state": {
            "_dom_classes": [],
            "_model_module": "@jupyter-widgets/controls",
            "_model_module_version": "1.5.0",
            "_model_name": "HTMLModel",
            "_view_count": null,
            "_view_module": "@jupyter-widgets/controls",
            "_view_module_version": "1.5.0",
            "_view_name": "HTMLView",
            "description": "",
            "description_tooltip": null,
            "layout": "IPY_MODEL_7b781b35a9cb43d881fc3eac6938f65c",
            "placeholder": "​",
            "style": "IPY_MODEL_5dfa046dfe5a40c4a25a3c3eb7ad3dfb",
            "value": " 1/1 [00:00&lt;00:00,  3.55 splits/s]"
          }
        },
        "2b6b7c7a34ab4f34b2591d28b21aea1f": {
          "model_module": "@jupyter-widgets/base",
          "model_name": "LayoutModel",
          "model_module_version": "1.2.0",
          "state": {
            "_model_module": "@jupyter-widgets/base",
            "_model_module_version": "1.2.0",
            "_model_name": "LayoutModel",
            "_view_count": null,
            "_view_module": "@jupyter-widgets/base",
            "_view_module_version": "1.2.0",
            "_view_name": "LayoutView",
            "align_content": null,
            "align_items": null,
            "align_self": null,
            "border": null,
            "bottom": null,
            "display": null,
            "flex": null,
            "flex_flow": null,
            "grid_area": null,
            "grid_auto_columns": null,
            "grid_auto_flow": null,
            "grid_auto_rows": null,
            "grid_column": null,
            "grid_gap": null,
            "grid_row": null,
            "grid_template_areas": null,
            "grid_template_columns": null,
            "grid_template_rows": null,
            "height": null,
            "justify_content": null,
            "justify_items": null,
            "left": null,
            "margin": null,
            "max_height": null,
            "max_width": null,
            "min_height": null,
            "min_width": null,
            "object_fit": null,
            "object_position": null,
            "order": null,
            "overflow": null,
            "overflow_x": null,
            "overflow_y": null,
            "padding": null,
            "right": null,
            "top": null,
            "visibility": null,
            "width": null
          }
        },
        "b537993957644459bbe6b6cc90c93a8b": {
          "model_module": "@jupyter-widgets/base",
          "model_name": "LayoutModel",
          "model_module_version": "1.2.0",
          "state": {
            "_model_module": "@jupyter-widgets/base",
            "_model_module_version": "1.2.0",
            "_model_name": "LayoutModel",
            "_view_count": null,
            "_view_module": "@jupyter-widgets/base",
            "_view_module_version": "1.2.0",
            "_view_name": "LayoutView",
            "align_content": null,
            "align_items": null,
            "align_self": null,
            "border": null,
            "bottom": null,
            "display": null,
            "flex": null,
            "flex_flow": null,
            "grid_area": null,
            "grid_auto_columns": null,
            "grid_auto_flow": null,
            "grid_auto_rows": null,
            "grid_column": null,
            "grid_gap": null,
            "grid_row": null,
            "grid_template_areas": null,
            "grid_template_columns": null,
            "grid_template_rows": null,
            "height": null,
            "justify_content": null,
            "justify_items": null,
            "left": null,
            "margin": null,
            "max_height": null,
            "max_width": null,
            "min_height": null,
            "min_width": null,
            "object_fit": null,
            "object_position": null,
            "order": null,
            "overflow": null,
            "overflow_x": null,
            "overflow_y": null,
            "padding": null,
            "right": null,
            "top": null,
            "visibility": null,
            "width": null
          }
        },
        "8f3573916e1343d58999bc00e50d0c3a": {
          "model_module": "@jupyter-widgets/controls",
          "model_name": "DescriptionStyleModel",
          "model_module_version": "1.5.0",
          "state": {
            "_model_module": "@jupyter-widgets/controls",
            "_model_module_version": "1.5.0",
            "_model_name": "DescriptionStyleModel",
            "_view_count": null,
            "_view_module": "@jupyter-widgets/base",
            "_view_module_version": "1.2.0",
            "_view_name": "StyleView",
            "description_width": ""
          }
        },
        "93c3e7eedb3640ffb843dd6100e8c8ba": {
          "model_module": "@jupyter-widgets/base",
          "model_name": "LayoutModel",
          "model_module_version": "1.2.0",
          "state": {
            "_model_module": "@jupyter-widgets/base",
            "_model_module_version": "1.2.0",
            "_model_name": "LayoutModel",
            "_view_count": null,
            "_view_module": "@jupyter-widgets/base",
            "_view_module_version": "1.2.0",
            "_view_name": "LayoutView",
            "align_content": null,
            "align_items": null,
            "align_self": null,
            "border": null,
            "bottom": null,
            "display": null,
            "flex": null,
            "flex_flow": null,
            "grid_area": null,
            "grid_auto_columns": null,
            "grid_auto_flow": null,
            "grid_auto_rows": null,
            "grid_column": null,
            "grid_gap": null,
            "grid_row": null,
            "grid_template_areas": null,
            "grid_template_columns": null,
            "grid_template_rows": null,
            "height": null,
            "justify_content": null,
            "justify_items": null,
            "left": null,
            "margin": null,
            "max_height": null,
            "max_width": null,
            "min_height": null,
            "min_width": null,
            "object_fit": null,
            "object_position": null,
            "order": null,
            "overflow": null,
            "overflow_x": null,
            "overflow_y": null,
            "padding": null,
            "right": null,
            "top": null,
            "visibility": null,
            "width": null
          }
        },
        "baaf7a8d4519453a9ec4a3e6c6ac79fd": {
          "model_module": "@jupyter-widgets/controls",
          "model_name": "ProgressStyleModel",
          "model_module_version": "1.5.0",
          "state": {
            "_model_module": "@jupyter-widgets/controls",
            "_model_module_version": "1.5.0",
            "_model_name": "ProgressStyleModel",
            "_view_count": null,
            "_view_module": "@jupyter-widgets/base",
            "_view_module_version": "1.2.0",
            "_view_name": "StyleView",
            "bar_color": null,
            "description_width": ""
          }
        },
        "7b781b35a9cb43d881fc3eac6938f65c": {
          "model_module": "@jupyter-widgets/base",
          "model_name": "LayoutModel",
          "model_module_version": "1.2.0",
          "state": {
            "_model_module": "@jupyter-widgets/base",
            "_model_module_version": "1.2.0",
            "_model_name": "LayoutModel",
            "_view_count": null,
            "_view_module": "@jupyter-widgets/base",
            "_view_module_version": "1.2.0",
            "_view_name": "LayoutView",
            "align_content": null,
            "align_items": null,
            "align_self": null,
            "border": null,
            "bottom": null,
            "display": null,
            "flex": null,
            "flex_flow": null,
            "grid_area": null,
            "grid_auto_columns": null,
            "grid_auto_flow": null,
            "grid_auto_rows": null,
            "grid_column": null,
            "grid_gap": null,
            "grid_row": null,
            "grid_template_areas": null,
            "grid_template_columns": null,
            "grid_template_rows": null,
            "height": null,
            "justify_content": null,
            "justify_items": null,
            "left": null,
            "margin": null,
            "max_height": null,
            "max_width": null,
            "min_height": null,
            "min_width": null,
            "object_fit": null,
            "object_position": null,
            "order": null,
            "overflow": null,
            "overflow_x": null,
            "overflow_y": null,
            "padding": null,
            "right": null,
            "top": null,
            "visibility": null,
            "width": null
          }
        },
        "5dfa046dfe5a40c4a25a3c3eb7ad3dfb": {
          "model_module": "@jupyter-widgets/controls",
          "model_name": "DescriptionStyleModel",
          "model_module_version": "1.5.0",
          "state": {
            "_model_module": "@jupyter-widgets/controls",
            "_model_module_version": "1.5.0",
            "_model_name": "DescriptionStyleModel",
            "_view_count": null,
            "_view_module": "@jupyter-widgets/base",
            "_view_module_version": "1.2.0",
            "_view_name": "StyleView",
            "description_width": ""
          }
        },
        "98713175a6874727ab1b7d055269be5b": {
          "model_module": "@jupyter-widgets/controls",
          "model_name": "HBoxModel",
          "model_module_version": "1.5.0",
          "state": {
            "_dom_classes": [],
            "_model_module": "@jupyter-widgets/controls",
            "_model_module_version": "1.5.0",
            "_model_name": "HBoxModel",
            "_view_count": null,
            "_view_module": "@jupyter-widgets/controls",
            "_view_module_version": "1.5.0",
            "_view_name": "HBoxView",
            "box_style": "",
            "children": [
              "IPY_MODEL_77bec93e8eb445688a6ba90af3db96a9",
              "IPY_MODEL_d8537d8e88814bf3946e0dde445a0f20",
              "IPY_MODEL_efa76cbd327e4400974df4356894ae8e"
            ],
            "layout": "IPY_MODEL_1eaa59676eef4547940d0c1cb9c56271"
          }
        },
        "77bec93e8eb445688a6ba90af3db96a9": {
          "model_module": "@jupyter-widgets/controls",
          "model_name": "HTMLModel",
          "model_module_version": "1.5.0",
          "state": {
            "_dom_classes": [],
            "_model_module": "@jupyter-widgets/controls",
            "_model_module_version": "1.5.0",
            "_model_name": "HTMLModel",
            "_view_count": null,
            "_view_module": "@jupyter-widgets/controls",
            "_view_module_version": "1.5.0",
            "_view_name": "HTMLView",
            "description": "",
            "description_tooltip": null,
            "layout": "IPY_MODEL_ea7997b6b44d4726a587f1fa492c7fe2",
            "placeholder": "​",
            "style": "IPY_MODEL_dd53ad25bbee4c00994dc17dfd5642e8",
            "value": "Generating train examples...:  29%"
          }
        },
        "d8537d8e88814bf3946e0dde445a0f20": {
          "model_module": "@jupyter-widgets/controls",
          "model_name": "FloatProgressModel",
          "model_module_version": "1.5.0",
          "state": {
            "_dom_classes": [],
            "_model_module": "@jupyter-widgets/controls",
            "_model_module_version": "1.5.0",
            "_model_name": "FloatProgressModel",
            "_view_count": null,
            "_view_module": "@jupyter-widgets/controls",
            "_view_module_version": "1.5.0",
            "_view_name": "ProgressView",
            "bar_style": "",
            "description": "",
            "description_tooltip": null,
            "layout": "IPY_MODEL_1f0dab820d8b45088fa084899ae4d62b",
            "max": 334,
            "min": 0,
            "orientation": "horizontal",
            "style": "IPY_MODEL_8b1a73c4c7244e06ac1a5336d0cece10",
            "value": 334
          }
        },
        "efa76cbd327e4400974df4356894ae8e": {
          "model_module": "@jupyter-widgets/controls",
          "model_name": "HTMLModel",
          "model_module_version": "1.5.0",
          "state": {
            "_dom_classes": [],
            "_model_module": "@jupyter-widgets/controls",
            "_model_module_version": "1.5.0",
            "_model_name": "HTMLModel",
            "_view_count": null,
            "_view_module": "@jupyter-widgets/controls",
            "_view_module_version": "1.5.0",
            "_view_name": "HTMLView",
            "description": "",
            "description_tooltip": null,
            "layout": "IPY_MODEL_ef231867530945399e3463ac95b9182e",
            "placeholder": "​",
            "style": "IPY_MODEL_063404b94c294f168cff9fc3ce90325e",
            "value": " 96/334 [00:00&lt;00:00, 957.24 examples/s]"
          }
        },
        "1eaa59676eef4547940d0c1cb9c56271": {
          "model_module": "@jupyter-widgets/base",
          "model_name": "LayoutModel",
          "model_module_version": "1.2.0",
          "state": {
            "_model_module": "@jupyter-widgets/base",
            "_model_module_version": "1.2.0",
            "_model_name": "LayoutModel",
            "_view_count": null,
            "_view_module": "@jupyter-widgets/base",
            "_view_module_version": "1.2.0",
            "_view_name": "LayoutView",
            "align_content": null,
            "align_items": null,
            "align_self": null,
            "border": null,
            "bottom": null,
            "display": null,
            "flex": null,
            "flex_flow": null,
            "grid_area": null,
            "grid_auto_columns": null,
            "grid_auto_flow": null,
            "grid_auto_rows": null,
            "grid_column": null,
            "grid_gap": null,
            "grid_row": null,
            "grid_template_areas": null,
            "grid_template_columns": null,
            "grid_template_rows": null,
            "height": null,
            "justify_content": null,
            "justify_items": null,
            "left": null,
            "margin": null,
            "max_height": null,
            "max_width": null,
            "min_height": null,
            "min_width": null,
            "object_fit": null,
            "object_position": null,
            "order": null,
            "overflow": null,
            "overflow_x": null,
            "overflow_y": null,
            "padding": null,
            "right": null,
            "top": null,
            "visibility": null,
            "width": null
          }
        },
        "ea7997b6b44d4726a587f1fa492c7fe2": {
          "model_module": "@jupyter-widgets/base",
          "model_name": "LayoutModel",
          "model_module_version": "1.2.0",
          "state": {
            "_model_module": "@jupyter-widgets/base",
            "_model_module_version": "1.2.0",
            "_model_name": "LayoutModel",
            "_view_count": null,
            "_view_module": "@jupyter-widgets/base",
            "_view_module_version": "1.2.0",
            "_view_name": "LayoutView",
            "align_content": null,
            "align_items": null,
            "align_self": null,
            "border": null,
            "bottom": null,
            "display": null,
            "flex": null,
            "flex_flow": null,
            "grid_area": null,
            "grid_auto_columns": null,
            "grid_auto_flow": null,
            "grid_auto_rows": null,
            "grid_column": null,
            "grid_gap": null,
            "grid_row": null,
            "grid_template_areas": null,
            "grid_template_columns": null,
            "grid_template_rows": null,
            "height": null,
            "justify_content": null,
            "justify_items": null,
            "left": null,
            "margin": null,
            "max_height": null,
            "max_width": null,
            "min_height": null,
            "min_width": null,
            "object_fit": null,
            "object_position": null,
            "order": null,
            "overflow": null,
            "overflow_x": null,
            "overflow_y": null,
            "padding": null,
            "right": null,
            "top": null,
            "visibility": null,
            "width": null
          }
        },
        "dd53ad25bbee4c00994dc17dfd5642e8": {
          "model_module": "@jupyter-widgets/controls",
          "model_name": "DescriptionStyleModel",
          "model_module_version": "1.5.0",
          "state": {
            "_model_module": "@jupyter-widgets/controls",
            "_model_module_version": "1.5.0",
            "_model_name": "DescriptionStyleModel",
            "_view_count": null,
            "_view_module": "@jupyter-widgets/base",
            "_view_module_version": "1.2.0",
            "_view_name": "StyleView",
            "description_width": ""
          }
        },
        "1f0dab820d8b45088fa084899ae4d62b": {
          "model_module": "@jupyter-widgets/base",
          "model_name": "LayoutModel",
          "model_module_version": "1.2.0",
          "state": {
            "_model_module": "@jupyter-widgets/base",
            "_model_module_version": "1.2.0",
            "_model_name": "LayoutModel",
            "_view_count": null,
            "_view_module": "@jupyter-widgets/base",
            "_view_module_version": "1.2.0",
            "_view_name": "LayoutView",
            "align_content": null,
            "align_items": null,
            "align_self": null,
            "border": null,
            "bottom": null,
            "display": null,
            "flex": null,
            "flex_flow": null,
            "grid_area": null,
            "grid_auto_columns": null,
            "grid_auto_flow": null,
            "grid_auto_rows": null,
            "grid_column": null,
            "grid_gap": null,
            "grid_row": null,
            "grid_template_areas": null,
            "grid_template_columns": null,
            "grid_template_rows": null,
            "height": null,
            "justify_content": null,
            "justify_items": null,
            "left": null,
            "margin": null,
            "max_height": null,
            "max_width": null,
            "min_height": null,
            "min_width": null,
            "object_fit": null,
            "object_position": null,
            "order": null,
            "overflow": null,
            "overflow_x": null,
            "overflow_y": null,
            "padding": null,
            "right": null,
            "top": null,
            "visibility": null,
            "width": null
          }
        },
        "8b1a73c4c7244e06ac1a5336d0cece10": {
          "model_module": "@jupyter-widgets/controls",
          "model_name": "ProgressStyleModel",
          "model_module_version": "1.5.0",
          "state": {
            "_model_module": "@jupyter-widgets/controls",
            "_model_module_version": "1.5.0",
            "_model_name": "ProgressStyleModel",
            "_view_count": null,
            "_view_module": "@jupyter-widgets/base",
            "_view_module_version": "1.2.0",
            "_view_name": "StyleView",
            "bar_color": null,
            "description_width": ""
          }
        },
        "ef231867530945399e3463ac95b9182e": {
          "model_module": "@jupyter-widgets/base",
          "model_name": "LayoutModel",
          "model_module_version": "1.2.0",
          "state": {
            "_model_module": "@jupyter-widgets/base",
            "_model_module_version": "1.2.0",
            "_model_name": "LayoutModel",
            "_view_count": null,
            "_view_module": "@jupyter-widgets/base",
            "_view_module_version": "1.2.0",
            "_view_name": "LayoutView",
            "align_content": null,
            "align_items": null,
            "align_self": null,
            "border": null,
            "bottom": null,
            "display": null,
            "flex": null,
            "flex_flow": null,
            "grid_area": null,
            "grid_auto_columns": null,
            "grid_auto_flow": null,
            "grid_auto_rows": null,
            "grid_column": null,
            "grid_gap": null,
            "grid_row": null,
            "grid_template_areas": null,
            "grid_template_columns": null,
            "grid_template_rows": null,
            "height": null,
            "justify_content": null,
            "justify_items": null,
            "left": null,
            "margin": null,
            "max_height": null,
            "max_width": null,
            "min_height": null,
            "min_width": null,
            "object_fit": null,
            "object_position": null,
            "order": null,
            "overflow": null,
            "overflow_x": null,
            "overflow_y": null,
            "padding": null,
            "right": null,
            "top": null,
            "visibility": null,
            "width": null
          }
        },
        "063404b94c294f168cff9fc3ce90325e": {
          "model_module": "@jupyter-widgets/controls",
          "model_name": "DescriptionStyleModel",
          "model_module_version": "1.5.0",
          "state": {
            "_model_module": "@jupyter-widgets/controls",
            "_model_module_version": "1.5.0",
            "_model_name": "DescriptionStyleModel",
            "_view_count": null,
            "_view_module": "@jupyter-widgets/base",
            "_view_module_version": "1.2.0",
            "_view_name": "StyleView",
            "description_width": ""
          }
        },
        "1900164be0e445ceb94fd0fa133464ea": {
          "model_module": "@jupyter-widgets/controls",
          "model_name": "HBoxModel",
          "model_module_version": "1.5.0",
          "state": {
            "_dom_classes": [],
            "_model_module": "@jupyter-widgets/controls",
            "_model_module_version": "1.5.0",
            "_model_name": "HBoxModel",
            "_view_count": null,
            "_view_module": "@jupyter-widgets/controls",
            "_view_module_version": "1.5.0",
            "_view_name": "HBoxView",
            "box_style": "",
            "children": [
              "IPY_MODEL_806395c93f374cbda67ca699dbf4d282",
              "IPY_MODEL_bb9a0f0cb92d43baabd39c67f809c38b",
              "IPY_MODEL_8300202e7e9b40e0b01eb854b5f1eb26"
            ],
            "layout": "IPY_MODEL_ae7a6ff51d424839b3badf7c015a20b5"
          }
        },
        "806395c93f374cbda67ca699dbf4d282": {
          "model_module": "@jupyter-widgets/controls",
          "model_name": "HTMLModel",
          "model_module_version": "1.5.0",
          "state": {
            "_dom_classes": [],
            "_model_module": "@jupyter-widgets/controls",
            "_model_module_version": "1.5.0",
            "_model_name": "HTMLModel",
            "_view_count": null,
            "_view_module": "@jupyter-widgets/controls",
            "_view_module_version": "1.5.0",
            "_view_name": "HTMLView",
            "description": "",
            "description_tooltip": null,
            "layout": "IPY_MODEL_ed4bd18360804764ab8465c94e27917f",
            "placeholder": "​",
            "style": "IPY_MODEL_f69614c0ac7e4a4897e4cc238cf04943",
            "value": "Shuffling ~/tensorflow_datasets/penguins/processed/1.0.0.incompleteX3IE7V/penguins-train.tfrecord*...:   0%"
          }
        },
        "bb9a0f0cb92d43baabd39c67f809c38b": {
          "model_module": "@jupyter-widgets/controls",
          "model_name": "FloatProgressModel",
          "model_module_version": "1.5.0",
          "state": {
            "_dom_classes": [],
            "_model_module": "@jupyter-widgets/controls",
            "_model_module_version": "1.5.0",
            "_model_name": "FloatProgressModel",
            "_view_count": null,
            "_view_module": "@jupyter-widgets/controls",
            "_view_module_version": "1.5.0",
            "_view_name": "ProgressView",
            "bar_style": "",
            "description": "",
            "description_tooltip": null,
            "layout": "IPY_MODEL_b848056602824080bb08bc88e6a7ea48",
            "max": 334,
            "min": 0,
            "orientation": "horizontal",
            "style": "IPY_MODEL_f08d10b6854b437ca5b08ec9256046a8",
            "value": 334
          }
        },
        "8300202e7e9b40e0b01eb854b5f1eb26": {
          "model_module": "@jupyter-widgets/controls",
          "model_name": "HTMLModel",
          "model_module_version": "1.5.0",
          "state": {
            "_dom_classes": [],
            "_model_module": "@jupyter-widgets/controls",
            "_model_module_version": "1.5.0",
            "_model_name": "HTMLModel",
            "_view_count": null,
            "_view_module": "@jupyter-widgets/controls",
            "_view_module_version": "1.5.0",
            "_view_name": "HTMLView",
            "description": "",
            "description_tooltip": null,
            "layout": "IPY_MODEL_8c65c591ab534d8ab7cc1aa68c22539d",
            "placeholder": "​",
            "style": "IPY_MODEL_b8af88782c2c495abc6d8981fdbbe5c8",
            "value": " 0/334 [00:00&lt;?, ? examples/s]"
          }
        },
        "ae7a6ff51d424839b3badf7c015a20b5": {
          "model_module": "@jupyter-widgets/base",
          "model_name": "LayoutModel",
          "model_module_version": "1.2.0",
          "state": {
            "_model_module": "@jupyter-widgets/base",
            "_model_module_version": "1.2.0",
            "_model_name": "LayoutModel",
            "_view_count": null,
            "_view_module": "@jupyter-widgets/base",
            "_view_module_version": "1.2.0",
            "_view_name": "LayoutView",
            "align_content": null,
            "align_items": null,
            "align_self": null,
            "border": null,
            "bottom": null,
            "display": null,
            "flex": null,
            "flex_flow": null,
            "grid_area": null,
            "grid_auto_columns": null,
            "grid_auto_flow": null,
            "grid_auto_rows": null,
            "grid_column": null,
            "grid_gap": null,
            "grid_row": null,
            "grid_template_areas": null,
            "grid_template_columns": null,
            "grid_template_rows": null,
            "height": null,
            "justify_content": null,
            "justify_items": null,
            "left": null,
            "margin": null,
            "max_height": null,
            "max_width": null,
            "min_height": null,
            "min_width": null,
            "object_fit": null,
            "object_position": null,
            "order": null,
            "overflow": null,
            "overflow_x": null,
            "overflow_y": null,
            "padding": null,
            "right": null,
            "top": null,
            "visibility": null,
            "width": null
          }
        },
        "ed4bd18360804764ab8465c94e27917f": {
          "model_module": "@jupyter-widgets/base",
          "model_name": "LayoutModel",
          "model_module_version": "1.2.0",
          "state": {
            "_model_module": "@jupyter-widgets/base",
            "_model_module_version": "1.2.0",
            "_model_name": "LayoutModel",
            "_view_count": null,
            "_view_module": "@jupyter-widgets/base",
            "_view_module_version": "1.2.0",
            "_view_name": "LayoutView",
            "align_content": null,
            "align_items": null,
            "align_self": null,
            "border": null,
            "bottom": null,
            "display": null,
            "flex": null,
            "flex_flow": null,
            "grid_area": null,
            "grid_auto_columns": null,
            "grid_auto_flow": null,
            "grid_auto_rows": null,
            "grid_column": null,
            "grid_gap": null,
            "grid_row": null,
            "grid_template_areas": null,
            "grid_template_columns": null,
            "grid_template_rows": null,
            "height": null,
            "justify_content": null,
            "justify_items": null,
            "left": null,
            "margin": null,
            "max_height": null,
            "max_width": null,
            "min_height": null,
            "min_width": null,
            "object_fit": null,
            "object_position": null,
            "order": null,
            "overflow": null,
            "overflow_x": null,
            "overflow_y": null,
            "padding": null,
            "right": null,
            "top": null,
            "visibility": null,
            "width": null
          }
        },
        "f69614c0ac7e4a4897e4cc238cf04943": {
          "model_module": "@jupyter-widgets/controls",
          "model_name": "DescriptionStyleModel",
          "model_module_version": "1.5.0",
          "state": {
            "_model_module": "@jupyter-widgets/controls",
            "_model_module_version": "1.5.0",
            "_model_name": "DescriptionStyleModel",
            "_view_count": null,
            "_view_module": "@jupyter-widgets/base",
            "_view_module_version": "1.2.0",
            "_view_name": "StyleView",
            "description_width": ""
          }
        },
        "b848056602824080bb08bc88e6a7ea48": {
          "model_module": "@jupyter-widgets/base",
          "model_name": "LayoutModel",
          "model_module_version": "1.2.0",
          "state": {
            "_model_module": "@jupyter-widgets/base",
            "_model_module_version": "1.2.0",
            "_model_name": "LayoutModel",
            "_view_count": null,
            "_view_module": "@jupyter-widgets/base",
            "_view_module_version": "1.2.0",
            "_view_name": "LayoutView",
            "align_content": null,
            "align_items": null,
            "align_self": null,
            "border": null,
            "bottom": null,
            "display": null,
            "flex": null,
            "flex_flow": null,
            "grid_area": null,
            "grid_auto_columns": null,
            "grid_auto_flow": null,
            "grid_auto_rows": null,
            "grid_column": null,
            "grid_gap": null,
            "grid_row": null,
            "grid_template_areas": null,
            "grid_template_columns": null,
            "grid_template_rows": null,
            "height": null,
            "justify_content": null,
            "justify_items": null,
            "left": null,
            "margin": null,
            "max_height": null,
            "max_width": null,
            "min_height": null,
            "min_width": null,
            "object_fit": null,
            "object_position": null,
            "order": null,
            "overflow": null,
            "overflow_x": null,
            "overflow_y": null,
            "padding": null,
            "right": null,
            "top": null,
            "visibility": null,
            "width": null
          }
        },
        "f08d10b6854b437ca5b08ec9256046a8": {
          "model_module": "@jupyter-widgets/controls",
          "model_name": "ProgressStyleModel",
          "model_module_version": "1.5.0",
          "state": {
            "_model_module": "@jupyter-widgets/controls",
            "_model_module_version": "1.5.0",
            "_model_name": "ProgressStyleModel",
            "_view_count": null,
            "_view_module": "@jupyter-widgets/base",
            "_view_module_version": "1.2.0",
            "_view_name": "StyleView",
            "bar_color": null,
            "description_width": ""
          }
        },
        "8c65c591ab534d8ab7cc1aa68c22539d": {
          "model_module": "@jupyter-widgets/base",
          "model_name": "LayoutModel",
          "model_module_version": "1.2.0",
          "state": {
            "_model_module": "@jupyter-widgets/base",
            "_model_module_version": "1.2.0",
            "_model_name": "LayoutModel",
            "_view_count": null,
            "_view_module": "@jupyter-widgets/base",
            "_view_module_version": "1.2.0",
            "_view_name": "LayoutView",
            "align_content": null,
            "align_items": null,
            "align_self": null,
            "border": null,
            "bottom": null,
            "display": null,
            "flex": null,
            "flex_flow": null,
            "grid_area": null,
            "grid_auto_columns": null,
            "grid_auto_flow": null,
            "grid_auto_rows": null,
            "grid_column": null,
            "grid_gap": null,
            "grid_row": null,
            "grid_template_areas": null,
            "grid_template_columns": null,
            "grid_template_rows": null,
            "height": null,
            "justify_content": null,
            "justify_items": null,
            "left": null,
            "margin": null,
            "max_height": null,
            "max_width": null,
            "min_height": null,
            "min_width": null,
            "object_fit": null,
            "object_position": null,
            "order": null,
            "overflow": null,
            "overflow_x": null,
            "overflow_y": null,
            "padding": null,
            "right": null,
            "top": null,
            "visibility": null,
            "width": null
          }
        },
        "b8af88782c2c495abc6d8981fdbbe5c8": {
          "model_module": "@jupyter-widgets/controls",
          "model_name": "DescriptionStyleModel",
          "model_module_version": "1.5.0",
          "state": {
            "_model_module": "@jupyter-widgets/controls",
            "_model_module_version": "1.5.0",
            "_model_name": "DescriptionStyleModel",
            "_view_count": null,
            "_view_module": "@jupyter-widgets/base",
            "_view_module_version": "1.2.0",
            "_view_name": "StyleView",
            "description_width": ""
          }
        }
      }
    }
  },
  "cells": [
    {
      "cell_type": "markdown",
      "metadata": {
        "id": "view-in-github",
        "colab_type": "text"
      },
      "source": [
        "<a href=\"https://colab.research.google.com/github/ArashDehghanyan/ml-practicres/blob/main/Customization.ipynb\" target=\"_parent\"><img src=\"https://colab.research.google.com/assets/colab-badge.svg\" alt=\"Open In Colab\"/></a>"
      ]
    },
    {
      "cell_type": "code",
      "execution_count": 1,
      "metadata": {
        "id": "ej1YTRt7NS1-"
      },
      "outputs": [],
      "source": [
        "import tensorflow as tf"
      ]
    },
    {
      "cell_type": "code",
      "source": [
        "print(tf.version.VERSION)"
      ],
      "metadata": {
        "colab": {
          "base_uri": "https://localhost:8080/"
        },
        "id": "-pMDpunf2QMT",
        "outputId": "be6db8e9-62b1-46b2-d679-126bfaa82748"
      },
      "execution_count": 2,
      "outputs": [
        {
          "output_type": "stream",
          "name": "stdout",
          "text": [
            "2.8.0\n"
          ]
        }
      ]
    },
    {
      "cell_type": "markdown",
      "source": [
        "#Basics"
      ],
      "metadata": {
        "id": "o2hhc1fGNcjR"
      }
    },
    {
      "cell_type": "code",
      "source": [
        "print(tf.reduce_sum([1, 2, 3]).numpy())\n",
        "print(tf.add(1, 2).numpy())\n",
        "print(tf.add([1, 2], [3, 4]).numpy())\n",
        "print(tf.square(5).numpy())\n",
        "print((tf.square(2) + tf.square(3)).numpy())\n",
        "x = tf.matmul([[1]], [[1, 2]])\n",
        "print(x)\n",
        "print(x.shape)\n",
        "print(x.dtype)\n",
        "print(x.numpy())"
      ],
      "metadata": {
        "colab": {
          "base_uri": "https://localhost:8080/"
        },
        "id": "gkuG18D7NwNT",
        "outputId": "a3003c71-70ac-4113-e3f5-cb7c48c7b38a"
      },
      "execution_count": 3,
      "outputs": [
        {
          "output_type": "stream",
          "name": "stdout",
          "text": [
            "6\n",
            "3\n",
            "[4 6]\n",
            "25\n",
            "13\n",
            "tf.Tensor([[1 2]], shape=(1, 2), dtype=int32)\n",
            "(1, 2)\n",
            "<dtype: 'int32'>\n",
            "[[1 2]]\n"
          ]
        }
      ]
    },
    {
      "cell_type": "code",
      "source": [
        "x = tf.random.uniform([3, 3])\n",
        "\n",
        "print(\"Is there a GPU available:\")\n",
        "print(tf.config.list_physical_devices(\"GPU\"))\n",
        "\n",
        "print(\"Is the tensor on the GPU #0:\")\n",
        "print(x.device.endswith(\"GPU:0\"))"
      ],
      "metadata": {
        "colab": {
          "base_uri": "https://localhost:8080/"
        },
        "id": "HcMpuLwl2Zvc",
        "outputId": "486df1d3-12aa-4e9e-ad01-7839df4e974d"
      },
      "execution_count": 4,
      "outputs": [
        {
          "output_type": "stream",
          "name": "stdout",
          "text": [
            "Is there a GPU available:\n",
            "[]\n",
            "Is the tensor on the GPU #0:\n",
            "False\n"
          ]
        }
      ]
    },
    {
      "cell_type": "code",
      "source": [
        "print(x.device)"
      ],
      "metadata": {
        "colab": {
          "base_uri": "https://localhost:8080/"
        },
        "id": "CVXix4Ef3hcV",
        "outputId": "5a51d8da-aae3-4e21-eb0f-106f41849e66"
      },
      "execution_count": 5,
      "outputs": [
        {
          "output_type": "stream",
          "name": "stdout",
          "text": [
            "/job:localhost/replica:0/task:0/device:CPU:0\n"
          ]
        }
      ]
    },
    {
      "cell_type": "markdown",
      "source": [
        "##Explicit device placement"
      ],
      "metadata": {
        "id": "4f5OG8UICcjQ"
      }
    },
    {
      "cell_type": "code",
      "source": [
        "import time\n",
        "\n",
        "def time_matmul(x):\n",
        "    start = time.time()\n",
        "    for loop in range(10):\n",
        "        tf.matmul(x, x)\n",
        "    \n",
        "    result = time.time() - start\n",
        "    print(\"10 loops: {:0.2f}ms\".format(1000 * result))\n",
        "\n",
        "# Force execution on CPU\n",
        "print(\"on CPU:\")\n",
        "with tf.device(\"CPU:0\"):\n",
        "    x = tf.random.uniform([1000, 1000])\n",
        "    assert x.device.endswith(\"CPU:0\")\n",
        "    time_matmul(x)\n",
        "\n",
        "# Force execution on GPU\n",
        "print(\"on GPU:\")\n",
        "with tf.device(\"GPU:0\"):\n",
        "    x = tf.random.uniform([1000, 1000])\n",
        "    assert x.device.endswith(\"GPU:0\")\n",
        "    time_matmul(x)\n",
        "    "
      ],
      "metadata": {
        "colab": {
          "base_uri": "https://localhost:8080/",
          "height": 287
        },
        "id": "eCHLyagzCgcI",
        "outputId": "9e3ad8f5-5f59-4bf0-d90c-45e4b0b50d39"
      },
      "execution_count": 6,
      "outputs": [
        {
          "output_type": "stream",
          "name": "stdout",
          "text": [
            "on CPU:\n",
            "10 loops: 336.36ms\n",
            "on GPU:\n"
          ]
        },
        {
          "output_type": "error",
          "ename": "AssertionError",
          "evalue": "ignored",
          "traceback": [
            "\u001b[0;31m---------------------------------------------------------------------------\u001b[0m",
            "\u001b[0;31mAssertionError\u001b[0m                            Traceback (most recent call last)",
            "\u001b[0;32m<ipython-input-6-5afc976f9bfc>\u001b[0m in \u001b[0;36m<module>\u001b[0;34m()\u001b[0m\n\u001b[1;32m     20\u001b[0m \u001b[0;32mwith\u001b[0m \u001b[0mtf\u001b[0m\u001b[0;34m.\u001b[0m\u001b[0mdevice\u001b[0m\u001b[0;34m(\u001b[0m\u001b[0;34m\"GPU:0\"\u001b[0m\u001b[0;34m)\u001b[0m\u001b[0;34m:\u001b[0m\u001b[0;34m\u001b[0m\u001b[0;34m\u001b[0m\u001b[0m\n\u001b[1;32m     21\u001b[0m     \u001b[0mx\u001b[0m \u001b[0;34m=\u001b[0m \u001b[0mtf\u001b[0m\u001b[0;34m.\u001b[0m\u001b[0mrandom\u001b[0m\u001b[0;34m.\u001b[0m\u001b[0muniform\u001b[0m\u001b[0;34m(\u001b[0m\u001b[0;34m[\u001b[0m\u001b[0;36m1000\u001b[0m\u001b[0;34m,\u001b[0m \u001b[0;36m1000\u001b[0m\u001b[0;34m]\u001b[0m\u001b[0;34m)\u001b[0m\u001b[0;34m\u001b[0m\u001b[0;34m\u001b[0m\u001b[0m\n\u001b[0;32m---> 22\u001b[0;31m     \u001b[0;32massert\u001b[0m \u001b[0mx\u001b[0m\u001b[0;34m.\u001b[0m\u001b[0mdevice\u001b[0m\u001b[0;34m.\u001b[0m\u001b[0mendswith\u001b[0m\u001b[0;34m(\u001b[0m\u001b[0;34m\"GPU:0\"\u001b[0m\u001b[0;34m)\u001b[0m\u001b[0;34m\u001b[0m\u001b[0;34m\u001b[0m\u001b[0m\n\u001b[0m\u001b[1;32m     23\u001b[0m     \u001b[0mtime_matmul\u001b[0m\u001b[0;34m(\u001b[0m\u001b[0mx\u001b[0m\u001b[0;34m)\u001b[0m\u001b[0;34m\u001b[0m\u001b[0;34m\u001b[0m\u001b[0m\n\u001b[1;32m     24\u001b[0m \u001b[0;34m\u001b[0m\u001b[0m\n",
            "\u001b[0;31mAssertionError\u001b[0m: "
          ]
        }
      ]
    },
    {
      "cell_type": "markdown",
      "source": [
        "##Datasets"
      ],
      "metadata": {
        "id": "T0OuCRm4JLUn"
      }
    },
    {
      "cell_type": "code",
      "source": [
        "ds_tensor = tf.data.Dataset.from_tensor_slices([1,2,3,4,5,6,7,8])\n",
        "\n",
        "import tempfile\n",
        "_, filename = tempfile.mkstemp()\n",
        "\n",
        "with open(filename, 'w') as f:\n",
        "    f.write(\"\"\"Line 1\n",
        "    Line 2\n",
        "    Line 3\n",
        "    Lin3 4\n",
        "    Line 5\n",
        "    \"\"\")\n",
        "\n",
        "ds_file = tf.data.TextLineDataset(filename)\n"
      ],
      "metadata": {
        "id": "Dx529IcFJNlK"
      },
      "execution_count": 7,
      "outputs": []
    },
    {
      "cell_type": "markdown",
      "source": [
        "##Apply transformations"
      ],
      "metadata": {
        "id": "jgUXlJbMLmzj"
      }
    },
    {
      "cell_type": "code",
      "source": [
        "ds_tensor = ds_tensor.map(tf.square).shuffle(2).batch(2)\n",
        "ds_file = ds_file.shuffle(2).batch(2)"
      ],
      "metadata": {
        "id": "yhIuPtBpLpsl"
      },
      "execution_count": 8,
      "outputs": []
    },
    {
      "cell_type": "markdown",
      "source": [
        "##Iterate"
      ],
      "metadata": {
        "id": "kmGsFU8bMJdU"
      }
    },
    {
      "cell_type": "code",
      "source": [
        "print(\"Elements of ds_tensor:\")\n",
        "for x in ds_tensor:\n",
        "    print(x)\n",
        "\n",
        "\n",
        "print(\"\\n\\nElements of ds_file:\")\n",
        "for x in ds_file:\n",
        "    print(x)"
      ],
      "metadata": {
        "colab": {
          "base_uri": "https://localhost:8080/"
        },
        "id": "yYQHPW0XMFUz",
        "outputId": "f9961c34-d104-4f39-a1b6-269b018d020d"
      },
      "execution_count": 9,
      "outputs": [
        {
          "output_type": "stream",
          "name": "stdout",
          "text": [
            "Elements of ds_tensor:\n",
            "tf.Tensor([1 9], shape=(2,), dtype=int32)\n",
            "tf.Tensor([ 4 25], shape=(2,), dtype=int32)\n",
            "tf.Tensor([16 36], shape=(2,), dtype=int32)\n",
            "tf.Tensor([49 64], shape=(2,), dtype=int32)\n",
            "\n",
            "\n",
            "Elements of ds_file:\n",
            "tf.Tensor([b'Line 1' b'    Line 3'], shape=(2,), dtype=string)\n",
            "tf.Tensor([b'    Lin3 4' b'    Line 5'], shape=(2,), dtype=string)\n",
            "tf.Tensor([b'    Line 2' b'    '], shape=(2,), dtype=string)\n"
          ]
        }
      ]
    },
    {
      "cell_type": "markdown",
      "source": [
        "#Layers"
      ],
      "metadata": {
        "id": "y7bVFTkXNgjl"
      }
    },
    {
      "cell_type": "code",
      "source": [
        "import numpy as np\n",
        "import tensorflow as tf\n",
        "\n",
        "print(tf.version.VERSION)\n",
        "print(tf.config.list_physical_devices('GPU'))"
      ],
      "metadata": {
        "colab": {
          "base_uri": "https://localhost:8080/"
        },
        "id": "ooJcdSnaNk_J",
        "outputId": "f90e1b87-19b1-4fe5-d356-540e02d2f35f"
      },
      "execution_count": 1,
      "outputs": [
        {
          "output_type": "stream",
          "name": "stdout",
          "text": [
            "2.8.0\n",
            "[]\n"
          ]
        }
      ]
    },
    {
      "cell_type": "code",
      "source": [
        "layer = tf.keras.layers.Dense(10, input_shape=(None, 5))\n",
        "\n",
        "layer(tf.ones((10, 5))).shape"
      ],
      "metadata": {
        "colab": {
          "base_uri": "https://localhost:8080/"
        },
        "id": "ikjBfXzUOUIZ",
        "outputId": "1fc01df4-191a-4be2-a79b-ad4db068e506"
      },
      "execution_count": 2,
      "outputs": [
        {
          "output_type": "execute_result",
          "data": {
            "text/plain": [
              "TensorShape([10, 10])"
            ]
          },
          "metadata": {},
          "execution_count": 2
        }
      ]
    },
    {
      "cell_type": "code",
      "source": [
        "layer.variables"
      ],
      "metadata": {
        "colab": {
          "base_uri": "https://localhost:8080/"
        },
        "id": "VB3XOlB-QkwF",
        "outputId": "28ea6723-0e9b-4031-b2f1-b1d605e06077"
      },
      "execution_count": 3,
      "outputs": [
        {
          "output_type": "execute_result",
          "data": {
            "text/plain": [
              "[<tf.Variable 'dense/kernel:0' shape=(5, 10) dtype=float32, numpy=\n",
              " array([[-0.41724172, -0.09226394,  0.3397836 , -0.3991214 ,  0.20124394,\n",
              "          0.51783615, -0.39522213,  0.13868213,  0.08162898,  0.00265944],\n",
              "        [ 0.37605828,  0.58732635,  0.43068832,  0.16144407,  0.55269784,\n",
              "         -0.0653258 ,  0.37946814,  0.36646664,  0.19084209, -0.21140382],\n",
              "        [ 0.28349084,  0.44152027, -0.48583692,  0.4543714 ,  0.09701622,\n",
              "         -0.05751777,  0.6202561 , -0.30055806, -0.01326418, -0.17479658],\n",
              "        [ 0.22828871, -0.624149  , -0.5066743 , -0.620874  , -0.43883413,\n",
              "         -0.56412286,  0.09175503,  0.09648168,  0.5658563 , -0.25477183],\n",
              "        [ 0.44596297,  0.63171715,  0.5291566 , -0.62831366,  0.15750802,\n",
              "          0.34291607, -0.48402172,  0.03734773,  0.22853982, -0.626126  ]],\n",
              "       dtype=float32)>,\n",
              " <tf.Variable 'dense/bias:0' shape=(10,) dtype=float32, numpy=array([0., 0., 0., 0., 0., 0., 0., 0., 0., 0.], dtype=float32)>]"
            ]
          },
          "metadata": {},
          "execution_count": 3
        }
      ]
    },
    {
      "cell_type": "code",
      "source": [
        "layer.trainable_variables"
      ],
      "metadata": {
        "colab": {
          "base_uri": "https://localhost:8080/"
        },
        "id": "NgTkK2TkQwcs",
        "outputId": "68d01a3d-6516-4944-9ecf-e87dbe872f3e"
      },
      "execution_count": 4,
      "outputs": [
        {
          "output_type": "execute_result",
          "data": {
            "text/plain": [
              "[<tf.Variable 'dense/kernel:0' shape=(5, 10) dtype=float32, numpy=\n",
              " array([[-0.41724172, -0.09226394,  0.3397836 , -0.3991214 ,  0.20124394,\n",
              "          0.51783615, -0.39522213,  0.13868213,  0.08162898,  0.00265944],\n",
              "        [ 0.37605828,  0.58732635,  0.43068832,  0.16144407,  0.55269784,\n",
              "         -0.0653258 ,  0.37946814,  0.36646664,  0.19084209, -0.21140382],\n",
              "        [ 0.28349084,  0.44152027, -0.48583692,  0.4543714 ,  0.09701622,\n",
              "         -0.05751777,  0.6202561 , -0.30055806, -0.01326418, -0.17479658],\n",
              "        [ 0.22828871, -0.624149  , -0.5066743 , -0.620874  , -0.43883413,\n",
              "         -0.56412286,  0.09175503,  0.09648168,  0.5658563 , -0.25477183],\n",
              "        [ 0.44596297,  0.63171715,  0.5291566 , -0.62831366,  0.15750802,\n",
              "          0.34291607, -0.48402172,  0.03734773,  0.22853982, -0.626126  ]],\n",
              "       dtype=float32)>,\n",
              " <tf.Variable 'dense/bias:0' shape=(10,) dtype=float32, numpy=array([0., 0., 0., 0., 0., 0., 0., 0., 0., 0.], dtype=float32)>]"
            ]
          },
          "metadata": {},
          "execution_count": 4
        }
      ]
    },
    {
      "cell_type": "code",
      "source": [
        "layer.kernel, layer.bias"
      ],
      "metadata": {
        "colab": {
          "base_uri": "https://localhost:8080/"
        },
        "id": "J3gPip4LQ66m",
        "outputId": "2c1ca45f-94a9-4188-db95-533202db7a3e"
      },
      "execution_count": 5,
      "outputs": [
        {
          "output_type": "execute_result",
          "data": {
            "text/plain": [
              "(<tf.Variable 'dense/kernel:0' shape=(5, 10) dtype=float32, numpy=\n",
              " array([[-0.41724172, -0.09226394,  0.3397836 , -0.3991214 ,  0.20124394,\n",
              "          0.51783615, -0.39522213,  0.13868213,  0.08162898,  0.00265944],\n",
              "        [ 0.37605828,  0.58732635,  0.43068832,  0.16144407,  0.55269784,\n",
              "         -0.0653258 ,  0.37946814,  0.36646664,  0.19084209, -0.21140382],\n",
              "        [ 0.28349084,  0.44152027, -0.48583692,  0.4543714 ,  0.09701622,\n",
              "         -0.05751777,  0.6202561 , -0.30055806, -0.01326418, -0.17479658],\n",
              "        [ 0.22828871, -0.624149  , -0.5066743 , -0.620874  , -0.43883413,\n",
              "         -0.56412286,  0.09175503,  0.09648168,  0.5658563 , -0.25477183],\n",
              "        [ 0.44596297,  0.63171715,  0.5291566 , -0.62831366,  0.15750802,\n",
              "          0.34291607, -0.48402172,  0.03734773,  0.22853982, -0.626126  ]],\n",
              "       dtype=float32)>,\n",
              " <tf.Variable 'dense/bias:0' shape=(10,) dtype=float32, numpy=array([0., 0., 0., 0., 0., 0., 0., 0., 0., 0.], dtype=float32)>)"
            ]
          },
          "metadata": {},
          "execution_count": 5
        }
      ]
    },
    {
      "cell_type": "markdown",
      "source": [
        "#Custom layers"
      ],
      "metadata": {
        "id": "hOSarJPZR8ZQ"
      }
    },
    {
      "cell_type": "code",
      "source": [
        "class MyDenseLayer(tf.keras.layers.Layer):\n",
        "    def __init__(self, num_outputs):\n",
        "        super(MyDenseLayer, self).__init__()\n",
        "        self.num_outputs = num_outputs\n",
        "\n",
        "    def build(self, input_shape):\n",
        "        self.kernel = self.add_weight(\n",
        "            \"kernel\", shape=[int(input_shape[-1]), self.num_outputs]\n",
        "        )\n",
        "\n",
        "    def call(self, inputs):\n",
        "        return tf.matmul(inputs, self.kernel)\n"
      ],
      "metadata": {
        "id": "UIk5gGVSSDhA"
      },
      "execution_count": 6,
      "outputs": []
    },
    {
      "cell_type": "code",
      "source": [
        "layer = MyDenseLayer(10)\n",
        "layer(tf.ones([10, 5])).shape"
      ],
      "metadata": {
        "id": "A-ZoqlYdRZU9",
        "colab": {
          "base_uri": "https://localhost:8080/"
        },
        "outputId": "c5ed85ec-515d-4550-f21d-3608bd6ff235"
      },
      "execution_count": 7,
      "outputs": [
        {
          "output_type": "execute_result",
          "data": {
            "text/plain": [
              "TensorShape([10, 10])"
            ]
          },
          "metadata": {},
          "execution_count": 7
        }
      ]
    },
    {
      "cell_type": "code",
      "source": [
        "print([var.name for var in layer.trainable_variables])"
      ],
      "metadata": {
        "id": "BxmWr6L8UTp5",
        "colab": {
          "base_uri": "https://localhost:8080/"
        },
        "outputId": "939fcea3-a260-4411-e17d-aa1af6cc9ec6"
      },
      "execution_count": 8,
      "outputs": [
        {
          "output_type": "stream",
          "name": "stdout",
          "text": [
            "['my_dense_layer/kernel:0']\n"
          ]
        }
      ]
    },
    {
      "cell_type": "markdown",
      "source": [
        "##Residual Block"
      ],
      "metadata": {
        "id": "wDIJlPP0SnXz"
      }
    },
    {
      "cell_type": "code",
      "source": [
        "from tensorflow.keras import layers"
      ],
      "metadata": {
        "id": "P_z0S0tmUieQ"
      },
      "execution_count": 9,
      "outputs": []
    },
    {
      "cell_type": "code",
      "source": [
        "class ResidualBlock(tf.keras.Model):\n",
        "    def __init__(self, kernel_size, filters):\n",
        "        super(ResidualBlock, self).__init__(name='')\n",
        "        filter1, filter2, filter3 = filters\n",
        "\n",
        "        self.conv2a = layers.Conv2D(filter1, (1, 1))\n",
        "        self.bn2a = layers.BatchNormalization()\n",
        "\n",
        "        self.conv2b = layers.Conv2D(filter2, kernel_size=kernel_size, padding='same')\n",
        "        self.bn2b = layers.BatchNormalization()\n",
        "\n",
        "        self.conv2c = layers.Conv2D(filter3, (1, 1))\n",
        "        self.bn2c = layers.BatchNormalization()\n",
        "    \n",
        "    def call(self, input_tensor, training=False):\n",
        "        x = tf.nn.relu(self.bn2a(self.conv2a(input_tensor), training=training))\n",
        "\n",
        "        x = tf.nn.relu(self.bn2b(self.conv2b(x), training=training))\n",
        "\n",
        "        x = self.bn2c(self.conv2c(x))\n",
        "\n",
        "        x += input_tensor\n",
        "\n",
        "        return tf.nn.relu(x)\n"
      ],
      "metadata": {
        "id": "usjd9X58SqWF"
      },
      "execution_count": 10,
      "outputs": []
    },
    {
      "cell_type": "code",
      "source": [
        "block = ResidualBlock(1, [1, 2, 3])\n",
        "\n",
        "_ = block(tf.zeros([1, 2, 3, 3]))"
      ],
      "metadata": {
        "id": "cuLZL6PmWhXC"
      },
      "execution_count": 11,
      "outputs": []
    },
    {
      "cell_type": "code",
      "source": [
        "block.layers"
      ],
      "metadata": {
        "colab": {
          "base_uri": "https://localhost:8080/"
        },
        "id": "DUJEtdEfW5zS",
        "outputId": "2a7b62e3-400b-4288-bcb0-99ec66ce71a0"
      },
      "execution_count": 12,
      "outputs": [
        {
          "output_type": "execute_result",
          "data": {
            "text/plain": [
              "[<keras.layers.convolutional.Conv2D at 0x7f363398fa50>,\n",
              " <keras.layers.normalization.batch_normalization.BatchNormalization at 0x7f363398b690>,\n",
              " <keras.layers.convolutional.Conv2D at 0x7f363b58a510>,\n",
              " <keras.layers.normalization.batch_normalization.BatchNormalization at 0x7f363802ae50>,\n",
              " <keras.layers.convolutional.Conv2D at 0x7f363397d950>,\n",
              " <keras.layers.normalization.batch_normalization.BatchNormalization at 0x7f3633f2c850>]"
            ]
          },
          "metadata": {},
          "execution_count": 12
        }
      ]
    },
    {
      "cell_type": "code",
      "source": [
        "len(block.variables)"
      ],
      "metadata": {
        "colab": {
          "base_uri": "https://localhost:8080/"
        },
        "id": "PxHehvptakws",
        "outputId": "07f4886c-068e-4833-dc39-9f0784193783"
      },
      "execution_count": 13,
      "outputs": [
        {
          "output_type": "execute_result",
          "data": {
            "text/plain": [
              "18"
            ]
          },
          "metadata": {},
          "execution_count": 13
        }
      ]
    },
    {
      "cell_type": "code",
      "source": [
        "block.summary()"
      ],
      "metadata": {
        "colab": {
          "base_uri": "https://localhost:8080/"
        },
        "id": "6hucadBCaqUI",
        "outputId": "1ed51503-9b3f-46cd-899a-33d85457dba8"
      },
      "execution_count": 14,
      "outputs": [
        {
          "output_type": "stream",
          "name": "stdout",
          "text": [
            "Model: \"\"\n",
            "_________________________________________________________________\n",
            " Layer (type)                Output Shape              Param #   \n",
            "=================================================================\n",
            " conv2d (Conv2D)             multiple                  4         \n",
            "                                                                 \n",
            " batch_normalization (BatchN  multiple                 4         \n",
            " ormalization)                                                   \n",
            "                                                                 \n",
            " conv2d_1 (Conv2D)           multiple                  4         \n",
            "                                                                 \n",
            " batch_normalization_1 (Batc  multiple                 8         \n",
            " hNormalization)                                                 \n",
            "                                                                 \n",
            " conv2d_2 (Conv2D)           multiple                  9         \n",
            "                                                                 \n",
            " batch_normalization_2 (Batc  multiple                 12        \n",
            " hNormalization)                                                 \n",
            "                                                                 \n",
            "=================================================================\n",
            "Total params: 41\n",
            "Trainable params: 29\n",
            "Non-trainable params: 12\n",
            "_________________________________________________________________\n"
          ]
        }
      ]
    },
    {
      "cell_type": "markdown",
      "source": [
        "##Install tfds-nightly dataset"
      ],
      "metadata": {
        "id": "feTzSfw-tGC1"
      }
    },
    {
      "cell_type": "code",
      "source": [
        "! pip install -q tfds-nightly "
      ],
      "metadata": {
        "id": "MaUg0SuHaw96"
      },
      "execution_count": 1,
      "outputs": []
    },
    {
      "cell_type": "code",
      "source": [
        "import os\n",
        "import tensorflow as tf\n",
        "import tensorflow_datasets as tfds\n",
        "import matplotlib.pyplot as plt\n",
        "\n",
        "print(\"Tensorflow version: {}\".format(tf.__version__))\n",
        "print(\"Tensorflow dataset version: {}\".format(tfds.__version__))"
      ],
      "metadata": {
        "colab": {
          "base_uri": "https://localhost:8080/"
        },
        "id": "m2UwQuXmtPbs",
        "outputId": "453a8104-5fee-46e5-c06d-53c14d062d9f"
      },
      "execution_count": 2,
      "outputs": [
        {
          "output_type": "stream",
          "name": "stdout",
          "text": [
            "Tensorflow version: 2.8.0\n",
            "Tensorflow dataset version: 4.5.2+nightly\n"
          ]
        }
      ]
    },
    {
      "cell_type": "markdown",
      "source": [
        "##Import dataset\n",
        "###Preview the data"
      ],
      "metadata": {
        "id": "rgoxoHBRw9Ss"
      }
    },
    {
      "cell_type": "code",
      "source": [
        "ds_preview, info = tfds.load('penguins/simple', split='train', with_info=True)\n",
        "df = tfds.as_dataframe(ds_preview.take(5), info)\n",
        "print(df)\n",
        "print(info.features)"
      ],
      "metadata": {
        "colab": {
          "base_uri": "https://localhost:8080/"
        },
        "id": "OHCueoaaumGc",
        "outputId": "97771598-c583-487e-d4f8-b1fed690e958"
      },
      "execution_count": 4,
      "outputs": [
        {
          "output_type": "stream",
          "name": "stdout",
          "text": [
            "   body_mass_g  culmen_depth_mm  culmen_length_mm  flipper_length_mm  island  \\\n",
            "0       4200.0             13.9         45.500000              210.0       0   \n",
            "1       4650.0             13.7         40.900002              214.0       0   \n",
            "2       5300.0             14.2         51.299999              218.0       0   \n",
            "3       5650.0             15.0         47.799999              215.0       0   \n",
            "4       5050.0             15.8         46.299999              215.0       0   \n",
            "\n",
            "   sex  species  \n",
            "0    0        2  \n",
            "1    0        2  \n",
            "2    1        2  \n",
            "3    1        2  \n",
            "4    1        2  \n",
            "FeaturesDict({\n",
            "    'body_mass_g': tf.float32,\n",
            "    'culmen_depth_mm': tf.float32,\n",
            "    'culmen_length_mm': tf.float32,\n",
            "    'flipper_length_mm': tf.float32,\n",
            "    'island': ClassLabel(shape=(), dtype=tf.int64, num_classes=3),\n",
            "    'sex': ClassLabel(shape=(), dtype=tf.int64, num_classes=3),\n",
            "    'species': ClassLabel(shape=(), dtype=tf.int64, num_classes=3),\n",
            "})\n"
          ]
        }
      ]
    },
    {
      "cell_type": "code",
      "source": [
        "dataset_split, info = tfds.load('penguins/processed', split=['train[:20%]', 'train[20%:]'], as_supervised=True, with_info=True)\n",
        "ds_test = dataset_split[0]\n",
        "ds_train = dataset_split[1]\n",
        "assert isinstance(ds_test, tf.data.Dataset)\n",
        "\n",
        "print(info.features)\n",
        "df_test = tfds.as_dataframe(ds_test.take(5), info)\n",
        "print(\"Test dataset sample:\")\n",
        "print(df_test)\n",
        "\n",
        "df_train = tfds.as_dataframe(ds_train.take(5), info)\n",
        "print(\"Train dataset sample:\")\n",
        "print(df_train)\n",
        "\n",
        "ds_train_batch = ds_train.batch(32)"
      ],
      "metadata": {
        "colab": {
          "base_uri": "https://localhost:8080/",
          "height": 428,
          "referenced_widgets": [
            "64dc9a593cba4f79a32cf8d608e2b6ea",
            "d9ef71d8d155412d93811f1807ca6144",
            "12ee43b56c194b59bc02f0dc2f7e13b2",
            "bfee8ae409dd4b8b803fd0b765d381a5",
            "b0a4c2810b614b8abead9b19727d179b",
            "20bc8ca7daa24bf39451a296f41f70c8",
            "e9c0b7f28eb945f4b7d89ae29ee8f736",
            "b16b62bf405b466c942c8683aba2ee66",
            "3a378fa6ac874ad886910f33aa0d0668",
            "36d330f915174849b41213223221a89c",
            "8c6c2eacca3f436fad94732e3065b028",
            "de05cc3506e349899ea2a6089ef0764c",
            "74dddb7cccfd4506b608c8a6aa75dd2a",
            "4f0ab76c5d774ea493a77ed0e84c2008",
            "8686b9513a444fccb08278cb2ddf3e9d",
            "311110e8b5fd4b3790fc0062a7240e8c",
            "e6def0caaa1e468193ff11845e92c7a3",
            "65d96bcb84a8429d951701684fa45422",
            "ba9ca699ca594538b19ebeb6bb60d804",
            "638de220001f4563ab2a3862db75da85",
            "b68ed1d1864f425d81e7f6ea28242406",
            "618938689f5644f9914bd6be52a175c0",
            "b35ee4b8a7d84b3ea2eb44f039b00779",
            "b057ff448faf491a975840905a1e90df",
            "2fadc40806044d2fae2fd07192406769",
            "1679d8355e3d4b60b7cb2cc90ae9c623",
            "2b6b7c7a34ab4f34b2591d28b21aea1f",
            "b537993957644459bbe6b6cc90c93a8b",
            "8f3573916e1343d58999bc00e50d0c3a",
            "93c3e7eedb3640ffb843dd6100e8c8ba",
            "baaf7a8d4519453a9ec4a3e6c6ac79fd",
            "7b781b35a9cb43d881fc3eac6938f65c",
            "5dfa046dfe5a40c4a25a3c3eb7ad3dfb",
            "98713175a6874727ab1b7d055269be5b",
            "77bec93e8eb445688a6ba90af3db96a9",
            "d8537d8e88814bf3946e0dde445a0f20",
            "efa76cbd327e4400974df4356894ae8e",
            "1eaa59676eef4547940d0c1cb9c56271",
            "ea7997b6b44d4726a587f1fa492c7fe2",
            "dd53ad25bbee4c00994dc17dfd5642e8",
            "1f0dab820d8b45088fa084899ae4d62b",
            "8b1a73c4c7244e06ac1a5336d0cece10",
            "ef231867530945399e3463ac95b9182e",
            "063404b94c294f168cff9fc3ce90325e",
            "1900164be0e445ceb94fd0fa133464ea",
            "806395c93f374cbda67ca699dbf4d282",
            "bb9a0f0cb92d43baabd39c67f809c38b",
            "8300202e7e9b40e0b01eb854b5f1eb26",
            "ae7a6ff51d424839b3badf7c015a20b5",
            "ed4bd18360804764ab8465c94e27917f",
            "f69614c0ac7e4a4897e4cc238cf04943",
            "b848056602824080bb08bc88e6a7ea48",
            "f08d10b6854b437ca5b08ec9256046a8",
            "8c65c591ab534d8ab7cc1aa68c22539d",
            "b8af88782c2c495abc6d8981fdbbe5c8"
          ]
        },
        "id": "KWrnpE-C2u33",
        "outputId": "9fa72671-9991-4a73-f3b0-a50ad3e2951a"
      },
      "execution_count": 5,
      "outputs": [
        {
          "output_type": "stream",
          "name": "stdout",
          "text": [
            "\u001b[1mDownloading and preparing dataset 25.05 KiB (download: 25.05 KiB, generated: 17.61 KiB, total: 42.66 KiB) to ~/tensorflow_datasets/penguins/processed/1.0.0...\u001b[0m\n"
          ]
        },
        {
          "output_type": "display_data",
          "data": {
            "text/plain": [
              "Dl Completed...: 0 url [00:00, ? url/s]"
            ],
            "application/vnd.jupyter.widget-view+json": {
              "version_major": 2,
              "version_minor": 0,
              "model_id": "64dc9a593cba4f79a32cf8d608e2b6ea"
            }
          },
          "metadata": {}
        },
        {
          "output_type": "display_data",
          "data": {
            "text/plain": [
              "Dl Size...: 0 MiB [00:00, ? MiB/s]"
            ],
            "application/vnd.jupyter.widget-view+json": {
              "version_major": 2,
              "version_minor": 0,
              "model_id": "de05cc3506e349899ea2a6089ef0764c"
            }
          },
          "metadata": {}
        },
        {
          "output_type": "display_data",
          "data": {
            "text/plain": [
              "Generating splits...:   0%|          | 0/1 [00:00<?, ? splits/s]"
            ],
            "application/vnd.jupyter.widget-view+json": {
              "version_major": 2,
              "version_minor": 0,
              "model_id": "b35ee4b8a7d84b3ea2eb44f039b00779"
            }
          },
          "metadata": {}
        },
        {
          "output_type": "display_data",
          "data": {
            "text/plain": [
              "Generating train examples...:   0%|          | 0/334 [00:00<?, ? examples/s]"
            ],
            "application/vnd.jupyter.widget-view+json": {
              "version_major": 2,
              "version_minor": 0,
              "model_id": "98713175a6874727ab1b7d055269be5b"
            }
          },
          "metadata": {}
        },
        {
          "output_type": "display_data",
          "data": {
            "text/plain": [
              "Shuffling ~/tensorflow_datasets/penguins/processed/1.0.0.incompleteX3IE7V/penguins-train.tfrecord*...:   0%|  …"
            ],
            "application/vnd.jupyter.widget-view+json": {
              "version_major": 2,
              "version_minor": 0,
              "model_id": "1900164be0e445ceb94fd0fa133464ea"
            }
          },
          "metadata": {}
        },
        {
          "output_type": "stream",
          "name": "stdout",
          "text": [
            "\u001b[1mDataset penguins downloaded and prepared to ~/tensorflow_datasets/penguins/processed/1.0.0. Subsequent calls will reuse this data.\u001b[0m\n",
            "FeaturesDict({\n",
            "    'features': Tensor(shape=(4,), dtype=tf.float32),\n",
            "    'species': ClassLabel(shape=(), dtype=tf.int64, num_classes=3),\n",
            "})\n",
            "Test dataset sample:\n",
            "                                         features  species\n",
            "0  [0.6545454, 0.22619048, 0.89830506, 0.6388889]        2\n",
            "1        [0.36, 0.04761905, 0.6440678, 0.4027778]        2\n",
            "2       [0.68, 0.30952382, 0.91525424, 0.6944444]        2\n",
            "3   [0.6181818, 0.20238096, 0.8135593, 0.6805556]        2\n",
            "4  [0.5527273, 0.26190478, 0.84745765, 0.7083333]        2\n",
            "Train dataset sample:\n",
            "                                         features  species\n",
            "0  [0.49818182, 0.6904762, 0.42372882, 0.4027778]        0\n",
            "1      [0.48, 0.071428575, 0.6440678, 0.44444445]        2\n",
            "2    [0.7236364, 0.9047619, 0.6440678, 0.5833333]        1\n",
            "3  [0.34545454, 0.5833333, 0.33898306, 0.3472222]        0\n",
            "4       [0.10909091, 0.75, 0.3559322, 0.41666666]        0\n"
          ]
        }
      ]
    },
    {
      "cell_type": "code",
      "source": [
        "features, labels = next(iter(ds_train_batch))\n",
        "\n",
        "print(features)\n",
        "print(labels)"
      ],
      "metadata": {
        "colab": {
          "base_uri": "https://localhost:8080/"
        },
        "id": "abYZQTP8-BKd",
        "outputId": "2ae069af-d2f8-4c3f-e5e5-53d97598ecf3"
      },
      "execution_count": 6,
      "outputs": [
        {
          "output_type": "stream",
          "name": "stdout",
          "text": [
            "tf.Tensor(\n",
            "[[0.49818182 0.6904762  0.42372882 0.4027778 ]\n",
            " [0.48       0.07142857 0.6440678  0.44444445]\n",
            " [0.7236364  0.9047619  0.6440678  0.5833333 ]\n",
            " [0.34545454 0.5833333  0.33898306 0.3472222 ]\n",
            " [0.10909091 0.75       0.3559322  0.41666666]\n",
            " [0.6690909  0.63095236 0.47457626 0.19444445]\n",
            " [0.8036364  0.9166667  0.4915254  0.44444445]\n",
            " [0.4909091  0.75       0.37288135 0.22916667]\n",
            " [0.33454546 0.85714287 0.37288135 0.2361111 ]\n",
            " [0.32       0.41666666 0.2542373  0.1388889 ]\n",
            " [0.41454545 0.5952381  0.5084746  0.19444445]\n",
            " [0.14909092 0.48809522 0.2542373  0.125     ]\n",
            " [0.23636363 0.4642857  0.27118644 0.05555556]\n",
            " [0.22181818 0.5952381  0.22033899 0.3472222 ]\n",
            " [0.24727273 0.5595238  0.15254237 0.25694445]\n",
            " [0.63272727 0.35714287 0.88135594 0.8194444 ]\n",
            " [0.47272727 0.15476191 0.6440678  0.4722222 ]\n",
            " [0.6036364  0.23809524 0.84745765 0.7361111 ]\n",
            " [0.26909092 0.5595238  0.27118644 0.16666667]\n",
            " [0.28       0.71428573 0.20338982 0.5416667 ]\n",
            " [0.10545454 0.5714286  0.33898306 0.2847222 ]\n",
            " [0.18545455 0.5952381  0.10169491 0.33333334]\n",
            " [0.47272727 0.16666667 0.7288136  0.6388889 ]\n",
            " [0.45090908 0.1904762  0.7118644  0.5972222 ]\n",
            " [0.49454546 0.5        0.3559322  0.25      ]\n",
            " [0.6363636  0.22619048 0.7457627  0.5694444 ]\n",
            " [0.08727273 0.5952381  0.2542373  0.05555556]\n",
            " [0.52       0.22619048 0.7457627  0.5555556 ]\n",
            " [0.5090909  0.23809524 0.7288136  0.6666667 ]\n",
            " [0.56       0.22619048 0.779661   0.625     ]\n",
            " [0.6363636  0.3452381  0.89830506 0.8333333 ]\n",
            " [0.15636364 0.47619048 0.20338982 0.04166667]], shape=(32, 4), dtype=float32)\n",
            "tf.Tensor([0 2 1 0 0 1 1 1 0 1 1 0 0 0 0 2 2 2 0 0 0 0 2 2 1 2 0 2 2 2 2 0], shape=(32,), dtype=int64)\n"
          ]
        }
      ]
    },
    {
      "cell_type": "code",
      "source": [
        ""
      ],
      "metadata": {
        "id": "3Jr3sYdG_VPQ"
      },
      "execution_count": null,
      "outputs": []
    }
  ]
}
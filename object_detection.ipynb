{
  "nbformat": 4,
  "nbformat_minor": 0,
  "metadata": {
    "colab": {
      "name": "object_detection.ipynb",
      "provenance": [],
      "collapsed_sections": [],
      "authorship_tag": "ABX9TyNlLPgFShab0up3BeVixtEY",
      "include_colab_link": true
    },
    "kernelspec": {
      "name": "python3",
      "display_name": "Python 3"
    },
    "language_info": {
      "name": "python"
    },
    "widgets": {
      "application/vnd.jupyter.widget-state+json": {
        "d3b796f1f9e54249a55190bf1bcaf7e0": {
          "model_module": "@jupyter-widgets/controls",
          "model_name": "HBoxModel",
          "model_module_version": "1.5.0",
          "state": {
            "_dom_classes": [],
            "_model_module": "@jupyter-widgets/controls",
            "_model_module_version": "1.5.0",
            "_model_name": "HBoxModel",
            "_view_count": null,
            "_view_module": "@jupyter-widgets/controls",
            "_view_module_version": "1.5.0",
            "_view_name": "HBoxView",
            "box_style": "",
            "children": [
              "IPY_MODEL_df8025004c644e6194350c6cf4fbdf3f",
              "IPY_MODEL_9ecf29012e16493183469c7cc26a6448",
              "IPY_MODEL_d16cb8fd2f894ca6975ce1b7333e1f0d"
            ],
            "layout": "IPY_MODEL_56d47a5a1a4b4a648b856d1d4b116acc"
          }
        },
        "df8025004c644e6194350c6cf4fbdf3f": {
          "model_module": "@jupyter-widgets/controls",
          "model_name": "HTMLModel",
          "model_module_version": "1.5.0",
          "state": {
            "_dom_classes": [],
            "_model_module": "@jupyter-widgets/controls",
            "_model_module_version": "1.5.0",
            "_model_name": "HTMLModel",
            "_view_count": null,
            "_view_module": "@jupyter-widgets/controls",
            "_view_module_version": "1.5.0",
            "_view_name": "HTMLView",
            "description": "",
            "description_tooltip": null,
            "layout": "IPY_MODEL_7a6d491218f84d3784b05515f0608cee",
            "placeholder": "​",
            "style": "IPY_MODEL_51fa5f18fe8c4b7fb0183d85ef2699f8",
            "value": "Dl Completed...: 100%"
          }
        },
        "9ecf29012e16493183469c7cc26a6448": {
          "model_module": "@jupyter-widgets/controls",
          "model_name": "FloatProgressModel",
          "model_module_version": "1.5.0",
          "state": {
            "_dom_classes": [],
            "_model_module": "@jupyter-widgets/controls",
            "_model_module_version": "1.5.0",
            "_model_name": "FloatProgressModel",
            "_view_count": null,
            "_view_module": "@jupyter-widgets/controls",
            "_view_module_version": "1.5.0",
            "_view_name": "ProgressView",
            "bar_style": "success",
            "description": "",
            "description_tooltip": null,
            "layout": "IPY_MODEL_3c4474b079554352a11bf85be0d5ab36",
            "max": 1,
            "min": 0,
            "orientation": "horizontal",
            "style": "IPY_MODEL_fe97f42b1bce46cdb515d50e76767b96",
            "value": 1
          }
        },
        "d16cb8fd2f894ca6975ce1b7333e1f0d": {
          "model_module": "@jupyter-widgets/controls",
          "model_name": "HTMLModel",
          "model_module_version": "1.5.0",
          "state": {
            "_dom_classes": [],
            "_model_module": "@jupyter-widgets/controls",
            "_model_module_version": "1.5.0",
            "_model_name": "HTMLModel",
            "_view_count": null,
            "_view_module": "@jupyter-widgets/controls",
            "_view_module_version": "1.5.0",
            "_view_name": "HTMLView",
            "description": "",
            "description_tooltip": null,
            "layout": "IPY_MODEL_734218ed5e3f488ab8ad2207226082e8",
            "placeholder": "​",
            "style": "IPY_MODEL_f17e98a9fc0e4ab1bfc591d8ac40369a",
            "value": " 2/2 [01:25&lt;00:00, 43.32s/ url]"
          }
        },
        "56d47a5a1a4b4a648b856d1d4b116acc": {
          "model_module": "@jupyter-widgets/base",
          "model_name": "LayoutModel",
          "model_module_version": "1.2.0",
          "state": {
            "_model_module": "@jupyter-widgets/base",
            "_model_module_version": "1.2.0",
            "_model_name": "LayoutModel",
            "_view_count": null,
            "_view_module": "@jupyter-widgets/base",
            "_view_module_version": "1.2.0",
            "_view_name": "LayoutView",
            "align_content": null,
            "align_items": null,
            "align_self": null,
            "border": null,
            "bottom": null,
            "display": null,
            "flex": null,
            "flex_flow": null,
            "grid_area": null,
            "grid_auto_columns": null,
            "grid_auto_flow": null,
            "grid_auto_rows": null,
            "grid_column": null,
            "grid_gap": null,
            "grid_row": null,
            "grid_template_areas": null,
            "grid_template_columns": null,
            "grid_template_rows": null,
            "height": null,
            "justify_content": null,
            "justify_items": null,
            "left": null,
            "margin": null,
            "max_height": null,
            "max_width": null,
            "min_height": null,
            "min_width": null,
            "object_fit": null,
            "object_position": null,
            "order": null,
            "overflow": null,
            "overflow_x": null,
            "overflow_y": null,
            "padding": null,
            "right": null,
            "top": null,
            "visibility": null,
            "width": null
          }
        },
        "7a6d491218f84d3784b05515f0608cee": {
          "model_module": "@jupyter-widgets/base",
          "model_name": "LayoutModel",
          "model_module_version": "1.2.0",
          "state": {
            "_model_module": "@jupyter-widgets/base",
            "_model_module_version": "1.2.0",
            "_model_name": "LayoutModel",
            "_view_count": null,
            "_view_module": "@jupyter-widgets/base",
            "_view_module_version": "1.2.0",
            "_view_name": "LayoutView",
            "align_content": null,
            "align_items": null,
            "align_self": null,
            "border": null,
            "bottom": null,
            "display": null,
            "flex": null,
            "flex_flow": null,
            "grid_area": null,
            "grid_auto_columns": null,
            "grid_auto_flow": null,
            "grid_auto_rows": null,
            "grid_column": null,
            "grid_gap": null,
            "grid_row": null,
            "grid_template_areas": null,
            "grid_template_columns": null,
            "grid_template_rows": null,
            "height": null,
            "justify_content": null,
            "justify_items": null,
            "left": null,
            "margin": null,
            "max_height": null,
            "max_width": null,
            "min_height": null,
            "min_width": null,
            "object_fit": null,
            "object_position": null,
            "order": null,
            "overflow": null,
            "overflow_x": null,
            "overflow_y": null,
            "padding": null,
            "right": null,
            "top": null,
            "visibility": null,
            "width": null
          }
        },
        "51fa5f18fe8c4b7fb0183d85ef2699f8": {
          "model_module": "@jupyter-widgets/controls",
          "model_name": "DescriptionStyleModel",
          "model_module_version": "1.5.0",
          "state": {
            "_model_module": "@jupyter-widgets/controls",
            "_model_module_version": "1.5.0",
            "_model_name": "DescriptionStyleModel",
            "_view_count": null,
            "_view_module": "@jupyter-widgets/base",
            "_view_module_version": "1.2.0",
            "_view_name": "StyleView",
            "description_width": ""
          }
        },
        "3c4474b079554352a11bf85be0d5ab36": {
          "model_module": "@jupyter-widgets/base",
          "model_name": "LayoutModel",
          "model_module_version": "1.2.0",
          "state": {
            "_model_module": "@jupyter-widgets/base",
            "_model_module_version": "1.2.0",
            "_model_name": "LayoutModel",
            "_view_count": null,
            "_view_module": "@jupyter-widgets/base",
            "_view_module_version": "1.2.0",
            "_view_name": "LayoutView",
            "align_content": null,
            "align_items": null,
            "align_self": null,
            "border": null,
            "bottom": null,
            "display": null,
            "flex": null,
            "flex_flow": null,
            "grid_area": null,
            "grid_auto_columns": null,
            "grid_auto_flow": null,
            "grid_auto_rows": null,
            "grid_column": null,
            "grid_gap": null,
            "grid_row": null,
            "grid_template_areas": null,
            "grid_template_columns": null,
            "grid_template_rows": null,
            "height": null,
            "justify_content": null,
            "justify_items": null,
            "left": null,
            "margin": null,
            "max_height": null,
            "max_width": null,
            "min_height": null,
            "min_width": null,
            "object_fit": null,
            "object_position": null,
            "order": null,
            "overflow": null,
            "overflow_x": null,
            "overflow_y": null,
            "padding": null,
            "right": null,
            "top": null,
            "visibility": null,
            "width": "20px"
          }
        },
        "fe97f42b1bce46cdb515d50e76767b96": {
          "model_module": "@jupyter-widgets/controls",
          "model_name": "ProgressStyleModel",
          "model_module_version": "1.5.0",
          "state": {
            "_model_module": "@jupyter-widgets/controls",
            "_model_module_version": "1.5.0",
            "_model_name": "ProgressStyleModel",
            "_view_count": null,
            "_view_module": "@jupyter-widgets/base",
            "_view_module_version": "1.2.0",
            "_view_name": "StyleView",
            "bar_color": null,
            "description_width": ""
          }
        },
        "734218ed5e3f488ab8ad2207226082e8": {
          "model_module": "@jupyter-widgets/base",
          "model_name": "LayoutModel",
          "model_module_version": "1.2.0",
          "state": {
            "_model_module": "@jupyter-widgets/base",
            "_model_module_version": "1.2.0",
            "_model_name": "LayoutModel",
            "_view_count": null,
            "_view_module": "@jupyter-widgets/base",
            "_view_module_version": "1.2.0",
            "_view_name": "LayoutView",
            "align_content": null,
            "align_items": null,
            "align_self": null,
            "border": null,
            "bottom": null,
            "display": null,
            "flex": null,
            "flex_flow": null,
            "grid_area": null,
            "grid_auto_columns": null,
            "grid_auto_flow": null,
            "grid_auto_rows": null,
            "grid_column": null,
            "grid_gap": null,
            "grid_row": null,
            "grid_template_areas": null,
            "grid_template_columns": null,
            "grid_template_rows": null,
            "height": null,
            "justify_content": null,
            "justify_items": null,
            "left": null,
            "margin": null,
            "max_height": null,
            "max_width": null,
            "min_height": null,
            "min_width": null,
            "object_fit": null,
            "object_position": null,
            "order": null,
            "overflow": null,
            "overflow_x": null,
            "overflow_y": null,
            "padding": null,
            "right": null,
            "top": null,
            "visibility": null,
            "width": null
          }
        },
        "f17e98a9fc0e4ab1bfc591d8ac40369a": {
          "model_module": "@jupyter-widgets/controls",
          "model_name": "DescriptionStyleModel",
          "model_module_version": "1.5.0",
          "state": {
            "_model_module": "@jupyter-widgets/controls",
            "_model_module_version": "1.5.0",
            "_model_name": "DescriptionStyleModel",
            "_view_count": null,
            "_view_module": "@jupyter-widgets/base",
            "_view_module_version": "1.2.0",
            "_view_name": "StyleView",
            "description_width": ""
          }
        },
        "827a8986c5a34a8190368c222d2ff04c": {
          "model_module": "@jupyter-widgets/controls",
          "model_name": "HBoxModel",
          "model_module_version": "1.5.0",
          "state": {
            "_dom_classes": [],
            "_model_module": "@jupyter-widgets/controls",
            "_model_module_version": "1.5.0",
            "_model_name": "HBoxModel",
            "_view_count": null,
            "_view_module": "@jupyter-widgets/controls",
            "_view_module_version": "1.5.0",
            "_view_name": "HBoxView",
            "box_style": "",
            "children": [
              "IPY_MODEL_ee090ebe86c04cc0a253ad676855a839",
              "IPY_MODEL_0d712ef69c1a4207abc2fa98da24644a",
              "IPY_MODEL_57eeb603783749cf9280994b1983a1cc"
            ],
            "layout": "IPY_MODEL_2f0870adce8846949f03d99860848340"
          }
        },
        "ee090ebe86c04cc0a253ad676855a839": {
          "model_module": "@jupyter-widgets/controls",
          "model_name": "HTMLModel",
          "model_module_version": "1.5.0",
          "state": {
            "_dom_classes": [],
            "_model_module": "@jupyter-widgets/controls",
            "_model_module_version": "1.5.0",
            "_model_name": "HTMLModel",
            "_view_count": null,
            "_view_module": "@jupyter-widgets/controls",
            "_view_module_version": "1.5.0",
            "_view_name": "HTMLView",
            "description": "",
            "description_tooltip": null,
            "layout": "IPY_MODEL_f566e3cffee949ff97f55927e14339a9",
            "placeholder": "​",
            "style": "IPY_MODEL_a0f12da5cc494834a6deb182383e851c",
            "value": "Dl Size...: 100%"
          }
        },
        "0d712ef69c1a4207abc2fa98da24644a": {
          "model_module": "@jupyter-widgets/controls",
          "model_name": "FloatProgressModel",
          "model_module_version": "1.5.0",
          "state": {
            "_dom_classes": [],
            "_model_module": "@jupyter-widgets/controls",
            "_model_module_version": "1.5.0",
            "_model_name": "FloatProgressModel",
            "_view_count": null,
            "_view_module": "@jupyter-widgets/controls",
            "_view_module_version": "1.5.0",
            "_view_name": "ProgressView",
            "bar_style": "success",
            "description": "",
            "description_tooltip": null,
            "layout": "IPY_MODEL_4cbfac9d4565418d8f1fd87aabef8f8c",
            "max": 1,
            "min": 0,
            "orientation": "horizontal",
            "style": "IPY_MODEL_e9fb78ab41de4967a59498f79055f7e5",
            "value": 1
          }
        },
        "57eeb603783749cf9280994b1983a1cc": {
          "model_module": "@jupyter-widgets/controls",
          "model_name": "HTMLModel",
          "model_module_version": "1.5.0",
          "state": {
            "_dom_classes": [],
            "_model_module": "@jupyter-widgets/controls",
            "_model_module_version": "1.5.0",
            "_model_name": "HTMLModel",
            "_view_count": null,
            "_view_module": "@jupyter-widgets/controls",
            "_view_module_version": "1.5.0",
            "_view_name": "HTMLView",
            "description": "",
            "description_tooltip": null,
            "layout": "IPY_MODEL_4d1f9191313f4629bd8c728f3bced6b5",
            "placeholder": "​",
            "style": "IPY_MODEL_cd7a6a2defd74cdb8851ca44307848cc",
            "value": " 773/773 [01:25&lt;00:00, 10.38 MiB/s]"
          }
        },
        "2f0870adce8846949f03d99860848340": {
          "model_module": "@jupyter-widgets/base",
          "model_name": "LayoutModel",
          "model_module_version": "1.2.0",
          "state": {
            "_model_module": "@jupyter-widgets/base",
            "_model_module_version": "1.2.0",
            "_model_name": "LayoutModel",
            "_view_count": null,
            "_view_module": "@jupyter-widgets/base",
            "_view_module_version": "1.2.0",
            "_view_name": "LayoutView",
            "align_content": null,
            "align_items": null,
            "align_self": null,
            "border": null,
            "bottom": null,
            "display": null,
            "flex": null,
            "flex_flow": null,
            "grid_area": null,
            "grid_auto_columns": null,
            "grid_auto_flow": null,
            "grid_auto_rows": null,
            "grid_column": null,
            "grid_gap": null,
            "grid_row": null,
            "grid_template_areas": null,
            "grid_template_columns": null,
            "grid_template_rows": null,
            "height": null,
            "justify_content": null,
            "justify_items": null,
            "left": null,
            "margin": null,
            "max_height": null,
            "max_width": null,
            "min_height": null,
            "min_width": null,
            "object_fit": null,
            "object_position": null,
            "order": null,
            "overflow": null,
            "overflow_x": null,
            "overflow_y": null,
            "padding": null,
            "right": null,
            "top": null,
            "visibility": null,
            "width": null
          }
        },
        "f566e3cffee949ff97f55927e14339a9": {
          "model_module": "@jupyter-widgets/base",
          "model_name": "LayoutModel",
          "model_module_version": "1.2.0",
          "state": {
            "_model_module": "@jupyter-widgets/base",
            "_model_module_version": "1.2.0",
            "_model_name": "LayoutModel",
            "_view_count": null,
            "_view_module": "@jupyter-widgets/base",
            "_view_module_version": "1.2.0",
            "_view_name": "LayoutView",
            "align_content": null,
            "align_items": null,
            "align_self": null,
            "border": null,
            "bottom": null,
            "display": null,
            "flex": null,
            "flex_flow": null,
            "grid_area": null,
            "grid_auto_columns": null,
            "grid_auto_flow": null,
            "grid_auto_rows": null,
            "grid_column": null,
            "grid_gap": null,
            "grid_row": null,
            "grid_template_areas": null,
            "grid_template_columns": null,
            "grid_template_rows": null,
            "height": null,
            "justify_content": null,
            "justify_items": null,
            "left": null,
            "margin": null,
            "max_height": null,
            "max_width": null,
            "min_height": null,
            "min_width": null,
            "object_fit": null,
            "object_position": null,
            "order": null,
            "overflow": null,
            "overflow_x": null,
            "overflow_y": null,
            "padding": null,
            "right": null,
            "top": null,
            "visibility": null,
            "width": null
          }
        },
        "a0f12da5cc494834a6deb182383e851c": {
          "model_module": "@jupyter-widgets/controls",
          "model_name": "DescriptionStyleModel",
          "model_module_version": "1.5.0",
          "state": {
            "_model_module": "@jupyter-widgets/controls",
            "_model_module_version": "1.5.0",
            "_model_name": "DescriptionStyleModel",
            "_view_count": null,
            "_view_module": "@jupyter-widgets/base",
            "_view_module_version": "1.2.0",
            "_view_name": "StyleView",
            "description_width": ""
          }
        },
        "4cbfac9d4565418d8f1fd87aabef8f8c": {
          "model_module": "@jupyter-widgets/base",
          "model_name": "LayoutModel",
          "model_module_version": "1.2.0",
          "state": {
            "_model_module": "@jupyter-widgets/base",
            "_model_module_version": "1.2.0",
            "_model_name": "LayoutModel",
            "_view_count": null,
            "_view_module": "@jupyter-widgets/base",
            "_view_module_version": "1.2.0",
            "_view_name": "LayoutView",
            "align_content": null,
            "align_items": null,
            "align_self": null,
            "border": null,
            "bottom": null,
            "display": null,
            "flex": null,
            "flex_flow": null,
            "grid_area": null,
            "grid_auto_columns": null,
            "grid_auto_flow": null,
            "grid_auto_rows": null,
            "grid_column": null,
            "grid_gap": null,
            "grid_row": null,
            "grid_template_areas": null,
            "grid_template_columns": null,
            "grid_template_rows": null,
            "height": null,
            "justify_content": null,
            "justify_items": null,
            "left": null,
            "margin": null,
            "max_height": null,
            "max_width": null,
            "min_height": null,
            "min_width": null,
            "object_fit": null,
            "object_position": null,
            "order": null,
            "overflow": null,
            "overflow_x": null,
            "overflow_y": null,
            "padding": null,
            "right": null,
            "top": null,
            "visibility": null,
            "width": "20px"
          }
        },
        "e9fb78ab41de4967a59498f79055f7e5": {
          "model_module": "@jupyter-widgets/controls",
          "model_name": "ProgressStyleModel",
          "model_module_version": "1.5.0",
          "state": {
            "_model_module": "@jupyter-widgets/controls",
            "_model_module_version": "1.5.0",
            "_model_name": "ProgressStyleModel",
            "_view_count": null,
            "_view_module": "@jupyter-widgets/base",
            "_view_module_version": "1.2.0",
            "_view_name": "StyleView",
            "bar_color": null,
            "description_width": ""
          }
        },
        "4d1f9191313f4629bd8c728f3bced6b5": {
          "model_module": "@jupyter-widgets/base",
          "model_name": "LayoutModel",
          "model_module_version": "1.2.0",
          "state": {
            "_model_module": "@jupyter-widgets/base",
            "_model_module_version": "1.2.0",
            "_model_name": "LayoutModel",
            "_view_count": null,
            "_view_module": "@jupyter-widgets/base",
            "_view_module_version": "1.2.0",
            "_view_name": "LayoutView",
            "align_content": null,
            "align_items": null,
            "align_self": null,
            "border": null,
            "bottom": null,
            "display": null,
            "flex": null,
            "flex_flow": null,
            "grid_area": null,
            "grid_auto_columns": null,
            "grid_auto_flow": null,
            "grid_auto_rows": null,
            "grid_column": null,
            "grid_gap": null,
            "grid_row": null,
            "grid_template_areas": null,
            "grid_template_columns": null,
            "grid_template_rows": null,
            "height": null,
            "justify_content": null,
            "justify_items": null,
            "left": null,
            "margin": null,
            "max_height": null,
            "max_width": null,
            "min_height": null,
            "min_width": null,
            "object_fit": null,
            "object_position": null,
            "order": null,
            "overflow": null,
            "overflow_x": null,
            "overflow_y": null,
            "padding": null,
            "right": null,
            "top": null,
            "visibility": null,
            "width": null
          }
        },
        "cd7a6a2defd74cdb8851ca44307848cc": {
          "model_module": "@jupyter-widgets/controls",
          "model_name": "DescriptionStyleModel",
          "model_module_version": "1.5.0",
          "state": {
            "_model_module": "@jupyter-widgets/controls",
            "_model_module_version": "1.5.0",
            "_model_name": "DescriptionStyleModel",
            "_view_count": null,
            "_view_module": "@jupyter-widgets/base",
            "_view_module_version": "1.2.0",
            "_view_name": "StyleView",
            "description_width": ""
          }
        },
        "57f18b05e5084afbb5f7b19879af968d": {
          "model_module": "@jupyter-widgets/controls",
          "model_name": "HBoxModel",
          "model_module_version": "1.5.0",
          "state": {
            "_dom_classes": [],
            "_model_module": "@jupyter-widgets/controls",
            "_model_module_version": "1.5.0",
            "_model_name": "HBoxModel",
            "_view_count": null,
            "_view_module": "@jupyter-widgets/controls",
            "_view_module_version": "1.5.0",
            "_view_name": "HBoxView",
            "box_style": "",
            "children": [
              "IPY_MODEL_01217c8c3a434c479de50c49c1a5004a",
              "IPY_MODEL_6e7ac87fdcd444a591f17bc3ec7af003",
              "IPY_MODEL_a678582367a741989cbafc5422fed615"
            ],
            "layout": "IPY_MODEL_e188fb45a3a84cbfa7c390a30b409c5c"
          }
        },
        "01217c8c3a434c479de50c49c1a5004a": {
          "model_module": "@jupyter-widgets/controls",
          "model_name": "HTMLModel",
          "model_module_version": "1.5.0",
          "state": {
            "_dom_classes": [],
            "_model_module": "@jupyter-widgets/controls",
            "_model_module_version": "1.5.0",
            "_model_name": "HTMLModel",
            "_view_count": null,
            "_view_module": "@jupyter-widgets/controls",
            "_view_module_version": "1.5.0",
            "_view_name": "HTMLView",
            "description": "",
            "description_tooltip": null,
            "layout": "IPY_MODEL_79ddbe5a198c4f9eac48ed0ef199fc8b",
            "placeholder": "​",
            "style": "IPY_MODEL_1f96b94bde084c458544bfa7f70bee57",
            "value": "Extraction completed...: 100%"
          }
        },
        "6e7ac87fdcd444a591f17bc3ec7af003": {
          "model_module": "@jupyter-widgets/controls",
          "model_name": "FloatProgressModel",
          "model_module_version": "1.5.0",
          "state": {
            "_dom_classes": [],
            "_model_module": "@jupyter-widgets/controls",
            "_model_module_version": "1.5.0",
            "_model_name": "FloatProgressModel",
            "_view_count": null,
            "_view_module": "@jupyter-widgets/controls",
            "_view_module_version": "1.5.0",
            "_view_name": "ProgressView",
            "bar_style": "success",
            "description": "",
            "description_tooltip": null,
            "layout": "IPY_MODEL_9dfda56af02446c4944dd79e9832a3d7",
            "max": 1,
            "min": 0,
            "orientation": "horizontal",
            "style": "IPY_MODEL_d0340028188b46eb980c75beffa35336",
            "value": 1
          }
        },
        "a678582367a741989cbafc5422fed615": {
          "model_module": "@jupyter-widgets/controls",
          "model_name": "HTMLModel",
          "model_module_version": "1.5.0",
          "state": {
            "_dom_classes": [],
            "_model_module": "@jupyter-widgets/controls",
            "_model_module_version": "1.5.0",
            "_model_name": "HTMLModel",
            "_view_count": null,
            "_view_module": "@jupyter-widgets/controls",
            "_view_module_version": "1.5.0",
            "_view_name": "HTMLView",
            "description": "",
            "description_tooltip": null,
            "layout": "IPY_MODEL_5db864ad2a31490b8857891a9ab9d8f3",
            "placeholder": "​",
            "style": "IPY_MODEL_530a04acd4e24732902426b63d70cc65",
            "value": " 2/2 [01:25&lt;00:00, 48.21s/ file]"
          }
        },
        "e188fb45a3a84cbfa7c390a30b409c5c": {
          "model_module": "@jupyter-widgets/base",
          "model_name": "LayoutModel",
          "model_module_version": "1.2.0",
          "state": {
            "_model_module": "@jupyter-widgets/base",
            "_model_module_version": "1.2.0",
            "_model_name": "LayoutModel",
            "_view_count": null,
            "_view_module": "@jupyter-widgets/base",
            "_view_module_version": "1.2.0",
            "_view_name": "LayoutView",
            "align_content": null,
            "align_items": null,
            "align_self": null,
            "border": null,
            "bottom": null,
            "display": null,
            "flex": null,
            "flex_flow": null,
            "grid_area": null,
            "grid_auto_columns": null,
            "grid_auto_flow": null,
            "grid_auto_rows": null,
            "grid_column": null,
            "grid_gap": null,
            "grid_row": null,
            "grid_template_areas": null,
            "grid_template_columns": null,
            "grid_template_rows": null,
            "height": null,
            "justify_content": null,
            "justify_items": null,
            "left": null,
            "margin": null,
            "max_height": null,
            "max_width": null,
            "min_height": null,
            "min_width": null,
            "object_fit": null,
            "object_position": null,
            "order": null,
            "overflow": null,
            "overflow_x": null,
            "overflow_y": null,
            "padding": null,
            "right": null,
            "top": null,
            "visibility": null,
            "width": null
          }
        },
        "79ddbe5a198c4f9eac48ed0ef199fc8b": {
          "model_module": "@jupyter-widgets/base",
          "model_name": "LayoutModel",
          "model_module_version": "1.2.0",
          "state": {
            "_model_module": "@jupyter-widgets/base",
            "_model_module_version": "1.2.0",
            "_model_name": "LayoutModel",
            "_view_count": null,
            "_view_module": "@jupyter-widgets/base",
            "_view_module_version": "1.2.0",
            "_view_name": "LayoutView",
            "align_content": null,
            "align_items": null,
            "align_self": null,
            "border": null,
            "bottom": null,
            "display": null,
            "flex": null,
            "flex_flow": null,
            "grid_area": null,
            "grid_auto_columns": null,
            "grid_auto_flow": null,
            "grid_auto_rows": null,
            "grid_column": null,
            "grid_gap": null,
            "grid_row": null,
            "grid_template_areas": null,
            "grid_template_columns": null,
            "grid_template_rows": null,
            "height": null,
            "justify_content": null,
            "justify_items": null,
            "left": null,
            "margin": null,
            "max_height": null,
            "max_width": null,
            "min_height": null,
            "min_width": null,
            "object_fit": null,
            "object_position": null,
            "order": null,
            "overflow": null,
            "overflow_x": null,
            "overflow_y": null,
            "padding": null,
            "right": null,
            "top": null,
            "visibility": null,
            "width": null
          }
        },
        "1f96b94bde084c458544bfa7f70bee57": {
          "model_module": "@jupyter-widgets/controls",
          "model_name": "DescriptionStyleModel",
          "model_module_version": "1.5.0",
          "state": {
            "_model_module": "@jupyter-widgets/controls",
            "_model_module_version": "1.5.0",
            "_model_name": "DescriptionStyleModel",
            "_view_count": null,
            "_view_module": "@jupyter-widgets/base",
            "_view_module_version": "1.2.0",
            "_view_name": "StyleView",
            "description_width": ""
          }
        },
        "9dfda56af02446c4944dd79e9832a3d7": {
          "model_module": "@jupyter-widgets/base",
          "model_name": "LayoutModel",
          "model_module_version": "1.2.0",
          "state": {
            "_model_module": "@jupyter-widgets/base",
            "_model_module_version": "1.2.0",
            "_model_name": "LayoutModel",
            "_view_count": null,
            "_view_module": "@jupyter-widgets/base",
            "_view_module_version": "1.2.0",
            "_view_name": "LayoutView",
            "align_content": null,
            "align_items": null,
            "align_self": null,
            "border": null,
            "bottom": null,
            "display": null,
            "flex": null,
            "flex_flow": null,
            "grid_area": null,
            "grid_auto_columns": null,
            "grid_auto_flow": null,
            "grid_auto_rows": null,
            "grid_column": null,
            "grid_gap": null,
            "grid_row": null,
            "grid_template_areas": null,
            "grid_template_columns": null,
            "grid_template_rows": null,
            "height": null,
            "justify_content": null,
            "justify_items": null,
            "left": null,
            "margin": null,
            "max_height": null,
            "max_width": null,
            "min_height": null,
            "min_width": null,
            "object_fit": null,
            "object_position": null,
            "order": null,
            "overflow": null,
            "overflow_x": null,
            "overflow_y": null,
            "padding": null,
            "right": null,
            "top": null,
            "visibility": null,
            "width": "20px"
          }
        },
        "d0340028188b46eb980c75beffa35336": {
          "model_module": "@jupyter-widgets/controls",
          "model_name": "ProgressStyleModel",
          "model_module_version": "1.5.0",
          "state": {
            "_model_module": "@jupyter-widgets/controls",
            "_model_module_version": "1.5.0",
            "_model_name": "ProgressStyleModel",
            "_view_count": null,
            "_view_module": "@jupyter-widgets/base",
            "_view_module_version": "1.2.0",
            "_view_name": "StyleView",
            "bar_color": null,
            "description_width": ""
          }
        },
        "5db864ad2a31490b8857891a9ab9d8f3": {
          "model_module": "@jupyter-widgets/base",
          "model_name": "LayoutModel",
          "model_module_version": "1.2.0",
          "state": {
            "_model_module": "@jupyter-widgets/base",
            "_model_module_version": "1.2.0",
            "_model_name": "LayoutModel",
            "_view_count": null,
            "_view_module": "@jupyter-widgets/base",
            "_view_module_version": "1.2.0",
            "_view_name": "LayoutView",
            "align_content": null,
            "align_items": null,
            "align_self": null,
            "border": null,
            "bottom": null,
            "display": null,
            "flex": null,
            "flex_flow": null,
            "grid_area": null,
            "grid_auto_columns": null,
            "grid_auto_flow": null,
            "grid_auto_rows": null,
            "grid_column": null,
            "grid_gap": null,
            "grid_row": null,
            "grid_template_areas": null,
            "grid_template_columns": null,
            "grid_template_rows": null,
            "height": null,
            "justify_content": null,
            "justify_items": null,
            "left": null,
            "margin": null,
            "max_height": null,
            "max_width": null,
            "min_height": null,
            "min_width": null,
            "object_fit": null,
            "object_position": null,
            "order": null,
            "overflow": null,
            "overflow_x": null,
            "overflow_y": null,
            "padding": null,
            "right": null,
            "top": null,
            "visibility": null,
            "width": null
          }
        },
        "530a04acd4e24732902426b63d70cc65": {
          "model_module": "@jupyter-widgets/controls",
          "model_name": "DescriptionStyleModel",
          "model_module_version": "1.5.0",
          "state": {
            "_model_module": "@jupyter-widgets/controls",
            "_model_module_version": "1.5.0",
            "_model_name": "DescriptionStyleModel",
            "_view_count": null,
            "_view_module": "@jupyter-widgets/base",
            "_view_module_version": "1.2.0",
            "_view_name": "StyleView",
            "description_width": ""
          }
        },
        "0459c7a978cb406fa8a1fa7ce1d0ef6c": {
          "model_module": "@jupyter-widgets/controls",
          "model_name": "HBoxModel",
          "model_module_version": "1.5.0",
          "state": {
            "_dom_classes": [],
            "_model_module": "@jupyter-widgets/controls",
            "_model_module_version": "1.5.0",
            "_model_name": "HBoxModel",
            "_view_count": null,
            "_view_module": "@jupyter-widgets/controls",
            "_view_module_version": "1.5.0",
            "_view_name": "HBoxView",
            "box_style": "",
            "children": [
              "IPY_MODEL_b8b1cd6cc55d4e859e9e4893f415e1c9",
              "IPY_MODEL_30fa7d719c7541aebec5706d78a6bcad",
              "IPY_MODEL_d33fe60944244932a96dd28560f70914"
            ],
            "layout": "IPY_MODEL_db9c1467928b490aaf8c7e398a16f29a"
          }
        },
        "b8b1cd6cc55d4e859e9e4893f415e1c9": {
          "model_module": "@jupyter-widgets/controls",
          "model_name": "HTMLModel",
          "model_module_version": "1.5.0",
          "state": {
            "_dom_classes": [],
            "_model_module": "@jupyter-widgets/controls",
            "_model_module_version": "1.5.0",
            "_model_name": "HTMLModel",
            "_view_count": null,
            "_view_module": "@jupyter-widgets/controls",
            "_view_module_version": "1.5.0",
            "_view_name": "HTMLView",
            "description": "",
            "description_tooltip": null,
            "layout": "IPY_MODEL_a630f582b58d493fa472d74cb4d61f6c",
            "placeholder": "​",
            "style": "IPY_MODEL_18054b9a8def4dfc9615fa12911f6c06",
            "value": ""
          }
        },
        "30fa7d719c7541aebec5706d78a6bcad": {
          "model_module": "@jupyter-widgets/controls",
          "model_name": "FloatProgressModel",
          "model_module_version": "1.5.0",
          "state": {
            "_dom_classes": [],
            "_model_module": "@jupyter-widgets/controls",
            "_model_module_version": "1.5.0",
            "_model_name": "FloatProgressModel",
            "_view_count": null,
            "_view_module": "@jupyter-widgets/controls",
            "_view_module_version": "1.5.0",
            "_view_name": "ProgressView",
            "bar_style": "info",
            "description": "",
            "description_tooltip": null,
            "layout": "IPY_MODEL_4a9df2a4c7814d3ea032bac05a2c9fb6",
            "max": 1,
            "min": 0,
            "orientation": "horizontal",
            "style": "IPY_MODEL_c34c6ae323f842c58acbe025fd8ca329",
            "value": 1
          }
        },
        "d33fe60944244932a96dd28560f70914": {
          "model_module": "@jupyter-widgets/controls",
          "model_name": "HTMLModel",
          "model_module_version": "1.5.0",
          "state": {
            "_dom_classes": [],
            "_model_module": "@jupyter-widgets/controls",
            "_model_module_version": "1.5.0",
            "_model_name": "HTMLModel",
            "_view_count": null,
            "_view_module": "@jupyter-widgets/controls",
            "_view_module_version": "1.5.0",
            "_view_name": "HTMLView",
            "description": "",
            "description_tooltip": null,
            "layout": "IPY_MODEL_d6997fd3221c4ac692256edb26f5c571",
            "placeholder": "​",
            "style": "IPY_MODEL_9d28b33073e642bcb775590c48487b0c",
            "value": " 3621/0 [00:03&lt;00:00, 1016.16 examples/s]"
          }
        },
        "db9c1467928b490aaf8c7e398a16f29a": {
          "model_module": "@jupyter-widgets/base",
          "model_name": "LayoutModel",
          "model_module_version": "1.2.0",
          "state": {
            "_model_module": "@jupyter-widgets/base",
            "_model_module_version": "1.2.0",
            "_model_name": "LayoutModel",
            "_view_count": null,
            "_view_module": "@jupyter-widgets/base",
            "_view_module_version": "1.2.0",
            "_view_name": "LayoutView",
            "align_content": null,
            "align_items": null,
            "align_self": null,
            "border": null,
            "bottom": null,
            "display": null,
            "flex": null,
            "flex_flow": null,
            "grid_area": null,
            "grid_auto_columns": null,
            "grid_auto_flow": null,
            "grid_auto_rows": null,
            "grid_column": null,
            "grid_gap": null,
            "grid_row": null,
            "grid_template_areas": null,
            "grid_template_columns": null,
            "grid_template_rows": null,
            "height": null,
            "justify_content": null,
            "justify_items": null,
            "left": null,
            "margin": null,
            "max_height": null,
            "max_width": null,
            "min_height": null,
            "min_width": null,
            "object_fit": null,
            "object_position": null,
            "order": null,
            "overflow": null,
            "overflow_x": null,
            "overflow_y": null,
            "padding": null,
            "right": null,
            "top": null,
            "visibility": null,
            "width": null
          }
        },
        "a630f582b58d493fa472d74cb4d61f6c": {
          "model_module": "@jupyter-widgets/base",
          "model_name": "LayoutModel",
          "model_module_version": "1.2.0",
          "state": {
            "_model_module": "@jupyter-widgets/base",
            "_model_module_version": "1.2.0",
            "_model_name": "LayoutModel",
            "_view_count": null,
            "_view_module": "@jupyter-widgets/base",
            "_view_module_version": "1.2.0",
            "_view_name": "LayoutView",
            "align_content": null,
            "align_items": null,
            "align_self": null,
            "border": null,
            "bottom": null,
            "display": null,
            "flex": null,
            "flex_flow": null,
            "grid_area": null,
            "grid_auto_columns": null,
            "grid_auto_flow": null,
            "grid_auto_rows": null,
            "grid_column": null,
            "grid_gap": null,
            "grid_row": null,
            "grid_template_areas": null,
            "grid_template_columns": null,
            "grid_template_rows": null,
            "height": null,
            "justify_content": null,
            "justify_items": null,
            "left": null,
            "margin": null,
            "max_height": null,
            "max_width": null,
            "min_height": null,
            "min_width": null,
            "object_fit": null,
            "object_position": null,
            "order": null,
            "overflow": null,
            "overflow_x": null,
            "overflow_y": null,
            "padding": null,
            "right": null,
            "top": null,
            "visibility": null,
            "width": null
          }
        },
        "18054b9a8def4dfc9615fa12911f6c06": {
          "model_module": "@jupyter-widgets/controls",
          "model_name": "DescriptionStyleModel",
          "model_module_version": "1.5.0",
          "state": {
            "_model_module": "@jupyter-widgets/controls",
            "_model_module_version": "1.5.0",
            "_model_name": "DescriptionStyleModel",
            "_view_count": null,
            "_view_module": "@jupyter-widgets/base",
            "_view_module_version": "1.2.0",
            "_view_name": "StyleView",
            "description_width": ""
          }
        },
        "4a9df2a4c7814d3ea032bac05a2c9fb6": {
          "model_module": "@jupyter-widgets/base",
          "model_name": "LayoutModel",
          "model_module_version": "1.2.0",
          "state": {
            "_model_module": "@jupyter-widgets/base",
            "_model_module_version": "1.2.0",
            "_model_name": "LayoutModel",
            "_view_count": null,
            "_view_module": "@jupyter-widgets/base",
            "_view_module_version": "1.2.0",
            "_view_name": "LayoutView",
            "align_content": null,
            "align_items": null,
            "align_self": null,
            "border": null,
            "bottom": null,
            "display": null,
            "flex": null,
            "flex_flow": null,
            "grid_area": null,
            "grid_auto_columns": null,
            "grid_auto_flow": null,
            "grid_auto_rows": null,
            "grid_column": null,
            "grid_gap": null,
            "grid_row": null,
            "grid_template_areas": null,
            "grid_template_columns": null,
            "grid_template_rows": null,
            "height": null,
            "justify_content": null,
            "justify_items": null,
            "left": null,
            "margin": null,
            "max_height": null,
            "max_width": null,
            "min_height": null,
            "min_width": null,
            "object_fit": null,
            "object_position": null,
            "order": null,
            "overflow": null,
            "overflow_x": null,
            "overflow_y": null,
            "padding": null,
            "right": null,
            "top": null,
            "visibility": null,
            "width": "20px"
          }
        },
        "c34c6ae323f842c58acbe025fd8ca329": {
          "model_module": "@jupyter-widgets/controls",
          "model_name": "ProgressStyleModel",
          "model_module_version": "1.5.0",
          "state": {
            "_model_module": "@jupyter-widgets/controls",
            "_model_module_version": "1.5.0",
            "_model_name": "ProgressStyleModel",
            "_view_count": null,
            "_view_module": "@jupyter-widgets/base",
            "_view_module_version": "1.2.0",
            "_view_name": "StyleView",
            "bar_color": null,
            "description_width": ""
          }
        },
        "d6997fd3221c4ac692256edb26f5c571": {
          "model_module": "@jupyter-widgets/base",
          "model_name": "LayoutModel",
          "model_module_version": "1.2.0",
          "state": {
            "_model_module": "@jupyter-widgets/base",
            "_model_module_version": "1.2.0",
            "_model_name": "LayoutModel",
            "_view_count": null,
            "_view_module": "@jupyter-widgets/base",
            "_view_module_version": "1.2.0",
            "_view_name": "LayoutView",
            "align_content": null,
            "align_items": null,
            "align_self": null,
            "border": null,
            "bottom": null,
            "display": null,
            "flex": null,
            "flex_flow": null,
            "grid_area": null,
            "grid_auto_columns": null,
            "grid_auto_flow": null,
            "grid_auto_rows": null,
            "grid_column": null,
            "grid_gap": null,
            "grid_row": null,
            "grid_template_areas": null,
            "grid_template_columns": null,
            "grid_template_rows": null,
            "height": null,
            "justify_content": null,
            "justify_items": null,
            "left": null,
            "margin": null,
            "max_height": null,
            "max_width": null,
            "min_height": null,
            "min_width": null,
            "object_fit": null,
            "object_position": null,
            "order": null,
            "overflow": null,
            "overflow_x": null,
            "overflow_y": null,
            "padding": null,
            "right": null,
            "top": null,
            "visibility": null,
            "width": null
          }
        },
        "9d28b33073e642bcb775590c48487b0c": {
          "model_module": "@jupyter-widgets/controls",
          "model_name": "DescriptionStyleModel",
          "model_module_version": "1.5.0",
          "state": {
            "_model_module": "@jupyter-widgets/controls",
            "_model_module_version": "1.5.0",
            "_model_name": "DescriptionStyleModel",
            "_view_count": null,
            "_view_module": "@jupyter-widgets/base",
            "_view_module_version": "1.2.0",
            "_view_name": "StyleView",
            "description_width": ""
          }
        },
        "72a8bf47e77444d2abc8cdee39bb71d0": {
          "model_module": "@jupyter-widgets/controls",
          "model_name": "HBoxModel",
          "model_module_version": "1.5.0",
          "state": {
            "_dom_classes": [],
            "_model_module": "@jupyter-widgets/controls",
            "_model_module_version": "1.5.0",
            "_model_name": "HBoxModel",
            "_view_count": null,
            "_view_module": "@jupyter-widgets/controls",
            "_view_module_version": "1.5.0",
            "_view_name": "HBoxView",
            "box_style": "",
            "children": [
              "IPY_MODEL_5fd04ea574e14fa19a88e89d99de9fbe",
              "IPY_MODEL_74b6c6c2cef947f685523eb9a9a3658c",
              "IPY_MODEL_fe87cddc38fd43a98ab0fa1eb66a61e2"
            ],
            "layout": "IPY_MODEL_944079a9ff85436c97bf21037f438c77"
          }
        },
        "5fd04ea574e14fa19a88e89d99de9fbe": {
          "model_module": "@jupyter-widgets/controls",
          "model_name": "HTMLModel",
          "model_module_version": "1.5.0",
          "state": {
            "_dom_classes": [],
            "_model_module": "@jupyter-widgets/controls",
            "_model_module_version": "1.5.0",
            "_model_name": "HTMLModel",
            "_view_count": null,
            "_view_module": "@jupyter-widgets/controls",
            "_view_module_version": "1.5.0",
            "_view_name": "HTMLView",
            "description": "",
            "description_tooltip": null,
            "layout": "IPY_MODEL_db3eed8f7ce84cbab3e7a9bbf8fb0b68",
            "placeholder": "​",
            "style": "IPY_MODEL_efb128a8c28d420abf08b138283da7dc",
            "value": "100%"
          }
        },
        "74b6c6c2cef947f685523eb9a9a3658c": {
          "model_module": "@jupyter-widgets/controls",
          "model_name": "FloatProgressModel",
          "model_module_version": "1.5.0",
          "state": {
            "_dom_classes": [],
            "_model_module": "@jupyter-widgets/controls",
            "_model_module_version": "1.5.0",
            "_model_name": "FloatProgressModel",
            "_view_count": null,
            "_view_module": "@jupyter-widgets/controls",
            "_view_module_version": "1.5.0",
            "_view_name": "ProgressView",
            "bar_style": "danger",
            "description": "",
            "description_tooltip": null,
            "layout": "IPY_MODEL_f2e7eaa1a9424d20bc2a70ec082faf6a",
            "max": 3680,
            "min": 0,
            "orientation": "horizontal",
            "style": "IPY_MODEL_3544c6525a584224a0b950d9fc8019e6",
            "value": 3679
          }
        },
        "fe87cddc38fd43a98ab0fa1eb66a61e2": {
          "model_module": "@jupyter-widgets/controls",
          "model_name": "HTMLModel",
          "model_module_version": "1.5.0",
          "state": {
            "_dom_classes": [],
            "_model_module": "@jupyter-widgets/controls",
            "_model_module_version": "1.5.0",
            "_model_name": "HTMLModel",
            "_view_count": null,
            "_view_module": "@jupyter-widgets/controls",
            "_view_module_version": "1.5.0",
            "_view_name": "HTMLView",
            "description": "",
            "description_tooltip": null,
            "layout": "IPY_MODEL_71d4b78e1deb436b8b5306e7a850145b",
            "placeholder": "​",
            "style": "IPY_MODEL_c3d93cc1e4df43b0887d7c3b3575ff34",
            "value": " 3679/3680 [00:00&lt;00:00, 3573.46 examples/s]"
          }
        },
        "944079a9ff85436c97bf21037f438c77": {
          "model_module": "@jupyter-widgets/base",
          "model_name": "LayoutModel",
          "model_module_version": "1.2.0",
          "state": {
            "_model_module": "@jupyter-widgets/base",
            "_model_module_version": "1.2.0",
            "_model_name": "LayoutModel",
            "_view_count": null,
            "_view_module": "@jupyter-widgets/base",
            "_view_module_version": "1.2.0",
            "_view_name": "LayoutView",
            "align_content": null,
            "align_items": null,
            "align_self": null,
            "border": null,
            "bottom": null,
            "display": null,
            "flex": null,
            "flex_flow": null,
            "grid_area": null,
            "grid_auto_columns": null,
            "grid_auto_flow": null,
            "grid_auto_rows": null,
            "grid_column": null,
            "grid_gap": null,
            "grid_row": null,
            "grid_template_areas": null,
            "grid_template_columns": null,
            "grid_template_rows": null,
            "height": null,
            "justify_content": null,
            "justify_items": null,
            "left": null,
            "margin": null,
            "max_height": null,
            "max_width": null,
            "min_height": null,
            "min_width": null,
            "object_fit": null,
            "object_position": null,
            "order": null,
            "overflow": null,
            "overflow_x": null,
            "overflow_y": null,
            "padding": null,
            "right": null,
            "top": null,
            "visibility": null,
            "width": null
          }
        },
        "db3eed8f7ce84cbab3e7a9bbf8fb0b68": {
          "model_module": "@jupyter-widgets/base",
          "model_name": "LayoutModel",
          "model_module_version": "1.2.0",
          "state": {
            "_model_module": "@jupyter-widgets/base",
            "_model_module_version": "1.2.0",
            "_model_name": "LayoutModel",
            "_view_count": null,
            "_view_module": "@jupyter-widgets/base",
            "_view_module_version": "1.2.0",
            "_view_name": "LayoutView",
            "align_content": null,
            "align_items": null,
            "align_self": null,
            "border": null,
            "bottom": null,
            "display": null,
            "flex": null,
            "flex_flow": null,
            "grid_area": null,
            "grid_auto_columns": null,
            "grid_auto_flow": null,
            "grid_auto_rows": null,
            "grid_column": null,
            "grid_gap": null,
            "grid_row": null,
            "grid_template_areas": null,
            "grid_template_columns": null,
            "grid_template_rows": null,
            "height": null,
            "justify_content": null,
            "justify_items": null,
            "left": null,
            "margin": null,
            "max_height": null,
            "max_width": null,
            "min_height": null,
            "min_width": null,
            "object_fit": null,
            "object_position": null,
            "order": null,
            "overflow": null,
            "overflow_x": null,
            "overflow_y": null,
            "padding": null,
            "right": null,
            "top": null,
            "visibility": null,
            "width": null
          }
        },
        "efb128a8c28d420abf08b138283da7dc": {
          "model_module": "@jupyter-widgets/controls",
          "model_name": "DescriptionStyleModel",
          "model_module_version": "1.5.0",
          "state": {
            "_model_module": "@jupyter-widgets/controls",
            "_model_module_version": "1.5.0",
            "_model_name": "DescriptionStyleModel",
            "_view_count": null,
            "_view_module": "@jupyter-widgets/base",
            "_view_module_version": "1.2.0",
            "_view_name": "StyleView",
            "description_width": ""
          }
        },
        "f2e7eaa1a9424d20bc2a70ec082faf6a": {
          "model_module": "@jupyter-widgets/base",
          "model_name": "LayoutModel",
          "model_module_version": "1.2.0",
          "state": {
            "_model_module": "@jupyter-widgets/base",
            "_model_module_version": "1.2.0",
            "_model_name": "LayoutModel",
            "_view_count": null,
            "_view_module": "@jupyter-widgets/base",
            "_view_module_version": "1.2.0",
            "_view_name": "LayoutView",
            "align_content": null,
            "align_items": null,
            "align_self": null,
            "border": null,
            "bottom": null,
            "display": null,
            "flex": null,
            "flex_flow": null,
            "grid_area": null,
            "grid_auto_columns": null,
            "grid_auto_flow": null,
            "grid_auto_rows": null,
            "grid_column": null,
            "grid_gap": null,
            "grid_row": null,
            "grid_template_areas": null,
            "grid_template_columns": null,
            "grid_template_rows": null,
            "height": null,
            "justify_content": null,
            "justify_items": null,
            "left": null,
            "margin": null,
            "max_height": null,
            "max_width": null,
            "min_height": null,
            "min_width": null,
            "object_fit": null,
            "object_position": null,
            "order": null,
            "overflow": null,
            "overflow_x": null,
            "overflow_y": null,
            "padding": null,
            "right": null,
            "top": null,
            "visibility": null,
            "width": null
          }
        },
        "3544c6525a584224a0b950d9fc8019e6": {
          "model_module": "@jupyter-widgets/controls",
          "model_name": "ProgressStyleModel",
          "model_module_version": "1.5.0",
          "state": {
            "_model_module": "@jupyter-widgets/controls",
            "_model_module_version": "1.5.0",
            "_model_name": "ProgressStyleModel",
            "_view_count": null,
            "_view_module": "@jupyter-widgets/base",
            "_view_module_version": "1.2.0",
            "_view_name": "StyleView",
            "bar_color": null,
            "description_width": ""
          }
        },
        "71d4b78e1deb436b8b5306e7a850145b": {
          "model_module": "@jupyter-widgets/base",
          "model_name": "LayoutModel",
          "model_module_version": "1.2.0",
          "state": {
            "_model_module": "@jupyter-widgets/base",
            "_model_module_version": "1.2.0",
            "_model_name": "LayoutModel",
            "_view_count": null,
            "_view_module": "@jupyter-widgets/base",
            "_view_module_version": "1.2.0",
            "_view_name": "LayoutView",
            "align_content": null,
            "align_items": null,
            "align_self": null,
            "border": null,
            "bottom": null,
            "display": null,
            "flex": null,
            "flex_flow": null,
            "grid_area": null,
            "grid_auto_columns": null,
            "grid_auto_flow": null,
            "grid_auto_rows": null,
            "grid_column": null,
            "grid_gap": null,
            "grid_row": null,
            "grid_template_areas": null,
            "grid_template_columns": null,
            "grid_template_rows": null,
            "height": null,
            "justify_content": null,
            "justify_items": null,
            "left": null,
            "margin": null,
            "max_height": null,
            "max_width": null,
            "min_height": null,
            "min_width": null,
            "object_fit": null,
            "object_position": null,
            "order": null,
            "overflow": null,
            "overflow_x": null,
            "overflow_y": null,
            "padding": null,
            "right": null,
            "top": null,
            "visibility": null,
            "width": null
          }
        },
        "c3d93cc1e4df43b0887d7c3b3575ff34": {
          "model_module": "@jupyter-widgets/controls",
          "model_name": "DescriptionStyleModel",
          "model_module_version": "1.5.0",
          "state": {
            "_model_module": "@jupyter-widgets/controls",
            "_model_module_version": "1.5.0",
            "_model_name": "DescriptionStyleModel",
            "_view_count": null,
            "_view_module": "@jupyter-widgets/base",
            "_view_module_version": "1.2.0",
            "_view_name": "StyleView",
            "description_width": ""
          }
        },
        "ac6695435e7944e08d698596b1799071": {
          "model_module": "@jupyter-widgets/controls",
          "model_name": "HBoxModel",
          "model_module_version": "1.5.0",
          "state": {
            "_dom_classes": [],
            "_model_module": "@jupyter-widgets/controls",
            "_model_module_version": "1.5.0",
            "_model_name": "HBoxModel",
            "_view_count": null,
            "_view_module": "@jupyter-widgets/controls",
            "_view_module_version": "1.5.0",
            "_view_name": "HBoxView",
            "box_style": "",
            "children": [
              "IPY_MODEL_cfe83bb4e61948b78e80ed6bd73109d6",
              "IPY_MODEL_d307dc5dd61946ca8eb4da8744aadaca",
              "IPY_MODEL_ccfceddfc870438a895c1c6ca6cde925"
            ],
            "layout": "IPY_MODEL_be8bd3b8593049a987936512cd973cdc"
          }
        },
        "cfe83bb4e61948b78e80ed6bd73109d6": {
          "model_module": "@jupyter-widgets/controls",
          "model_name": "HTMLModel",
          "model_module_version": "1.5.0",
          "state": {
            "_dom_classes": [],
            "_model_module": "@jupyter-widgets/controls",
            "_model_module_version": "1.5.0",
            "_model_name": "HTMLModel",
            "_view_count": null,
            "_view_module": "@jupyter-widgets/controls",
            "_view_module_version": "1.5.0",
            "_view_name": "HTMLView",
            "description": "",
            "description_tooltip": null,
            "layout": "IPY_MODEL_cb0047efc78643ff9ab0ac205a695b1d",
            "placeholder": "​",
            "style": "IPY_MODEL_4552cfff2a3c47ce89a153fc8f79db34",
            "value": ""
          }
        },
        "d307dc5dd61946ca8eb4da8744aadaca": {
          "model_module": "@jupyter-widgets/controls",
          "model_name": "FloatProgressModel",
          "model_module_version": "1.5.0",
          "state": {
            "_dom_classes": [],
            "_model_module": "@jupyter-widgets/controls",
            "_model_module_version": "1.5.0",
            "_model_name": "FloatProgressModel",
            "_view_count": null,
            "_view_module": "@jupyter-widgets/controls",
            "_view_module_version": "1.5.0",
            "_view_name": "ProgressView",
            "bar_style": "info",
            "description": "",
            "description_tooltip": null,
            "layout": "IPY_MODEL_3eb6826626f443e5a043986b6de30dd1",
            "max": 1,
            "min": 0,
            "orientation": "horizontal",
            "style": "IPY_MODEL_129f9e1a0430487fbdf5a8a6b238ba04",
            "value": 1
          }
        },
        "ccfceddfc870438a895c1c6ca6cde925": {
          "model_module": "@jupyter-widgets/controls",
          "model_name": "HTMLModel",
          "model_module_version": "1.5.0",
          "state": {
            "_dom_classes": [],
            "_model_module": "@jupyter-widgets/controls",
            "_model_module_version": "1.5.0",
            "_model_name": "HTMLModel",
            "_view_count": null,
            "_view_module": "@jupyter-widgets/controls",
            "_view_module_version": "1.5.0",
            "_view_name": "HTMLView",
            "description": "",
            "description_tooltip": null,
            "layout": "IPY_MODEL_ab71d1cbc56f46f786b368b5d9248721",
            "placeholder": "​",
            "style": "IPY_MODEL_203cc42db62c4567a0e047a55e29ae85",
            "value": " 3569/0 [00:03&lt;00:00, 1028.14 examples/s]"
          }
        },
        "be8bd3b8593049a987936512cd973cdc": {
          "model_module": "@jupyter-widgets/base",
          "model_name": "LayoutModel",
          "model_module_version": "1.2.0",
          "state": {
            "_model_module": "@jupyter-widgets/base",
            "_model_module_version": "1.2.0",
            "_model_name": "LayoutModel",
            "_view_count": null,
            "_view_module": "@jupyter-widgets/base",
            "_view_module_version": "1.2.0",
            "_view_name": "LayoutView",
            "align_content": null,
            "align_items": null,
            "align_self": null,
            "border": null,
            "bottom": null,
            "display": null,
            "flex": null,
            "flex_flow": null,
            "grid_area": null,
            "grid_auto_columns": null,
            "grid_auto_flow": null,
            "grid_auto_rows": null,
            "grid_column": null,
            "grid_gap": null,
            "grid_row": null,
            "grid_template_areas": null,
            "grid_template_columns": null,
            "grid_template_rows": null,
            "height": null,
            "justify_content": null,
            "justify_items": null,
            "left": null,
            "margin": null,
            "max_height": null,
            "max_width": null,
            "min_height": null,
            "min_width": null,
            "object_fit": null,
            "object_position": null,
            "order": null,
            "overflow": null,
            "overflow_x": null,
            "overflow_y": null,
            "padding": null,
            "right": null,
            "top": null,
            "visibility": null,
            "width": null
          }
        },
        "cb0047efc78643ff9ab0ac205a695b1d": {
          "model_module": "@jupyter-widgets/base",
          "model_name": "LayoutModel",
          "model_module_version": "1.2.0",
          "state": {
            "_model_module": "@jupyter-widgets/base",
            "_model_module_version": "1.2.0",
            "_model_name": "LayoutModel",
            "_view_count": null,
            "_view_module": "@jupyter-widgets/base",
            "_view_module_version": "1.2.0",
            "_view_name": "LayoutView",
            "align_content": null,
            "align_items": null,
            "align_self": null,
            "border": null,
            "bottom": null,
            "display": null,
            "flex": null,
            "flex_flow": null,
            "grid_area": null,
            "grid_auto_columns": null,
            "grid_auto_flow": null,
            "grid_auto_rows": null,
            "grid_column": null,
            "grid_gap": null,
            "grid_row": null,
            "grid_template_areas": null,
            "grid_template_columns": null,
            "grid_template_rows": null,
            "height": null,
            "justify_content": null,
            "justify_items": null,
            "left": null,
            "margin": null,
            "max_height": null,
            "max_width": null,
            "min_height": null,
            "min_width": null,
            "object_fit": null,
            "object_position": null,
            "order": null,
            "overflow": null,
            "overflow_x": null,
            "overflow_y": null,
            "padding": null,
            "right": null,
            "top": null,
            "visibility": null,
            "width": null
          }
        },
        "4552cfff2a3c47ce89a153fc8f79db34": {
          "model_module": "@jupyter-widgets/controls",
          "model_name": "DescriptionStyleModel",
          "model_module_version": "1.5.0",
          "state": {
            "_model_module": "@jupyter-widgets/controls",
            "_model_module_version": "1.5.0",
            "_model_name": "DescriptionStyleModel",
            "_view_count": null,
            "_view_module": "@jupyter-widgets/base",
            "_view_module_version": "1.2.0",
            "_view_name": "StyleView",
            "description_width": ""
          }
        },
        "3eb6826626f443e5a043986b6de30dd1": {
          "model_module": "@jupyter-widgets/base",
          "model_name": "LayoutModel",
          "model_module_version": "1.2.0",
          "state": {
            "_model_module": "@jupyter-widgets/base",
            "_model_module_version": "1.2.0",
            "_model_name": "LayoutModel",
            "_view_count": null,
            "_view_module": "@jupyter-widgets/base",
            "_view_module_version": "1.2.0",
            "_view_name": "LayoutView",
            "align_content": null,
            "align_items": null,
            "align_self": null,
            "border": null,
            "bottom": null,
            "display": null,
            "flex": null,
            "flex_flow": null,
            "grid_area": null,
            "grid_auto_columns": null,
            "grid_auto_flow": null,
            "grid_auto_rows": null,
            "grid_column": null,
            "grid_gap": null,
            "grid_row": null,
            "grid_template_areas": null,
            "grid_template_columns": null,
            "grid_template_rows": null,
            "height": null,
            "justify_content": null,
            "justify_items": null,
            "left": null,
            "margin": null,
            "max_height": null,
            "max_width": null,
            "min_height": null,
            "min_width": null,
            "object_fit": null,
            "object_position": null,
            "order": null,
            "overflow": null,
            "overflow_x": null,
            "overflow_y": null,
            "padding": null,
            "right": null,
            "top": null,
            "visibility": null,
            "width": "20px"
          }
        },
        "129f9e1a0430487fbdf5a8a6b238ba04": {
          "model_module": "@jupyter-widgets/controls",
          "model_name": "ProgressStyleModel",
          "model_module_version": "1.5.0",
          "state": {
            "_model_module": "@jupyter-widgets/controls",
            "_model_module_version": "1.5.0",
            "_model_name": "ProgressStyleModel",
            "_view_count": null,
            "_view_module": "@jupyter-widgets/base",
            "_view_module_version": "1.2.0",
            "_view_name": "StyleView",
            "bar_color": null,
            "description_width": ""
          }
        },
        "ab71d1cbc56f46f786b368b5d9248721": {
          "model_module": "@jupyter-widgets/base",
          "model_name": "LayoutModel",
          "model_module_version": "1.2.0",
          "state": {
            "_model_module": "@jupyter-widgets/base",
            "_model_module_version": "1.2.0",
            "_model_name": "LayoutModel",
            "_view_count": null,
            "_view_module": "@jupyter-widgets/base",
            "_view_module_version": "1.2.0",
            "_view_name": "LayoutView",
            "align_content": null,
            "align_items": null,
            "align_self": null,
            "border": null,
            "bottom": null,
            "display": null,
            "flex": null,
            "flex_flow": null,
            "grid_area": null,
            "grid_auto_columns": null,
            "grid_auto_flow": null,
            "grid_auto_rows": null,
            "grid_column": null,
            "grid_gap": null,
            "grid_row": null,
            "grid_template_areas": null,
            "grid_template_columns": null,
            "grid_template_rows": null,
            "height": null,
            "justify_content": null,
            "justify_items": null,
            "left": null,
            "margin": null,
            "max_height": null,
            "max_width": null,
            "min_height": null,
            "min_width": null,
            "object_fit": null,
            "object_position": null,
            "order": null,
            "overflow": null,
            "overflow_x": null,
            "overflow_y": null,
            "padding": null,
            "right": null,
            "top": null,
            "visibility": null,
            "width": null
          }
        },
        "203cc42db62c4567a0e047a55e29ae85": {
          "model_module": "@jupyter-widgets/controls",
          "model_name": "DescriptionStyleModel",
          "model_module_version": "1.5.0",
          "state": {
            "_model_module": "@jupyter-widgets/controls",
            "_model_module_version": "1.5.0",
            "_model_name": "DescriptionStyleModel",
            "_view_count": null,
            "_view_module": "@jupyter-widgets/base",
            "_view_module_version": "1.2.0",
            "_view_name": "StyleView",
            "description_width": ""
          }
        },
        "d405a43dccec4487a25096214a177da2": {
          "model_module": "@jupyter-widgets/controls",
          "model_name": "HBoxModel",
          "model_module_version": "1.5.0",
          "state": {
            "_dom_classes": [],
            "_model_module": "@jupyter-widgets/controls",
            "_model_module_version": "1.5.0",
            "_model_name": "HBoxModel",
            "_view_count": null,
            "_view_module": "@jupyter-widgets/controls",
            "_view_module_version": "1.5.0",
            "_view_name": "HBoxView",
            "box_style": "",
            "children": [
              "IPY_MODEL_2cbc3df53b054e0394c7d2bec30b62c4",
              "IPY_MODEL_8205f791d3034e7ebf4342de96a46646",
              "IPY_MODEL_a0bc2b3d3a2943f4a43c2220e6a02587"
            ],
            "layout": "IPY_MODEL_ffb32b7e927949f08ec8d7e1afc17167"
          }
        },
        "2cbc3df53b054e0394c7d2bec30b62c4": {
          "model_module": "@jupyter-widgets/controls",
          "model_name": "HTMLModel",
          "model_module_version": "1.5.0",
          "state": {
            "_dom_classes": [],
            "_model_module": "@jupyter-widgets/controls",
            "_model_module_version": "1.5.0",
            "_model_name": "HTMLModel",
            "_view_count": null,
            "_view_module": "@jupyter-widgets/controls",
            "_view_module_version": "1.5.0",
            "_view_name": "HTMLView",
            "description": "",
            "description_tooltip": null,
            "layout": "IPY_MODEL_c779fa5da25844068272b043ad1f62d5",
            "placeholder": "​",
            "style": "IPY_MODEL_18209b58dc624b9fbc4ede5abb5454ee",
            "value": "100%"
          }
        },
        "8205f791d3034e7ebf4342de96a46646": {
          "model_module": "@jupyter-widgets/controls",
          "model_name": "FloatProgressModel",
          "model_module_version": "1.5.0",
          "state": {
            "_dom_classes": [],
            "_model_module": "@jupyter-widgets/controls",
            "_model_module_version": "1.5.0",
            "_model_name": "FloatProgressModel",
            "_view_count": null,
            "_view_module": "@jupyter-widgets/controls",
            "_view_module_version": "1.5.0",
            "_view_name": "ProgressView",
            "bar_style": "danger",
            "description": "",
            "description_tooltip": null,
            "layout": "IPY_MODEL_11a4b2eddd404c44a3dc47344e1cb5eb",
            "max": 3669,
            "min": 0,
            "orientation": "horizontal",
            "style": "IPY_MODEL_f468655f543f455496971f077a06f293",
            "value": 3668
          }
        },
        "a0bc2b3d3a2943f4a43c2220e6a02587": {
          "model_module": "@jupyter-widgets/controls",
          "model_name": "HTMLModel",
          "model_module_version": "1.5.0",
          "state": {
            "_dom_classes": [],
            "_model_module": "@jupyter-widgets/controls",
            "_model_module_version": "1.5.0",
            "_model_name": "HTMLModel",
            "_view_count": null,
            "_view_module": "@jupyter-widgets/controls",
            "_view_module_version": "1.5.0",
            "_view_name": "HTMLView",
            "description": "",
            "description_tooltip": null,
            "layout": "IPY_MODEL_b5b0f733648c428098f39e94aeae2023",
            "placeholder": "​",
            "style": "IPY_MODEL_cd16adc1ce9146bcbcfe79d7a5e44cca",
            "value": " 3668/3669 [00:00&lt;00:00, 3687.62 examples/s]"
          }
        },
        "ffb32b7e927949f08ec8d7e1afc17167": {
          "model_module": "@jupyter-widgets/base",
          "model_name": "LayoutModel",
          "model_module_version": "1.2.0",
          "state": {
            "_model_module": "@jupyter-widgets/base",
            "_model_module_version": "1.2.0",
            "_model_name": "LayoutModel",
            "_view_count": null,
            "_view_module": "@jupyter-widgets/base",
            "_view_module_version": "1.2.0",
            "_view_name": "LayoutView",
            "align_content": null,
            "align_items": null,
            "align_self": null,
            "border": null,
            "bottom": null,
            "display": null,
            "flex": null,
            "flex_flow": null,
            "grid_area": null,
            "grid_auto_columns": null,
            "grid_auto_flow": null,
            "grid_auto_rows": null,
            "grid_column": null,
            "grid_gap": null,
            "grid_row": null,
            "grid_template_areas": null,
            "grid_template_columns": null,
            "grid_template_rows": null,
            "height": null,
            "justify_content": null,
            "justify_items": null,
            "left": null,
            "margin": null,
            "max_height": null,
            "max_width": null,
            "min_height": null,
            "min_width": null,
            "object_fit": null,
            "object_position": null,
            "order": null,
            "overflow": null,
            "overflow_x": null,
            "overflow_y": null,
            "padding": null,
            "right": null,
            "top": null,
            "visibility": null,
            "width": null
          }
        },
        "c779fa5da25844068272b043ad1f62d5": {
          "model_module": "@jupyter-widgets/base",
          "model_name": "LayoutModel",
          "model_module_version": "1.2.0",
          "state": {
            "_model_module": "@jupyter-widgets/base",
            "_model_module_version": "1.2.0",
            "_model_name": "LayoutModel",
            "_view_count": null,
            "_view_module": "@jupyter-widgets/base",
            "_view_module_version": "1.2.0",
            "_view_name": "LayoutView",
            "align_content": null,
            "align_items": null,
            "align_self": null,
            "border": null,
            "bottom": null,
            "display": null,
            "flex": null,
            "flex_flow": null,
            "grid_area": null,
            "grid_auto_columns": null,
            "grid_auto_flow": null,
            "grid_auto_rows": null,
            "grid_column": null,
            "grid_gap": null,
            "grid_row": null,
            "grid_template_areas": null,
            "grid_template_columns": null,
            "grid_template_rows": null,
            "height": null,
            "justify_content": null,
            "justify_items": null,
            "left": null,
            "margin": null,
            "max_height": null,
            "max_width": null,
            "min_height": null,
            "min_width": null,
            "object_fit": null,
            "object_position": null,
            "order": null,
            "overflow": null,
            "overflow_x": null,
            "overflow_y": null,
            "padding": null,
            "right": null,
            "top": null,
            "visibility": null,
            "width": null
          }
        },
        "18209b58dc624b9fbc4ede5abb5454ee": {
          "model_module": "@jupyter-widgets/controls",
          "model_name": "DescriptionStyleModel",
          "model_module_version": "1.5.0",
          "state": {
            "_model_module": "@jupyter-widgets/controls",
            "_model_module_version": "1.5.0",
            "_model_name": "DescriptionStyleModel",
            "_view_count": null,
            "_view_module": "@jupyter-widgets/base",
            "_view_module_version": "1.2.0",
            "_view_name": "StyleView",
            "description_width": ""
          }
        },
        "11a4b2eddd404c44a3dc47344e1cb5eb": {
          "model_module": "@jupyter-widgets/base",
          "model_name": "LayoutModel",
          "model_module_version": "1.2.0",
          "state": {
            "_model_module": "@jupyter-widgets/base",
            "_model_module_version": "1.2.0",
            "_model_name": "LayoutModel",
            "_view_count": null,
            "_view_module": "@jupyter-widgets/base",
            "_view_module_version": "1.2.0",
            "_view_name": "LayoutView",
            "align_content": null,
            "align_items": null,
            "align_self": null,
            "border": null,
            "bottom": null,
            "display": null,
            "flex": null,
            "flex_flow": null,
            "grid_area": null,
            "grid_auto_columns": null,
            "grid_auto_flow": null,
            "grid_auto_rows": null,
            "grid_column": null,
            "grid_gap": null,
            "grid_row": null,
            "grid_template_areas": null,
            "grid_template_columns": null,
            "grid_template_rows": null,
            "height": null,
            "justify_content": null,
            "justify_items": null,
            "left": null,
            "margin": null,
            "max_height": null,
            "max_width": null,
            "min_height": null,
            "min_width": null,
            "object_fit": null,
            "object_position": null,
            "order": null,
            "overflow": null,
            "overflow_x": null,
            "overflow_y": null,
            "padding": null,
            "right": null,
            "top": null,
            "visibility": null,
            "width": null
          }
        },
        "f468655f543f455496971f077a06f293": {
          "model_module": "@jupyter-widgets/controls",
          "model_name": "ProgressStyleModel",
          "model_module_version": "1.5.0",
          "state": {
            "_model_module": "@jupyter-widgets/controls",
            "_model_module_version": "1.5.0",
            "_model_name": "ProgressStyleModel",
            "_view_count": null,
            "_view_module": "@jupyter-widgets/base",
            "_view_module_version": "1.2.0",
            "_view_name": "StyleView",
            "bar_color": null,
            "description_width": ""
          }
        },
        "b5b0f733648c428098f39e94aeae2023": {
          "model_module": "@jupyter-widgets/base",
          "model_name": "LayoutModel",
          "model_module_version": "1.2.0",
          "state": {
            "_model_module": "@jupyter-widgets/base",
            "_model_module_version": "1.2.0",
            "_model_name": "LayoutModel",
            "_view_count": null,
            "_view_module": "@jupyter-widgets/base",
            "_view_module_version": "1.2.0",
            "_view_name": "LayoutView",
            "align_content": null,
            "align_items": null,
            "align_self": null,
            "border": null,
            "bottom": null,
            "display": null,
            "flex": null,
            "flex_flow": null,
            "grid_area": null,
            "grid_auto_columns": null,
            "grid_auto_flow": null,
            "grid_auto_rows": null,
            "grid_column": null,
            "grid_gap": null,
            "grid_row": null,
            "grid_template_areas": null,
            "grid_template_columns": null,
            "grid_template_rows": null,
            "height": null,
            "justify_content": null,
            "justify_items": null,
            "left": null,
            "margin": null,
            "max_height": null,
            "max_width": null,
            "min_height": null,
            "min_width": null,
            "object_fit": null,
            "object_position": null,
            "order": null,
            "overflow": null,
            "overflow_x": null,
            "overflow_y": null,
            "padding": null,
            "right": null,
            "top": null,
            "visibility": null,
            "width": null
          }
        },
        "cd16adc1ce9146bcbcfe79d7a5e44cca": {
          "model_module": "@jupyter-widgets/controls",
          "model_name": "DescriptionStyleModel",
          "model_module_version": "1.5.0",
          "state": {
            "_model_module": "@jupyter-widgets/controls",
            "_model_module_version": "1.5.0",
            "_model_name": "DescriptionStyleModel",
            "_view_count": null,
            "_view_module": "@jupyter-widgets/base",
            "_view_module_version": "1.2.0",
            "_view_name": "StyleView",
            "description_width": ""
          }
        }
      }
    }
  },
  "cells": [
    {
      "cell_type": "markdown",
      "metadata": {
        "id": "view-in-github",
        "colab_type": "text"
      },
      "source": [
        "<a href=\"https://colab.research.google.com/github/ArashDehghanyan/ml-practicres/blob/main/object_detection.ipynb\" target=\"_parent\"><img src=\"https://colab.research.google.com/assets/colab-badge.svg\" alt=\"Open In Colab\"/></a>"
      ]
    },
    {
      "cell_type": "code",
      "execution_count": 1,
      "metadata": {
        "colab": {
          "base_uri": "https://localhost:8080/"
        },
        "id": "g41ky7z3PeYc",
        "outputId": "a444fd4b-ca50-4dda-d725-b111d24d8973"
      },
      "outputs": [
        {
          "output_type": "stream",
          "name": "stdout",
          "text": [
            "2.8.0\n"
          ]
        }
      ],
      "source": [
        "import tensorflow as tf\n",
        "import tensorflow_datasets as tfds\n",
        "import matplotlib.pyplot as plt\n",
        "\n",
        "print(tf.__version__)"
      ]
    },
    {
      "cell_type": "markdown",
      "source": [
        "##Download dataset"
      ],
      "metadata": {
        "id": "xUORusb_SdEh"
      }
    },
    {
      "cell_type": "code",
      "source": [
        "dataset, info = tfds.load('oxford_iiit_pet:3.*.*', with_info=True)\n"
      ],
      "metadata": {
        "id": "HQLpEPqGRSxv",
        "colab": {
          "base_uri": "https://localhost:8080/",
          "height": 319,
          "referenced_widgets": [
            "d3b796f1f9e54249a55190bf1bcaf7e0",
            "df8025004c644e6194350c6cf4fbdf3f",
            "9ecf29012e16493183469c7cc26a6448",
            "d16cb8fd2f894ca6975ce1b7333e1f0d",
            "56d47a5a1a4b4a648b856d1d4b116acc",
            "7a6d491218f84d3784b05515f0608cee",
            "51fa5f18fe8c4b7fb0183d85ef2699f8",
            "3c4474b079554352a11bf85be0d5ab36",
            "fe97f42b1bce46cdb515d50e76767b96",
            "734218ed5e3f488ab8ad2207226082e8",
            "f17e98a9fc0e4ab1bfc591d8ac40369a",
            "827a8986c5a34a8190368c222d2ff04c",
            "ee090ebe86c04cc0a253ad676855a839",
            "0d712ef69c1a4207abc2fa98da24644a",
            "57eeb603783749cf9280994b1983a1cc",
            "2f0870adce8846949f03d99860848340",
            "f566e3cffee949ff97f55927e14339a9",
            "a0f12da5cc494834a6deb182383e851c",
            "4cbfac9d4565418d8f1fd87aabef8f8c",
            "e9fb78ab41de4967a59498f79055f7e5",
            "4d1f9191313f4629bd8c728f3bced6b5",
            "cd7a6a2defd74cdb8851ca44307848cc",
            "57f18b05e5084afbb5f7b19879af968d",
            "01217c8c3a434c479de50c49c1a5004a",
            "6e7ac87fdcd444a591f17bc3ec7af003",
            "a678582367a741989cbafc5422fed615",
            "e188fb45a3a84cbfa7c390a30b409c5c",
            "79ddbe5a198c4f9eac48ed0ef199fc8b",
            "1f96b94bde084c458544bfa7f70bee57",
            "9dfda56af02446c4944dd79e9832a3d7",
            "d0340028188b46eb980c75beffa35336",
            "5db864ad2a31490b8857891a9ab9d8f3",
            "530a04acd4e24732902426b63d70cc65",
            "0459c7a978cb406fa8a1fa7ce1d0ef6c",
            "b8b1cd6cc55d4e859e9e4893f415e1c9",
            "30fa7d719c7541aebec5706d78a6bcad",
            "d33fe60944244932a96dd28560f70914",
            "db9c1467928b490aaf8c7e398a16f29a",
            "a630f582b58d493fa472d74cb4d61f6c",
            "18054b9a8def4dfc9615fa12911f6c06",
            "4a9df2a4c7814d3ea032bac05a2c9fb6",
            "c34c6ae323f842c58acbe025fd8ca329",
            "d6997fd3221c4ac692256edb26f5c571",
            "9d28b33073e642bcb775590c48487b0c",
            "72a8bf47e77444d2abc8cdee39bb71d0",
            "5fd04ea574e14fa19a88e89d99de9fbe",
            "74b6c6c2cef947f685523eb9a9a3658c",
            "fe87cddc38fd43a98ab0fa1eb66a61e2",
            "944079a9ff85436c97bf21037f438c77",
            "db3eed8f7ce84cbab3e7a9bbf8fb0b68",
            "efb128a8c28d420abf08b138283da7dc",
            "f2e7eaa1a9424d20bc2a70ec082faf6a",
            "3544c6525a584224a0b950d9fc8019e6",
            "71d4b78e1deb436b8b5306e7a850145b",
            "c3d93cc1e4df43b0887d7c3b3575ff34",
            "ac6695435e7944e08d698596b1799071",
            "cfe83bb4e61948b78e80ed6bd73109d6",
            "d307dc5dd61946ca8eb4da8744aadaca",
            "ccfceddfc870438a895c1c6ca6cde925",
            "be8bd3b8593049a987936512cd973cdc",
            "cb0047efc78643ff9ab0ac205a695b1d",
            "4552cfff2a3c47ce89a153fc8f79db34",
            "3eb6826626f443e5a043986b6de30dd1",
            "129f9e1a0430487fbdf5a8a6b238ba04",
            "ab71d1cbc56f46f786b368b5d9248721",
            "203cc42db62c4567a0e047a55e29ae85",
            "d405a43dccec4487a25096214a177da2",
            "2cbc3df53b054e0394c7d2bec30b62c4",
            "8205f791d3034e7ebf4342de96a46646",
            "a0bc2b3d3a2943f4a43c2220e6a02587",
            "ffb32b7e927949f08ec8d7e1afc17167",
            "c779fa5da25844068272b043ad1f62d5",
            "18209b58dc624b9fbc4ede5abb5454ee",
            "11a4b2eddd404c44a3dc47344e1cb5eb",
            "f468655f543f455496971f077a06f293",
            "b5b0f733648c428098f39e94aeae2023",
            "cd16adc1ce9146bcbcfe79d7a5e44cca"
          ]
        },
        "outputId": "089979bd-6efa-4ac3-b955-f964bc6e824f"
      },
      "execution_count": 2,
      "outputs": [
        {
          "output_type": "stream",
          "name": "stdout",
          "text": [
            "\u001b[1mDownloading and preparing dataset oxford_iiit_pet/3.2.0 (download: 773.52 MiB, generated: 774.69 MiB, total: 1.51 GiB) to /root/tensorflow_datasets/oxford_iiit_pet/3.2.0...\u001b[0m\n"
          ]
        },
        {
          "output_type": "display_data",
          "data": {
            "text/plain": [
              "Dl Completed...: 0 url [00:00, ? url/s]"
            ],
            "application/vnd.jupyter.widget-view+json": {
              "version_major": 2,
              "version_minor": 0,
              "model_id": "d3b796f1f9e54249a55190bf1bcaf7e0"
            }
          },
          "metadata": {}
        },
        {
          "output_type": "display_data",
          "data": {
            "text/plain": [
              "Dl Size...: 0 MiB [00:00, ? MiB/s]"
            ],
            "application/vnd.jupyter.widget-view+json": {
              "version_major": 2,
              "version_minor": 0,
              "model_id": "827a8986c5a34a8190368c222d2ff04c"
            }
          },
          "metadata": {}
        },
        {
          "output_type": "display_data",
          "data": {
            "text/plain": [
              "Extraction completed...: 0 file [00:00, ? file/s]"
            ],
            "application/vnd.jupyter.widget-view+json": {
              "version_major": 2,
              "version_minor": 0,
              "model_id": "57f18b05e5084afbb5f7b19879af968d"
            }
          },
          "metadata": {}
        },
        {
          "output_type": "stream",
          "name": "stdout",
          "text": [
            "\n",
            "\n",
            "\n"
          ]
        },
        {
          "output_type": "display_data",
          "data": {
            "text/plain": [
              "0 examples [00:00, ? examples/s]"
            ],
            "application/vnd.jupyter.widget-view+json": {
              "version_major": 2,
              "version_minor": 0,
              "model_id": "0459c7a978cb406fa8a1fa7ce1d0ef6c"
            }
          },
          "metadata": {}
        },
        {
          "output_type": "stream",
          "name": "stdout",
          "text": [
            "Shuffling and writing examples to /root/tensorflow_datasets/oxford_iiit_pet/3.2.0.incomplete3P1CAA/oxford_iiit_pet-train.tfrecord\n"
          ]
        },
        {
          "output_type": "display_data",
          "data": {
            "text/plain": [
              "  0%|          | 0/3680 [00:00<?, ? examples/s]"
            ],
            "application/vnd.jupyter.widget-view+json": {
              "version_major": 2,
              "version_minor": 0,
              "model_id": "72a8bf47e77444d2abc8cdee39bb71d0"
            }
          },
          "metadata": {}
        },
        {
          "output_type": "display_data",
          "data": {
            "text/plain": [
              "0 examples [00:00, ? examples/s]"
            ],
            "application/vnd.jupyter.widget-view+json": {
              "version_major": 2,
              "version_minor": 0,
              "model_id": "ac6695435e7944e08d698596b1799071"
            }
          },
          "metadata": {}
        },
        {
          "output_type": "stream",
          "name": "stdout",
          "text": [
            "Shuffling and writing examples to /root/tensorflow_datasets/oxford_iiit_pet/3.2.0.incomplete3P1CAA/oxford_iiit_pet-test.tfrecord\n"
          ]
        },
        {
          "output_type": "display_data",
          "data": {
            "text/plain": [
              "  0%|          | 0/3669 [00:00<?, ? examples/s]"
            ],
            "application/vnd.jupyter.widget-view+json": {
              "version_major": 2,
              "version_minor": 0,
              "model_id": "d405a43dccec4487a25096214a177da2"
            }
          },
          "metadata": {}
        },
        {
          "output_type": "stream",
          "name": "stdout",
          "text": [
            "\u001b[1mDataset oxford_iiit_pet downloaded and prepared to /root/tensorflow_datasets/oxford_iiit_pet/3.2.0. Subsequent calls will reuse this data.\u001b[0m\n"
          ]
        }
      ]
    },
    {
      "cell_type": "code",
      "source": [
        "def normailize(image, mask):\n",
        "    \"\"\"Normalize dataset.\"\"\"\n",
        "    image = tf.cast(image, tf.float32) / 255.\n",
        "    mask -= 1\n",
        "    return image, mask\n",
        "\n",
        "def load_image(datapoint):\n",
        "    image = tf.image.resize(datapoint['image'], (128, 128))\n",
        "    mask = tf.image.resize(datapoint['segmentation_mask'], (128, 128))\n",
        "\n",
        "    image, mask = normailize(image, mask)\n",
        "    return image, mask"
      ],
      "metadata": {
        "id": "5vS9dpLoSgOI"
      },
      "execution_count": 3,
      "outputs": []
    },
    {
      "cell_type": "code",
      "source": [
        "TRAIN_LENGTH = info.splits['train'].num_examples\n",
        "BATCH_SIZE = 64\n",
        "BUFFER_SIZE = 1000\n",
        "STEPS_PER_EPOCH = TRAIN_LENGTH // BATCH_SIZE"
      ],
      "metadata": {
        "id": "cseOUszaUX6U"
      },
      "execution_count": 4,
      "outputs": []
    },
    {
      "cell_type": "code",
      "source": [
        "AUTOTUNE = tf.data.AUTOTUNE\n",
        "\n",
        "train_images = dataset['train'].map(load_image, num_parallel_calls=AUTOTUNE)\n",
        "test_images = dataset['test'].map(load_image, num_parallel_calls=AUTOTUNE)"
      ],
      "metadata": {
        "id": "8O6v2BB7Uyqj"
      },
      "execution_count": 5,
      "outputs": []
    },
    {
      "cell_type": "code",
      "source": [
        "# AUGMENTATION CLASS\n",
        "class Augment(tf.keras.layers.Layer):\n",
        "    def __init__(self, seed=123):\n",
        "        super().__init__()\n",
        "        self.augment_images = tf.keras.layers.RandomFlip('horizontal', seed=seed)\n",
        "        self.augment_labels = tf.keras.layers.RandomFlip('horizontal', seed=seed)\n",
        "\n",
        "    def call(self, images, labels):\n",
        "        images = self.augment_images(images)\n",
        "        labels = self.augment_labels(labels)\n",
        "        return images, labels\n",
        "        "
      ],
      "metadata": {
        "id": "GksUCHBoVzuy"
      },
      "execution_count": 6,
      "outputs": []
    },
    {
      "cell_type": "code",
      "source": [
        "# Input Pipeline\n",
        "train_baches = (\n",
        "    train_images.cache().shuffle(BUFFER_SIZE).batch(BATCH_SIZE).repeat().map(Augment()).prefetch(buffer_size=AUTOTUNE)\n",
        ")\n",
        "\n",
        "test_batches = test_images.batch(BATCH_SIZE)"
      ],
      "metadata": {
        "id": "WWJMnExgY4HT"
      },
      "execution_count": 7,
      "outputs": []
    },
    {
      "cell_type": "code",
      "source": [
        "from IPython.display import clear_output\n",
        "\n",
        "def display(display_list):\n",
        "    plt.figure(figsize=(15, 15))\n",
        "\n",
        "    title = ['input_image', 'True_mask', 'Predicted_mask']\n",
        "    for i in range(len(display_list)):\n",
        "        plt.subplot(1, len(display_list), i+1)\n",
        "        plt.imshow(tf.keras.utils.array_to_img(display_list[i]))\n",
        "        plt.title(title[i])\n",
        "        plt.axis('off')\n",
        "    plt.show()"
      ],
      "metadata": {
        "id": "yFF05jnTZ_JC"
      },
      "execution_count": 8,
      "outputs": []
    },
    {
      "cell_type": "code",
      "source": [
        "for images, masks in train_baches.take(1):\n",
        "    sample_image, sample_mask = images[20], masks[20]\n",
        "    display([sample_image, sample_mask])"
      ],
      "metadata": {
        "colab": {
          "base_uri": "https://localhost:8080/",
          "height": 427
        },
        "id": "RGil-eCEdbip",
        "outputId": "e34f12b2-6f23-4eaf-89a0-13e141340f84"
      },
      "execution_count": 9,
      "outputs": [
        {
          "output_type": "display_data",
          "data": {
            "text/plain": [
              "<Figure size 1080x1080 with 2 Axes>"
            ],
            "image/png": "[encoded data removed]"
          },
          "metadata": {
            "needs_background": "light"
          }
        }
      ]
    },
    {
      "cell_type": "markdown",
      "source": [
        "##Bounding Boxes"
      ],
      "metadata": {
        "id": "5wrdPlXulV8_"
      }
    },
    {
      "cell_type": "code",
      "source": [
        "def box_corner_to_center(boxes):\n",
        "    x1, y1, x2, y2 = boxes[:, 0], boxes[:, 1], boxes[:, 2], boxes[:, 3]\n",
        "    center_x = (x1 + x2) / 2\n",
        "    center_y = (y1 + y2) / 2\n",
        "    width = x2 - x1\n",
        "    height = y2 - y1\n",
        "    boxes = tf.stack((center_x, center_y, width, height), axis=-1)\n",
        "    return boxes\n",
        "\n",
        "def box_center_to_corner(boxes):\n",
        "    center_x, center_y, width, height = boxes[:, 0], boxes[:, 1], boxes[:, 2], boxes[:, 3]\n",
        "    x1 = center_x - 0.5 * width\n",
        "    x2 = center_x + 0.5 * width\n",
        "    y1 = center_y - 0.5 * height\n",
        "    y2 = center_y + 0.5 * height\n",
        "\n",
        "    boxes = tf.stack((x1, y1, x2, y2), axis=-1)\n",
        "    return boxes\n"
      ],
      "metadata": {
        "id": "1C_Zmr7aj-cc"
      },
      "execution_count": 10,
      "outputs": []
    },
    {
      "cell_type": "code",
      "source": [
        "boxes = tf.constant(([25., 10., 95., 95.], [10., 5, 75.5, 80.0]))\n",
        "box_center_to_corner(box_corner_to_center(boxes)) == boxes"
      ],
      "metadata": {
        "colab": {
          "base_uri": "https://localhost:8080/"
        },
        "id": "fnCC9LrZpXEL",
        "outputId": "521833f6-fbf7-48f3-b939-efe4a903619e"
      },
      "execution_count": 11,
      "outputs": [
        {
          "output_type": "execute_result",
          "data": {
            "text/plain": [
              "<tf.Tensor: shape=(2, 4), dtype=bool, numpy=\n",
              "array([[ True,  True,  True,  True],\n",
              "       [ True,  True,  True,  True]])>"
            ]
          },
          "metadata": {},
          "execution_count": 11
        }
      ]
    },
    {
      "cell_type": "code",
      "source": [
        "true_box, pred_box = box_corner_to_center(boxes)\n",
        "print(true_box.numpy(), pred_box.numpy())"
      ],
      "metadata": {
        "colab": {
          "base_uri": "https://localhost:8080/"
        },
        "id": "o7nA5cJKV3z2",
        "outputId": "5b0dd0c1-940a-46f5-f288-96e12bb7fd6d"
      },
      "execution_count": 12,
      "outputs": [
        {
          "output_type": "stream",
          "name": "stdout",
          "text": [
            "[60.  52.5 70.  85. ] [42.75 42.5  65.5  75.  ]\n"
          ]
        }
      ]
    },
    {
      "cell_type": "code",
      "source": [
        "def boundingbox_to_rect(bbox, color):\n",
        "    \"\"\"It draws a bounding box around the object.\"\"\"\n",
        "    return plt.Rectangle(\n",
        "        xy=(bbox[0], bbox[1]), width=bbox[2]-bbox[0], height=bbox[3]-bbox[1],\n",
        "        fill=False, edgecolor=color, linewidth=3\n",
        "    )\n"
      ],
      "metadata": {
        "id": "VuLtLT6Eq-3d"
      },
      "execution_count": 13,
      "outputs": []
    },
    {
      "cell_type": "code",
      "source": [
        "fig = plt.imshow(sample_image)\n",
        "fig.axes.add_patch(boundingbox_to_rect(boxes[0], 'blue'))\n",
        "fig.axes.add_patch(boundingbox_to_rect(boxes[1], 'red'))\n",
        "fig.axes.axis('off')"
      ],
      "metadata": {
        "colab": {
          "base_uri": "https://localhost:8080/",
          "height": 265
        },
        "id": "Q3GXKV_xs21D",
        "outputId": "b830a3fc-f058-4e38-ab6d-c207396e69c5"
      },
      "execution_count": 14,
      "outputs": [
        {
          "output_type": "execute_result",
          "data": {
            "text/plain": [
              "(-0.5, 127.5, 127.5, -0.5)"
            ]
          },
          "metadata": {},
          "execution_count": 14
        },
        {
          "output_type": "display_data",
          "data": {
            "text/plain": [
              "<Figure size 432x288 with 1 Axes>"
            ],
            "image/png": "[encoded data removed]"
          },
          "metadata": {
            "needs_background": "light"
          }
        }
      ]
    },
    {
      "cell_type": "code",
      "source": [
        "def intersection_area(box1, box2, box_format=None):\n",
        "    \"\"\"Calculates the intersection area of predicted and true bounding boxes.\"\"\"\n",
        "    assert box_format, 'You have forgotten \\'box_format\\' positional argument'\n",
        "\n",
        "    # Change to corner format if boxes are in center format\n",
        "    if box_format == \"center\":\n",
        "        box1, box2 = box_center_to_corner((box1, box2))\n",
        "\n",
        "    box1_x1 = box1[..., 0:1]\n",
        "    box1_y1 = box1[..., 1:2]\n",
        "    box1_x2 = box1[..., 2:3]\n",
        "    box1_y2 = box1[..., 3:4]\n",
        "\n",
        "    box2_x1 = box2[..., 0:1]\n",
        "    box2_y1 = box2[..., 1:2]\n",
        "    box2_x2 = box2[..., 2:3]\n",
        "    box2_y2 = box2[..., 3:4]\n",
        "\n",
        "    # Get intersection coordinates\n",
        "    x1 = tf.math.maximum(box1_x1, box2_x1)\n",
        "    y1 = tf.math.maximum(box1_y1, box2_y1)\n",
        "    x2 = tf.math.minimum(box1_x2, box2_x2)\n",
        "    y2 = tf.math.minimum(box1_y2, box2_y2)\n",
        "\n",
        "    area = tf.clip_by_value((x2 - x1), 0, 1e100) * tf.clip_by_value((y2 - y1), 0, 1e100)\n",
        "    return area"
      ],
      "metadata": {
        "id": "0PV4WLRq9Dqv"
      },
      "execution_count": 15,
      "outputs": []
    },
    {
      "cell_type": "code",
      "source": [
        "intersection_area(boxes[0], boxes[1], 'corner').numpy()"
      ],
      "metadata": {
        "colab": {
          "base_uri": "https://localhost:8080/"
        },
        "id": "te7yVC64qJsD",
        "outputId": "d3c1796c-80fd-4e0d-8adf-5acd19e09455"
      },
      "execution_count": 16,
      "outputs": [
        {
          "output_type": "execute_result",
          "data": {
            "text/plain": [
              "array([3535.], dtype=float32)"
            ]
          },
          "metadata": {},
          "execution_count": 16
        }
      ]
    },
    {
      "cell_type": "code",
      "source": [
        "def intersection_over_union(true_box, predicted_box, box_format=None):\n",
        "    \"\"\"Compute IoU 'Intersection over Union' metric.\"\"\"\n",
        "    # Check if parameter box_format is not Null\n",
        "    assert box_format, \"missing one positional argument: 'box_format'\"\n",
        "    \n",
        "    # Calculate intersection area\n",
        "    intersection = intersection_area(true_box, predicted_box, box_format)\n",
        "\n",
        "    true_box_x1 = true_box[..., 0:1]\n",
        "    true_box_y1 = true_box[..., 1:2]\n",
        "    true_box_x2 = true_box[..., 2:3]\n",
        "    true_box_y2 = true_box[..., 3:4]\n",
        "\n",
        "    pred_box_x1 = predicted_box[..., 0:1]\n",
        "    pred_box_y1 = predicted_box[..., 1:2]\n",
        "    pred_box_x2 = predicted_box[..., 2:3]\n",
        "    pred_box_y2 = predicted_box[..., 3:4]\n",
        "\n",
        "    true_box_area = abs((true_box_x2 - true_box_x1) * (true_box_y2 - true_box_y1))\n",
        "    pred_box_area = abs((pred_box_x2 - pred_box_x1) * (pred_box_y2 - pred_box_y1))\n",
        "\n",
        "    return intersection / (true_box_area + pred_box_area - intersection + 1e-6)"
      ],
      "metadata": {
        "id": "j5TIZwk_wCLX"
      },
      "execution_count": 17,
      "outputs": []
    },
    {
      "cell_type": "code",
      "source": [
        "intersection_over_union(boxes[1], boxes[0], 'corner')[0].numpy()"
      ],
      "metadata": {
        "colab": {
          "base_uri": "https://localhost:8080/"
        },
        "id": "9dQeTP6k8-bP",
        "outputId": "b3e0f792-b04c-4d1d-c097-3c342493aeea"
      },
      "execution_count": 18,
      "outputs": [
        {
          "output_type": "execute_result",
          "data": {
            "text/plain": [
              "0.4824292"
            ]
          },
          "metadata": {},
          "execution_count": 18
        }
      ]
    },
    {
      "cell_type": "code",
      "source": [
        "# Non max supression\n",
        "def nms(bboxes, iou_threshold, threshold, box_format='corner'):\n",
        "    # Bounding Box format: [[class_index, probability, x1, y1, x2, y2], ..., []]\n",
        "    assert type(bboxes) == list\n",
        "\n",
        "    bboxes = [box for box in bboxes if box[1] > threshold]\n",
        "    bboxes = sorted(bboxes, key=lambda x: x[1], reverse=True)\n",
        "    bboxes_after_nms = []\n",
        "\n",
        "    while bboxes:\n",
        "        chosen_box = bboxes.pop(0)\n",
        "        \n",
        "        bboxes = [\n",
        "                  box \n",
        "                  for box in bboxes \n",
        "                  if box[0] != chosen_box[0]\n",
        "                  or intersection_over_union(\n",
        "                      tf.constant(chosen_box[2:]),\n",
        "                      tf.constant(box[2:]),\n",
        "                      box_format=box_format\n",
        "                  ) < iou_threshold\n",
        "        ]\n",
        "        bboxes_after_nms.append(chosen_box)\n",
        "        \n",
        "    return bboxes_after_nms"
      ],
      "metadata": {
        "id": "pjQiX9-p4KPa"
      },
      "execution_count": 19,
      "outputs": []
    },
    {
      "cell_type": "code",
      "source": [
        "boxes = [[1, 0.9, 12., 14.5, 75., 76.0], [1, 0.84, 15., 17., 87., 79.]]\n",
        "class_names = {0: 'Cat', 1: 'Dog'}\n",
        "\n",
        "fig = plt.imshow(sample_image)\n",
        "for box in nms(boxes, 0.5, 0.5):\n",
        "    fig.axes.add_patch(\n",
        "        boundingbox_to_rect(box[2:], 'green')\n",
        "    )\n",
        "    fig.axes.annotate('{}: {}'.format(class_names[box[0]], box[1]), xy=(box[2], box[3]-5), bbox=dict(boxstyle=\"round\", fc=\"green\"))"
      ],
      "metadata": {
        "colab": {
          "base_uri": "https://localhost:8080/",
          "height": 268
        },
        "id": "2Qinn7z18MQ7",
        "outputId": "fa4ff7bd-e1d7-4a02-fd90-a027b456d9b6"
      },
      "execution_count": 20,
      "outputs": [
        {
          "output_type": "display_data",
          "data": {
            "text/plain": [
              "<Figure size 432x288 with 1 Axes>"
            ],
            "image/png": "[encoded data removed]"
          },
          "metadata": {
            "needs_background": "light"
          }
        }
      ]
    },
    {
      "cell_type": "markdown",
      "source": [
        "##mAP (mean average Precision) metric implementation"
      ],
      "metadata": {
        "id": "YuBVqaghMzAH"
      }
    },
    {
      "cell_type": "code",
      "source": [
        "from collections import Counter\n",
        "import tensorflow_probability as tfp\n",
        "\n",
        "\n",
        "def mean_average_precision(\n",
        "    pred_boxes, true_boxes, iou_thershold=0.5, box_format='corner', num_classes=20\n",
        "):\n",
        "    # pred_boxes (list): [[train_idx, class_pred, prob_score, x1, y1, x2, y2], ...]\n",
        "    average_precisions = []\n",
        "    epsilon = 1e-6\n",
        "\n",
        "    for c in range(num_classes):\n",
        "        detections = []\n",
        "        ground_truths = []\n",
        "\n",
        "        for detection in pred_boxes:\n",
        "            if detection[1] == c:\n",
        "                detections.append(detection)\n",
        "        \n",
        "        for true_box in true_boxes:\n",
        "            if true_box[1] == c:\n",
        "                ground_truths.append(true_box)\n",
        "        # img 0 has 3 bboxes\n",
        "        # img 1 has 4 bboxes\n",
        "        # amount_bboxes = {0:3, 1:4}\n",
        "        amount_bboxes = Counter([gt[0] for gt in ground_truths])\n",
        "        for key, val in amount_bboxes.items():\n",
        "            amount_bboxes[key] = tf.zeros(val)\n",
        "        \n",
        "        detections.sort(key=lambda x: x[2], reverse=True)\n",
        "        TP = tf.zeros((len(detections)))\n",
        "        FP = tf.zeros((len(detections)))\n",
        "        total_true_bboxes = len(ground_truths)\n",
        "\n",
        "        for detection_idx, detection in enumerate(detections):\n",
        "            ground_truth_img = [\n",
        "                bbox for bbox in ground_truths if bbox[0] == detection[0]\n",
        "            ]\n",
        "            num_ground_truth = len(ground_truth_img)\n",
        "            best_iou = 0 # best iou\n",
        "\n",
        "            for idx, gt in enumerate(ground_truth_img):\n",
        "                iou = intersection_over_union(\n",
        "                    tf.constant(detection[3:]), tf.constant(gt[3:]), box_format\n",
        "                )\n",
        "\n",
        "                if iou > best_iou:\n",
        "                    best_iou = iou\n",
        "                    best_gt_idx = idx   # Best ground truth index\n",
        "\n",
        "            if best_iou > iou_thershold:\n",
        "                if amount_bboxes[detection[0]][best_gt_idx] == 0:\n",
        "                    TP[detection_idx] = 1\n",
        "                    amount_bboxes[detection[0]][best_gt_idx] = 1\n",
        "                else:\n",
        "                    # This bounding box was covered already\n",
        "                    FP[detection_idx] = 1\n",
        "            else:\n",
        "                FP[detection_idx] = 1\n",
        "        # True positive cumulative sum\n",
        "        # [1, 1, 0, 1, 0] -> [1, 2, 2, 3, 3]\n",
        "        TP_cumsum = tf.cumsum(TP, axis=0)\n",
        "        FP_cumsum = tf.cumsum(FP, axis=0)\n",
        "\n",
        "        recalls = TP_cumsum / (total_true_bboxes + epsilon)\n",
        "        precisions = TP_cumsum / (TP_cumsum + FP_cumsum + epsilon)\n",
        "        precisions = tf.concat((tf.constant([1.]), precisions), axis=0)\n",
        "        recalls = tf.concat((tf.constant([0.]), recalls), axis=0)\n",
        "        average_precisions.append(tfp.math.trapz(precisions, recalls))\n",
        "    \n",
        "    return sum(average_precisions) / len(average_precisions)\n"
      ],
      "metadata": {
        "id": "eMLJO-KI25oM"
      },
      "execution_count": 21,
      "outputs": []
    },
    {
      "cell_type": "markdown",
      "source": [
        "##You only Look Once (YOLO V1) "
      ],
      "metadata": {
        "id": "0_PK6EEVUPVB"
      }
    },
    {
      "cell_type": "code",
      "source": [
        "%%writefile yolo_model.py\n",
        "import tensorflow as tf\n",
        "import numpy as np\n",
        "\n",
        "architecture_config = [\n",
        "    # Tuple: (num_filters, kernel_size, stride, padding)\n",
        "    (64, 7, 2, 3),\n",
        "    \"M\",\n",
        "    (192, 3, 1, 1),\n",
        "    \"M\",\n",
        "    (128, 1, 1, 0),\n",
        "    (256, 3, 1, 1),\n",
        "    (256, 1, 1, 0),\n",
        "    (512, 3, 1, 1),\n",
        "    \"M\",\n",
        "    [(256, 1, 1, 0), (512, 3, 1, 1), 4],\n",
        "    (512, 1, 1, 0),\n",
        "    (1024, 3, 1, 1),\n",
        "    \"M\",\n",
        "    [(512, 1, 1, 0), (1024, 3, 1, 1), 2],\n",
        "    (1024, 3, 1, 1),\n",
        "    (1024, 3, 2, 1),\n",
        "    (1024, 3, 1, 1),\n",
        "    (1024, 3, 1, 1),\n",
        "]\n",
        "\n",
        "class CNNBlock(tf.keras.Model):\n",
        "    def __init__(self, **kwargs):\n",
        "        super().__init__()\n",
        "        self.conv = tf.keras.layers.Conv2D(**kwargs)\n",
        "        self.batch_norm = tf.keras.layers.BatchNormalization()\n",
        "        self.leak_relu = tf.keras.layers.LeakyReLU(0.1)\n",
        "\n",
        "    def call(self, X):\n",
        "        return self.leak_relu(self.batch_norm(self.conv(X)))\n",
        "    \n",
        "\n",
        "class YoloV1(tf.keras.Model):\n",
        "    def __init__(self, input_shape_, **kwargs):\n",
        "        super().__init__()\n",
        "        self.architecture = architecture_config\n",
        "        self.input_shape_ = input_shape_\n",
        "        self.darknet = self.create_conv_layers(self.architecture)\n",
        "        self.fcs = self.create_fcs(**kwargs)\n",
        "\n",
        "    def call(self, X):\n",
        "        X = self.darknet(X)\n",
        "        return self.fcs(X)\n",
        "\n",
        "    def create_conv_layers(self, architecture):\n",
        "        inputs = tf.keras.layers.Input(shape=self.input_shape_)\n",
        "        # Custom padding of input layer\n",
        "        x = tf.pad(inputs, ((0, 0), (3, 3), (3, 3), (0, 0)))\n",
        "\n",
        "        for item in architecture:\n",
        "            if type(item) == tuple:\n",
        "                if item[-1] == 0:\n",
        "                    x = CNNBlock(\n",
        "                        filters=item[0], kernel_size=item[1], \n",
        "                        strides=item[2]\n",
        "                    )(x)\n",
        "                else:\n",
        "                    x = CNNBlock(\n",
        "                        filters=item[0], kernel_size=item[1], \n",
        "                        strides=item[2], padding='same'\n",
        "                    )(x)\n",
        "                \n",
        "            elif type(item) == str:\n",
        "                x = tf.keras.layers.MaxPooling2D(pool_size=(2, 2), \n",
        "                                                 strides=2)(x)\n",
        "            elif type(item) == list:\n",
        "                conv1 = item[0]\n",
        "                conv2 = item[1]\n",
        "                num_repeat = item[2]\n",
        "\n",
        "                for _ in range(num_repeat):\n",
        "                    x = CNNBlock(\n",
        "                        filters=conv1[0], kernel_size=conv1[1], \n",
        "                        strides=item[2]\n",
        "                    )(x)\n",
        "                    x = CNNBlock(\n",
        "                        filters=conv2[0], kernel_size=conv2[1], \n",
        "                        strides=conv2[2], padding='same'\n",
        "                    )(x)\n",
        "        return tf.keras.Model(inputs, x)\n",
        "    \n",
        "    def create_fcs(self, split_size, num_boxes, num_classes):\n",
        "        S, B, C = split_size, num_boxes, num_classes\n",
        "        return tf.keras.models.Sequential([\n",
        "            tf.keras.layers.Flatten(),\n",
        "            tf.keras.layers.Dense(496),    # According to original paper this should be 4096\n",
        "            tf.keras.layers.Dropout(0.5),\n",
        "            tf.keras.layers.LeakyReLU(0.1),\n",
        "            tf.keras.layers.Dense(S * S * (C + B * 5))  # (S, S, 30) where C = B * 5 = 30\n",
        "        ])"
      ],
      "metadata": {
        "id": "duyEb-0XTtwJ",
        "colab": {
          "base_uri": "https://localhost:8080/"
        },
        "outputId": "362321ff-ee48-4dc1-e990-10a8cf9657aa"
      },
      "execution_count": 22,
      "outputs": [
        {
          "output_type": "stream",
          "name": "stdout",
          "text": [
            "Writing yolo_model.py\n"
          ]
        }
      ]
    },
    {
      "cell_type": "code",
      "source": [
        "from yolo_model import YoloV1\n",
        "\n",
        "def test(S=7, B=2, C=20):\n",
        "    mdl = YoloV1(input_shape_=(448, 448, 3), split_size=S, num_boxes=B, num_classes=C)\n",
        "    return mdl\n",
        "\n",
        "my_model = test()\n",
        "x = tf.random.uniform(shape=(2, 448, 448, 3))\n",
        "print(my_model(x).shape)\n",
        "print(my_model.summary())\n"
      ],
      "metadata": {
        "colab": {
          "base_uri": "https://localhost:8080/"
        },
        "id": "Ph6pUb8f3Fzq",
        "outputId": "8ccf10a1-682b-48df-9a6c-f6d99f549f35"
      },
      "execution_count": 23,
      "outputs": [
        {
          "output_type": "stream",
          "name": "stdout",
          "text": [
            "(2, 1470)\n",
            "Model: \"yolo_v1\"\n",
            "_________________________________________________________________\n",
            " Layer (type)                Output Shape              Param #   \n",
            "=================================================================\n",
            " model (Functional)          (None, 7, 7, 1024)        44449344  \n",
            "                                                                 \n",
            " sequential (Sequential)     (2, 1470)                 25618382  \n",
            "                                                                 \n",
            "=================================================================\n",
            "Total params: 70,067,726\n",
            "Trainable params: 70,053,646\n",
            "Non-trainable params: 14,080\n",
            "_________________________________________________________________\n",
            "None\n"
          ]
        }
      ]
    },
    {
      "cell_type": "code",
      "source": [
        "tf.keras.utils.plot_model(my_model)"
      ],
      "metadata": {
        "colab": {
          "base_uri": "https://localhost:8080/",
          "height": 77
        },
        "id": "1lNDlhKrdWBU",
        "outputId": "43e8798b-9d57-459b-b544-0e4d030b0c21"
      },
      "execution_count": 24,
      "outputs": [
        {
          "output_type": "execute_result",
          "data": {
            "text/plain": [
              "<IPython.core.display.Image object>"
            ],
            "image/png": "[encoded data removed]"
          },
          "metadata": {},
          "execution_count": 24
        }
      ]
    },
    {
      "cell_type": "code",
      "source": [
        "l = tf.nn.conv2d(tf.ones(shape=(1, 32, 32, 1)),filters=tf.ones((5, 5, 1, 32)), strides=(2, 2), padding=[[0,0], [2, 2], [2, 2], [0,0]])\n",
        "tuple(l.shape)"
      ],
      "metadata": {
        "colab": {
          "base_uri": "https://localhost:8080/"
        },
        "id": "Gc1I8LPiAzT9",
        "outputId": "a3d6359a-9252-41b9-e8ad-8122592de396"
      },
      "execution_count": 25,
      "outputs": [
        {
          "output_type": "execute_result",
          "data": {
            "text/plain": [
              "(1, 16, 16, 32)"
            ]
          },
          "metadata": {},
          "execution_count": 25
        }
      ]
    },
    {
      "cell_type": "code",
      "source": [
        "inputs = tf.keras.layers.Input(shape=(32, 32, 1))\n",
        "custom_padding = tf.pad(inputs, ((0,0), (2, 2), (2, 2), (0,0)))\n",
        "conv = tf.keras.layers.Conv2D(32, 5, strides=2)(custom_padding)\n",
        "conv.shape"
      ],
      "metadata": {
        "colab": {
          "base_uri": "https://localhost:8080/"
        },
        "id": "xIthiw33czYl",
        "outputId": "a876ec25-c00a-46a9-bf5e-7ef49f504e7b"
      },
      "execution_count": 26,
      "outputs": [
        {
          "output_type": "execute_result",
          "data": {
            "text/plain": [
              "TensorShape([None, 16, 16, 32])"
            ]
          },
          "metadata": {},
          "execution_count": 26
        }
      ]
    },
    {
      "cell_type": "code",
      "source": [
        "def _create_layers(input_shape):\n",
        "    inps = tf.keras.layers.Input(shape=input_shape)\n",
        "    x = tf.pad(inps, ((0,0), (3,3), (3,3), (0,0)))\n",
        "    for _ in range(3):\n",
        "        x = tf.keras.layers.Conv2D(16, 3, strides=2)(x)\n",
        "    return tf.keras.Model(inps, x)\n",
        "\n",
        "m = _create_layers((28, 28, 1))\n",
        "print(m.summary())"
      ],
      "metadata": {
        "id": "vp0KUpPPm4tk",
        "colab": {
          "base_uri": "https://localhost:8080/"
        },
        "outputId": "1bbbffad-6f0b-4f12-a619-eb188b93b42f"
      },
      "execution_count": 27,
      "outputs": [
        {
          "output_type": "stream",
          "name": "stdout",
          "text": [
            "Model: \"model_1\"\n",
            "_________________________________________________________________\n",
            " Layer (type)                Output Shape              Param #   \n",
            "=================================================================\n",
            " input_3 (InputLayer)        [(None, 28, 28, 1)]       0         \n",
            "                                                                 \n",
            " tf.compat.v1.pad_2 (TFOpLam  (None, 34, 34, 1)        0         \n",
            " bda)                                                            \n",
            "                                                                 \n",
            " conv2d_13 (Conv2D)          (None, 16, 16, 16)        160       \n",
            "                                                                 \n",
            " conv2d_14 (Conv2D)          (None, 7, 7, 16)          2320      \n",
            "                                                                 \n",
            " conv2d_15 (Conv2D)          (None, 3, 3, 16)          2320      \n",
            "                                                                 \n",
            "=================================================================\n",
            "Total params: 4,800\n",
            "Trainable params: 4,800\n",
            "Non-trainable params: 0\n",
            "_________________________________________________________________\n",
            "None\n"
          ]
        }
      ]
    },
    {
      "cell_type": "code",
      "source": [
        "from yolo_model import CNNBlock\n",
        "args  = {'filters': 16, 'kernel_size': 3, 'strides': 2}\n",
        "\n",
        "CNNBlock(filters=16, kernel_size=3)"
      ],
      "metadata": {
        "colab": {
          "base_uri": "https://localhost:8080/"
        },
        "id": "xsJ3sObJA-_a",
        "outputId": "befbbae1-78ff-4cc0-9090-85fd0163c02c"
      },
      "execution_count": 28,
      "outputs": [
        {
          "output_type": "execute_result",
          "data": {
            "text/plain": [
              "<yolo_model.CNNBlock at 0x7f995ad64c90>"
            ]
          },
          "metadata": {},
          "execution_count": 28
        }
      ]
    },
    {
      "cell_type": "code",
      "source": [
        "act_fcn = tf.nn.leaky_relu\n",
        "l1 = tf.keras.layers.Dense(1)\n",
        "l2 = tf.keras.layers.LeakyReLU(0.1)\n",
        "out = l2(l1(tf.constant([[-2. , -1., 1,], [-1.5, -0.5, 0.7]])))\n",
        "out.numpy()"
      ],
      "metadata": {
        "colab": {
          "base_uri": "https://localhost:8080/"
        },
        "id": "vIw0pSESIgWk",
        "outputId": "a029eb66-3035-431a-a948-044ef5016ae1"
      },
      "execution_count": 29,
      "outputs": [
        {
          "output_type": "execute_result",
          "data": {
            "text/plain": [
              "array([[0.26219422],\n",
              "       [0.02943703]], dtype=float32)"
            ]
          },
          "metadata": {},
          "execution_count": 29
        }
      ]
    },
    {
      "cell_type": "code",
      "source": [
        "class Mymodel:\n",
        "    \n",
        "    def __init__(self):\n",
        "        xavier=tf.keras.initializers.GlorotUniform()\n",
        "        self.l1=tf.keras.layers.Dense(64,kernel_initializer=xavier,activation=tf.nn.relu,input_shape=[1])\n",
        "        self.l2=tf.keras.layers.Dense(64,kernel_initializer=xavier,activation=tf.nn.relu)\n",
        "        self.out=tf.keras.layers.Dense(1,kernel_initializer=xavier)\n",
        "        self.train_op = tf.keras.optimizers.Adagrad(learning_rate=0.1)\n",
        "        \n",
        "    # Running the model\n",
        "    def run(self,X):\n",
        "        return self.out(self.l2(self.l1(X)))\n",
        "      \n",
        "    #Custom loss fucntion\n",
        "    def get_loss(self,X,Y):\n",
        "        y_hat = self.out(self.l2(self.l1(X)))\n",
        "        return tf.math.square(y_hat-Y)\n",
        "      \n",
        "    # get gradients\n",
        "    def get_grad(self,X,Y):\n",
        "        with tf.GradientTape() as tape:\n",
        "            tape.watch(self.l1.variables)\n",
        "            tape.watch(self.l2.variables)\n",
        "            tape.watch(self.out.variables)\n",
        "            L = self.get_loss(X,Y)\n",
        "            g = tape.gradient(L, [self.l1.variables[0],self.l1.variables[1],self.l2.variables[0],self.l2.variables[1],self.out.variables[0],self.out.variables[1]])\n",
        "        return g, L\n",
        "      \n",
        "    # perform gradient descent\n",
        "    def network_learn(self,X,Y):\n",
        "        g, loss = self.get_grad(X,Y)\n",
        "        self.train_op.apply_gradients(zip(g, [self.l1.variables[0],self.l1.variables[1],self.l2.variables[0],self.l2.variables[1],self.out.variables[0],self.out.variables[1]]))\n",
        "        return tf.math.reduce_mean(loss)"
      ],
      "metadata": {
        "id": "fqJQUY14iSYH"
      },
      "execution_count": 30,
      "outputs": []
    },
    {
      "cell_type": "code",
      "source": [
        "import numpy as np\n",
        "\n",
        "x=[1,2,3,4,5,6,7,8,9,10]\n",
        "x=np.asarray(x,dtype=np.float32).reshape((10,1))\n",
        "y=[1,4,9,16,25,36,49,64,81,100]\n",
        "y=np.asarray(y,dtype=np.float32).reshape((10,1))\n",
        "model=Mymodel()\n",
        "for i in range(100):\n",
        "    loss_value = model.network_learn(x,y)\n",
        "    print(\"Epoch: {},\\tLoss: {}\".format(i+1, loss_value))"
      ],
      "metadata": {
        "colab": {
          "base_uri": "https://localhost:8080/"
        },
        "id": "UucL43XYn-z0",
        "outputId": "d511f45a-6d49-44cb-c466-6d86845117a6"
      },
      "execution_count": 31,
      "outputs": [
        {
          "output_type": "stream",
          "name": "stdout",
          "text": [
            "Epoch: 1,\tLoss: 2500.24462890625\n",
            "Epoch: 2,\tLoss: 1280.8372802734375\n",
            "Epoch: 3,\tLoss: 214.29776000976562\n",
            "Epoch: 4,\tLoss: 370.23211669921875\n",
            "Epoch: 5,\tLoss: 558.0473022460938\n",
            "Epoch: 6,\tLoss: 669.2112426757812\n",
            "Epoch: 7,\tLoss: 178.2563934326172\n",
            "Epoch: 8,\tLoss: 170.843505859375\n",
            "Epoch: 9,\tLoss: 165.99911499023438\n",
            "Epoch: 10,\tLoss: 161.6798858642578\n",
            "Epoch: 11,\tLoss: 157.65719604492188\n",
            "Epoch: 12,\tLoss: 153.79400634765625\n",
            "Epoch: 13,\tLoss: 150.0391082763672\n",
            "Epoch: 14,\tLoss: 146.38955688476562\n",
            "Epoch: 15,\tLoss: 142.8179931640625\n",
            "Epoch: 16,\tLoss: 139.30886840820312\n",
            "Epoch: 17,\tLoss: 135.8861083984375\n",
            "Epoch: 18,\tLoss: 132.53671264648438\n",
            "Epoch: 19,\tLoss: 129.24160766601562\n",
            "Epoch: 20,\tLoss: 126.02122497558594\n",
            "Epoch: 21,\tLoss: 122.8756332397461\n",
            "Epoch: 22,\tLoss: 119.77436828613281\n",
            "Epoch: 23,\tLoss: 116.7162857055664\n",
            "Epoch: 24,\tLoss: 113.7004623413086\n",
            "Epoch: 25,\tLoss: 110.73344421386719\n",
            "Epoch: 26,\tLoss: 107.85575866699219\n",
            "Epoch: 27,\tLoss: 105.01927185058594\n",
            "Epoch: 28,\tLoss: 102.22441101074219\n",
            "Epoch: 29,\tLoss: 99.49699401855469\n",
            "Epoch: 30,\tLoss: 96.82862854003906\n",
            "Epoch: 31,\tLoss: 94.23003387451172\n",
            "Epoch: 32,\tLoss: 91.6726303100586\n",
            "Epoch: 33,\tLoss: 89.17325592041016\n",
            "Epoch: 34,\tLoss: 86.72249603271484\n",
            "Epoch: 35,\tLoss: 84.28218841552734\n",
            "Epoch: 36,\tLoss: 82.21146392822266\n",
            "Epoch: 37,\tLoss: 79.87342834472656\n",
            "Epoch: 38,\tLoss: 77.60421752929688\n",
            "Epoch: 39,\tLoss: 75.4035415649414\n",
            "Epoch: 40,\tLoss: 73.25187683105469\n",
            "Epoch: 41,\tLoss: 71.15228271484375\n",
            "Epoch: 42,\tLoss: 69.09968566894531\n",
            "Epoch: 43,\tLoss: 67.13702392578125\n",
            "Epoch: 44,\tLoss: 65.23406982421875\n",
            "Epoch: 45,\tLoss: 63.3848762512207\n",
            "Epoch: 46,\tLoss: 61.570838928222656\n",
            "Epoch: 47,\tLoss: 59.80607986450195\n",
            "Epoch: 48,\tLoss: 58.08417892456055\n",
            "Epoch: 49,\tLoss: 56.40531539916992\n",
            "Epoch: 50,\tLoss: 54.7935791015625\n",
            "Epoch: 51,\tLoss: 53.21486282348633\n",
            "Epoch: 52,\tLoss: 51.69416046142578\n",
            "Epoch: 53,\tLoss: 50.15256118774414\n",
            "Epoch: 54,\tLoss: 48.66068649291992\n",
            "Epoch: 55,\tLoss: 47.19414520263672\n",
            "Epoch: 56,\tLoss: 45.75878143310547\n",
            "Epoch: 57,\tLoss: 44.361663818359375\n",
            "Epoch: 58,\tLoss: 43.00061798095703\n",
            "Epoch: 59,\tLoss: 41.68863296508789\n",
            "Epoch: 60,\tLoss: 40.441444396972656\n",
            "Epoch: 61,\tLoss: 39.273033142089844\n",
            "Epoch: 62,\tLoss: 38.17866134643555\n",
            "Epoch: 63,\tLoss: 37.28544235229492\n",
            "Epoch: 64,\tLoss: 36.63334274291992\n",
            "Epoch: 65,\tLoss: 36.57851028442383\n",
            "Epoch: 66,\tLoss: 37.290077209472656\n",
            "Epoch: 67,\tLoss: 40.09767532348633\n",
            "Epoch: 68,\tLoss: 44.447811126708984\n",
            "Epoch: 69,\tLoss: 55.42859649658203\n",
            "Epoch: 70,\tLoss: 63.63220977783203\n",
            "Epoch: 71,\tLoss: 84.58973693847656\n",
            "Epoch: 72,\tLoss: 84.24176025390625\n",
            "Epoch: 73,\tLoss: 105.15411376953125\n",
            "Epoch: 74,\tLoss: 64.46832275390625\n",
            "Epoch: 75,\tLoss: 61.69968795776367\n",
            "Epoch: 76,\tLoss: 43.14826965332031\n",
            "Epoch: 77,\tLoss: 39.41426086425781\n",
            "Epoch: 78,\tLoss: 32.60844039916992\n",
            "Epoch: 79,\tLoss: 30.2407283782959\n",
            "Epoch: 80,\tLoss: 27.481609344482422\n",
            "Epoch: 81,\tLoss: 26.050796508789062\n",
            "Epoch: 82,\tLoss: 24.64661407470703\n",
            "Epoch: 83,\tLoss: 23.696884155273438\n",
            "Epoch: 84,\tLoss: 22.77019691467285\n",
            "Epoch: 85,\tLoss: 22.072402954101562\n",
            "Epoch: 86,\tLoss: 21.402633666992188\n",
            "Epoch: 87,\tLoss: 20.791467666625977\n",
            "Epoch: 88,\tLoss: 20.20802879333496\n",
            "Epoch: 89,\tLoss: 19.692729949951172\n",
            "Epoch: 90,\tLoss: 19.168188095092773\n",
            "Epoch: 91,\tLoss: 18.68722915649414\n",
            "Epoch: 92,\tLoss: 18.215473175048828\n",
            "Epoch: 93,\tLoss: 17.77181625366211\n",
            "Epoch: 94,\tLoss: 17.330615997314453\n",
            "Epoch: 95,\tLoss: 16.920543670654297\n",
            "Epoch: 96,\tLoss: 16.516931533813477\n",
            "Epoch: 97,\tLoss: 16.125146865844727\n",
            "Epoch: 98,\tLoss: 15.745828628540039\n",
            "Epoch: 99,\tLoss: 15.383206367492676\n",
            "Epoch: 100,\tLoss: 15.027966499328613\n"
          ]
        }
      ]
    },
    {
      "cell_type": "code",
      "source": [
        "def tf_flatten(tf_tensor, end_dim=None):\n",
        "    \"\"\"\n",
        "        Flats the input tensor, if end_dim is positive flats \n",
        "    the first part until the end_dim and keep the second part,\n",
        "    if end_dim is negative keeps the first part and flats the second part,\n",
        "    if end_dim is None or -1 flats the whole tensor.\n",
        "    \"\"\"\n",
        "    from tensorflow.python.ops.math_ops import reduce_prod\n",
        "    import tensorflow as tf\n",
        "    assert isinstance(tf_tensor, tf.Tensor)\n",
        "    tensor_shape = tf_tensor.shape\n",
        "    if end_dim and end_dim != -1:\n",
        "        if end_dim < 0:\n",
        "            new_shape = [\n",
        "                         tf.reduce_prod(tensor_shape[:end_dim+1]).numpy()\n",
        "                         ] + tensor_shape[end_dim+1:]\n",
        "            return tf.reshape(tf_tensor, new_shape)\n",
        "        else:\n",
        "            new_shape = tensor_shape[:end_dim] + [\n",
        "                tf.reduce_prod(tensor_shape[end_dim:]).numpy()\n",
        "            ]\n",
        "            return tf.reshape(tf_tensor, new_shape)\n",
        "    \n",
        "    else:\n",
        "        return tf.reshape(tf_tensor, [-1])"
      ],
      "metadata": {
        "id": "4FRJ3uRVvPHd"
      },
      "execution_count": 102,
      "outputs": []
    },
    {
      "cell_type": "code",
      "source": [
        "%%writefile loss.py\n",
        "\n",
        "import tensorflow as tf\n",
        "from tensorflow.keras import losses\n",
        "import numpy as np\n",
        "\n",
        "class YoloLoss(losses.Loss):\n",
        "    def __init__(self, S=7, B=2, C=20, name='yolo_loss'):\n",
        "        super().__init__(name=name)\n",
        "        self.mse = losses.MeanSquaredError(reduction=losses.Reduction.SUM)\n",
        "        self.S = S\n",
        "        self.B = B\n",
        "        self.C = C\n",
        "        self.lambda_coord = 5\n",
        "        self.lambda_noobj = 0.5\n",
        "\n",
        "    def call(self, predictions, target):\n",
        "        predictions = predictions.reshape(-1, self.S, self.S, self.C + self.B*5)\n",
        "\n",
        "        iou_b1 = intersection_over_union(predictions[..., 21:25], target[..., 21:25])\n",
        "        iou_b2 = intersection_over_union(predictions[..., 26:30], target[..., 26:30])\n",
        "        ious = tf.concat([tf.expand_dims(iou_b1, 0), tf.expand_dims(iou_b2, 0)], axis=0)\n",
        "        ious_maxes, best_box = tf.maximum(ious[0], ious[1]), tf.argmax(ious, axis=0)\n",
        "        exists_box = tf.expand_dims(target[..., 20], 3)     # I_obj_i\n",
        "\n",
        "        #=========================#\n",
        "        #   FOR BOX COORDINATES   #\n",
        "        #=========================#\n",
        "        box_predictions = exists_box * (\n",
        "            best_box * predictions[..., 26:30]\n",
        "            + (1 - best_box) * predictions[..., 21:25]\n",
        "        )\n",
        "\n",
        "        box_targets = exists_box * target[..., 21:25]\n",
        "\n",
        "        box_predictions[..., 2:4] = tf.sign(box_predictions[..., 2:4]) * tf.sqrt(\n",
        "            tf.abs(box_predictions[..., 2:4]) + 1e-6)\n",
        "\n",
        "        box_targets[..., 2:4] = tf.sqrt(box_targets[..., 2:4])\n",
        "        # (N, S, S, 4) -> (N*S*S, 4)\n",
        "        box_loss = self.mse(\n",
        "            tf_flatten(box_predictions, end_dim=-2), \n",
        "            tf_flatten(box_targets, end_dim=-2)\n",
        "        )\n",
        "\n",
        "        #======================#\n",
        "        #    FOR OBJECT LOSS   #\n",
        "        #======================#\n",
        "        # (N*S*S)\n",
        "        pred_box = (\n",
        "            best_box * predictions[... , 25:26] + (1 - best_box) * predictions[..., 20:21]\n",
        "        )\n",
        "\n",
        "        object_loss = self.mse(\n",
        "            tf_flatten(exists_box * pred_box),\n",
        "            tf_flatten(exists_box * target[..., 20:21])\n",
        "        )\n",
        "\n",
        "        #====================#\n",
        "        #   NO OBJECT LOSS   #\n",
        "        #====================#\n",
        "        # (N, S, S, 1) -> (N, S*S)\n",
        "        noobj_loss = self.mse(\n",
        "            tf_flatten((1 - exists_box) * predictions[..., 20:21], end_dim=1),\n",
        "            tf_flatten((1 - exists_box) * target[..., 20:21])\n",
        "        )\n",
        "\n",
        "        noobj_loss += self.mse(\n",
        "            tf_flatten((1 - exists_box) * predictions[..., 25:26], end_dim=1),\n",
        "            tf_flatten((1 - exists_box) * target[..., 20:21])\n",
        "        )\n",
        "\n",
        "        #====================#\n",
        "        #   FOR CLASS LOSS   #\n",
        "        #====================#\n",
        "\n",
        "        # (N, S, S, 20) -> (N*S*S, 20)\n",
        "        class_loss = self.mse(\n",
        "            tf_flatten(exists_box * predictions[..., :20], end_dim=-2),\n",
        "            tf_flatten(exists_box * target[..., :20], end_dim=-2)\n",
        "        )\n",
        "\n",
        "        # Total Yolo Loss\n",
        "        loss = (\n",
        "            self.lambda_coord * box_loss    # First two rows in the paper\n",
        "            + object_loss\n",
        "            + self.lambda_noobj * noobj_loss\n",
        "            + class_loss\n",
        "        )\n",
        "\n",
        "        return loss\n"
      ],
      "metadata": {
        "id": "lBxNbBVsw6Pt",
        "colab": {
          "base_uri": "https://localhost:8080/"
        },
        "outputId": "61ce85ec-cdaf-43e2-a6dc-b1897afcd902"
      },
      "execution_count": 111,
      "outputs": [
        {
          "output_type": "stream",
          "name": "stdout",
          "text": [
            "Writing loss.py\n"
          ]
        }
      ]
    },
    {
      "cell_type": "code",
      "source": [
        "iou_b1 = tf.random.uniform((1, 7, 7, 1), 0, 1, seed=0)\n",
        "iou_b2 = tf.random.uniform((1, 7, 7, 1), 0, 1, seed=0)\n",
        "ious = tf.concat([tf.expand_dims(iou_b1, 0), tf.expand_dims(iou_b2, 0)], axis=0)\n",
        "maxes, indices = tf.maximum(ious[0], ious[1]), tf.argmax(ious, axis=0)\n",
        "print(maxes.shape, indices.shape)\n"
      ],
      "metadata": {
        "colab": {
          "base_uri": "https://localhost:8080/"
        },
        "id": "1USjHZ5U94UZ",
        "outputId": "694a26ea-103c-427d-c1d6-7da0fe586b49"
      },
      "execution_count": 32,
      "outputs": [
        {
          "output_type": "stream",
          "name": "stdout",
          "text": [
            "(1, 7, 7, 1) (1, 7, 7, 1)\n"
          ]
        }
      ]
    },
    {
      "cell_type": "code",
      "source": [
        "target = tf.random.uniform((50, 7, 7, 30), 0, 1)\n",
        "tf_flatten(target, 1).shape"
      ],
      "metadata": {
        "colab": {
          "base_uri": "https://localhost:8080/"
        },
        "id": "ZQs-Nrhxuc2K",
        "outputId": "702e4adb-4ff2-4d63-b5a3-2eed791ccafa"
      },
      "execution_count": 110,
      "outputs": [
        {
          "output_type": "execute_result",
          "data": {
            "text/plain": [
              "TensorShape([50, 1470])"
            ]
          },
          "metadata": {},
          "execution_count": 110
        }
      ]
    }
  ]
}
{
  "nbformat": 4,
  "nbformat_minor": 0,
  "metadata": {
    "colab": {
      "name": "Save_and_load_models.ipynb",
      "provenance": [],
      "collapsed_sections": [],
      "authorship_tag": "ABX9TyOytO2uv527wnc6oJmIax9m",
      "include_colab_link": true
    },
    "kernelspec": {
      "name": "python3",
      "display_name": "Python 3"
    },
    "language_info": {
      "name": "python"
    }
  },
  "cells": [
    {
      "cell_type": "markdown",
      "metadata": {
        "id": "view-in-github",
        "colab_type": "text"
      },
      "source": [
        "<a href=\"https://colab.research.google.com/github/ArashDehghanyan/ml-practicres/blob/main/Save_and_load_models.ipynb\" target=\"_parent\"><img src=\"https://colab.research.google.com/assets/colab-badge.svg\" alt=\"Open In Colab\"/></a>"
      ]
    },
    {
      "cell_type": "markdown",
      "source": [
        "#Setup\n",
        "##Installs and imports"
      ],
      "metadata": {
        "id": "7cdvWFA37vO_"
      }
    },
    {
      "cell_type": "code",
      "execution_count": 1,
      "metadata": {
        "colab": {
          "base_uri": "https://localhost:8080/"
        },
        "id": "MTnK5QI87j1w",
        "outputId": "7015ae40-8dc9-4652-def1-c97002b5e6d9"
      },
      "outputs": [
        {
          "output_type": "stream",
          "name": "stdout",
          "text": [
            "Requirement already satisfied: pyyaml in /usr/local/lib/python3.7/dist-packages (3.13)\n",
            "Requirement already satisfied: h5py in /usr/local/lib/python3.7/dist-packages (3.1.0)\n",
            "Requirement already satisfied: numpy>=1.14.5 in /usr/local/lib/python3.7/dist-packages (from h5py) (1.21.5)\n",
            "Requirement already satisfied: cached-property in /usr/local/lib/python3.7/dist-packages (from h5py) (1.5.2)\n"
          ]
        }
      ],
      "source": [
        "! pip install pyyaml h5py   # Required to save models in HDF5 format"
      ]
    },
    {
      "cell_type": "code",
      "source": [
        "import os\n",
        "import tensorflow as tf\n",
        "from tensorflow import keras\n",
        "from tensorflow.keras import layers\n",
        "\n",
        "print(tf.version.VERSION)"
      ],
      "metadata": {
        "colab": {
          "base_uri": "https://localhost:8080/"
        },
        "id": "ud4ipZaw-UGa",
        "outputId": "1d386f36-15e7-4631-fc3f-07c06c2c5c67"
      },
      "execution_count": 2,
      "outputs": [
        {
          "output_type": "stream",
          "name": "stdout",
          "text": [
            "2.8.0\n"
          ]
        }
      ]
    },
    {
      "cell_type": "code",
      "source": [
        "(train_images, train_labels), (test_images, test_labels) = tf.keras.datasets.mnist.load_data()\n",
        "\n",
        "train_images = train_images[:1000].reshape(-1, 28 * 28) / 255.\n",
        "train_labels = train_labels[:1000]\n",
        "\n",
        "test_images = test_images[:1000].reshape(-1, 28 * 28) / 255.0\n",
        "test_labels = test_labels[:1000]"
      ],
      "metadata": {
        "id": "5qT3CRp6-nSE",
        "colab": {
          "base_uri": "https://localhost:8080/"
        },
        "outputId": "9fd11a31-23cb-4496-d28f-3ae2ffeff628"
      },
      "execution_count": 3,
      "outputs": [
        {
          "output_type": "stream",
          "name": "stdout",
          "text": [
            "Downloading data from https://storage.googleapis.com/tensorflow/tf-keras-datasets/mnist.npz\n",
            "11493376/11490434 [==============================] - 0s 0us/step\n",
            "11501568/11490434 [==============================] - 0s 0us/step\n"
          ]
        }
      ]
    },
    {
      "cell_type": "markdown",
      "source": [
        "#Define a model\n",
        "##Start by a simple Sequential model"
      ],
      "metadata": {
        "id": "6Xi45jqJAHtK"
      }
    },
    {
      "cell_type": "code",
      "source": [
        "def create_model():\n",
        "    # Define model\n",
        "    model = tf.keras.models.Sequential([\n",
        "        layers.Dense(512, activation='relu', input_shape=(784,)),\n",
        "        layers.Dropout(0.2),\n",
        "        layers.Dense(10)\n",
        "    ])\n",
        "    # Compile model\n",
        "    model.compile(\n",
        "        optimizer=keras.optimizers.Adam(0.001),\n",
        "        loss=keras.losses.SparseCategoricalCrossentropy(from_logits=True),\n",
        "        metrics=[keras.metrics.SparseCategoricalAccuracy()]\n",
        "    )\n",
        "\n",
        "    return model\n",
        "\n",
        "# Create a basic model instance\n",
        "basic_model = create_model()\n",
        "\n",
        "# Display the model architecture\n",
        "basic_model.summary()"
      ],
      "metadata": {
        "colab": {
          "base_uri": "https://localhost:8080/"
        },
        "id": "sWxMB-vp_m7f",
        "outputId": "87b28d2b-17c3-45a3-c7db-0137d1ae4d18"
      },
      "execution_count": 4,
      "outputs": [
        {
          "output_type": "stream",
          "name": "stdout",
          "text": [
            "Model: \"sequential\"\n",
            "_________________________________________________________________\n",
            " Layer (type)                Output Shape              Param #   \n",
            "=================================================================\n",
            " dense (Dense)               (None, 512)               401920    \n",
            "                                                                 \n",
            " dropout (Dropout)           (None, 512)               0         \n",
            "                                                                 \n",
            " dense_1 (Dense)             (None, 10)                5130      \n",
            "                                                                 \n",
            "=================================================================\n",
            "Total params: 407,050\n",
            "Trainable params: 407,050\n",
            "Non-trainable params: 0\n",
            "_________________________________________________________________\n"
          ]
        }
      ]
    },
    {
      "cell_type": "markdown",
      "source": [
        "#Save checkpoints during training"
      ],
      "metadata": {
        "id": "SigT_izfHrNx"
      }
    },
    {
      "cell_type": "code",
      "source": [
        "checkpoint_path = \"training_1/checkpoint.ckpt\"\n",
        "checkpoint_dir = os.path.dirname(checkpoint_path)\n",
        "\n",
        "# Create a callback that saves the model's weight\n",
        "checkpoint_callback = keras.callbacks.ModelCheckpoint(checkpoint_path, verbose=1, save_weights_only=True)\n",
        "\n",
        "# Train model with new callback\n",
        "basic_model.fit(\n",
        "    train_images,\n",
        "    train_labels,\n",
        "    epochs=10,\n",
        "    validation_data=(test_images, test_labels),\n",
        "    # Pass callback to training\n",
        "    callbacks=[checkpoint_callback]\n",
        ")"
      ],
      "metadata": {
        "colab": {
          "base_uri": "https://localhost:8080/"
        },
        "id": "XRaeyLHdIHPK",
        "outputId": "ab91cd5e-39ab-4cbb-e01d-7c136f377e8c"
      },
      "execution_count": 5,
      "outputs": [
        {
          "output_type": "stream",
          "name": "stdout",
          "text": [
            "Epoch 1/10\n",
            "31/32 [============================>.] - ETA: 0s - loss: 1.1605 - sparse_categorical_accuracy: 0.6562\n",
            "Epoch 1: saving model to training_1/checkpoint.ckpt\n",
            "32/32 [==============================] - 1s 14ms/step - loss: 1.1567 - sparse_categorical_accuracy: 0.6560 - val_loss: 0.7107 - val_sparse_categorical_accuracy: 0.7790\n",
            "Epoch 2/10\n",
            "25/32 [======================>.......] - ETA: 0s - loss: 0.4371 - sparse_categorical_accuracy: 0.8838\n",
            "Epoch 2: saving model to training_1/checkpoint.ckpt\n",
            "32/32 [==============================] - 0s 8ms/step - loss: 0.4157 - sparse_categorical_accuracy: 0.8890 - val_loss: 0.5705 - val_sparse_categorical_accuracy: 0.8200\n",
            "Epoch 3/10\n",
            "32/32 [==============================] - ETA: 0s - loss: 0.2860 - sparse_categorical_accuracy: 0.9230\n",
            "Epoch 3: saving model to training_1/checkpoint.ckpt\n",
            "32/32 [==============================] - 0s 9ms/step - loss: 0.2860 - sparse_categorical_accuracy: 0.9230 - val_loss: 0.5290 - val_sparse_categorical_accuracy: 0.8320\n",
            "Epoch 4/10\n",
            "30/32 [===========================>..] - ETA: 0s - loss: 0.2106 - sparse_categorical_accuracy: 0.9417\n",
            "Epoch 4: saving model to training_1/checkpoint.ckpt\n",
            "32/32 [==============================] - 0s 12ms/step - loss: 0.2075 - sparse_categorical_accuracy: 0.9430 - val_loss: 0.4360 - val_sparse_categorical_accuracy: 0.8680\n",
            "Epoch 5/10\n",
            "22/32 [===================>..........] - ETA: 0s - loss: 0.1552 - sparse_categorical_accuracy: 0.9730\n",
            "Epoch 5: saving model to training_1/checkpoint.ckpt\n",
            "32/32 [==============================] - 0s 8ms/step - loss: 0.1570 - sparse_categorical_accuracy: 0.9700 - val_loss: 0.4385 - val_sparse_categorical_accuracy: 0.8640\n",
            "Epoch 6/10\n",
            "23/32 [====================>.........] - ETA: 0s - loss: 0.1254 - sparse_categorical_accuracy: 0.9701\n",
            "Epoch 6: saving model to training_1/checkpoint.ckpt\n",
            "32/32 [==============================] - 0s 8ms/step - loss: 0.1197 - sparse_categorical_accuracy: 0.9730 - val_loss: 0.4105 - val_sparse_categorical_accuracy: 0.8760\n",
            "Epoch 7/10\n",
            "21/32 [==================>...........] - ETA: 0s - loss: 0.0779 - sparse_categorical_accuracy: 0.9940\n",
            "Epoch 7: saving model to training_1/checkpoint.ckpt\n",
            "32/32 [==============================] - 0s 11ms/step - loss: 0.0878 - sparse_categorical_accuracy: 0.9910 - val_loss: 0.4087 - val_sparse_categorical_accuracy: 0.8700\n",
            "Epoch 8/10\n",
            "24/32 [=====================>........] - ETA: 0s - loss: 0.0603 - sparse_categorical_accuracy: 0.9974\n",
            "Epoch 8: saving model to training_1/checkpoint.ckpt\n",
            "32/32 [==============================] - 0s 8ms/step - loss: 0.0649 - sparse_categorical_accuracy: 0.9940 - val_loss: 0.4186 - val_sparse_categorical_accuracy: 0.8670\n",
            "Epoch 9/10\n",
            "31/32 [============================>.] - ETA: 0s - loss: 0.0500 - sparse_categorical_accuracy: 0.9950\n",
            "Epoch 9: saving model to training_1/checkpoint.ckpt\n",
            "32/32 [==============================] - 0s 11ms/step - loss: 0.0498 - sparse_categorical_accuracy: 0.9950 - val_loss: 0.3985 - val_sparse_categorical_accuracy: 0.8800\n",
            "Epoch 10/10\n",
            "23/32 [====================>.........] - ETA: 0s - loss: 0.0395 - sparse_categorical_accuracy: 0.9973\n",
            "Epoch 10: saving model to training_1/checkpoint.ckpt\n",
            "32/32 [==============================] - 0s 10ms/step - loss: 0.0394 - sparse_categorical_accuracy: 0.9980 - val_loss: 0.4097 - val_sparse_categorical_accuracy: 0.8710\n"
          ]
        },
        {
          "output_type": "execute_result",
          "data": {
            "text/plain": [
              "<keras.callbacks.History at 0x7f7f32aa7d90>"
            ]
          },
          "metadata": {},
          "execution_count": 5
        }
      ]
    },
    {
      "cell_type": "code",
      "source": [
        "os.listdir(checkpoint_dir)"
      ],
      "metadata": {
        "colab": {
          "base_uri": "https://localhost:8080/"
        },
        "id": "3MtPP6SvXECr",
        "outputId": "6b31b360-f77f-4d1f-af6f-3e185d239057"
      },
      "execution_count": 6,
      "outputs": [
        {
          "output_type": "execute_result",
          "data": {
            "text/plain": [
              "['checkpoint', 'checkpoint.ckpt.index', 'checkpoint.ckpt.data-00000-of-00001']"
            ]
          },
          "metadata": {},
          "execution_count": 6
        }
      ]
    },
    {
      "cell_type": "markdown",
      "source": [
        "##Create an untrained model and evalute it on the test set"
      ],
      "metadata": {
        "id": "1eqc486hX5B1"
      }
    },
    {
      "cell_type": "code",
      "source": [
        "untrained_model = create_model()\n",
        "\n",
        "# Evaluate the model\n",
        "loss, acc = untrained_model.evaluate(test_images, test_labels, verbose=2)\n",
        "print(\"Untrained model accuracy: {:5.2f}%\".format(100*acc))"
      ],
      "metadata": {
        "colab": {
          "base_uri": "https://localhost:8080/"
        },
        "id": "Z_CvZvq3Xl_q",
        "outputId": "0a8381fb-3dc3-435f-b607-f969152bae7e"
      },
      "execution_count": 7,
      "outputs": [
        {
          "output_type": "stream",
          "name": "stdout",
          "text": [
            "32/32 - 0s - loss: 2.3753 - sparse_categorical_accuracy: 0.0780 - 178ms/epoch - 6ms/step\n",
            "Untrained model accuracy:  7.80%\n"
          ]
        }
      ]
    },
    {
      "cell_type": "markdown",
      "source": [
        "###Load weights from checkpoint and re-evaluate the model"
      ],
      "metadata": {
        "id": "ZSTF86fCcGqZ"
      }
    },
    {
      "cell_type": "code",
      "source": [
        "# Load weights\n",
        "untrained_model.load_weights(checkpoint_path)\n",
        "\n",
        "# Re-evaluate the model\n",
        "loss, acc = untrained_model.evaluate(test_images, test_labels, verbose=2)\n",
        "print(\"Restored model accuracy: {:5.2f}%\".format(100 * acc))"
      ],
      "metadata": {
        "colab": {
          "base_uri": "https://localhost:8080/"
        },
        "id": "Tp1u8rDGbdjL",
        "outputId": "a8c7b0c4-4248-4b4a-f9ab-9f87fc36161d"
      },
      "execution_count": 8,
      "outputs": [
        {
          "output_type": "stream",
          "name": "stdout",
          "text": [
            "32/32 - 0s - loss: 0.4097 - sparse_categorical_accuracy: 0.8710 - 150ms/epoch - 5ms/step\n",
            "Restored model accuracy: 87.10%\n"
          ]
        }
      ]
    },
    {
      "cell_type": "markdown",
      "source": [
        "##Checkpoint options"
      ],
      "metadata": {
        "id": "EbFY0uNCdR1R"
      }
    },
    {
      "cell_type": "code",
      "source": [
        "# Include the epoch in the filename\n",
        "checkpoint_path = \"training_2/cp-{epoch:04d}.ckpt\"\n",
        "checkpoint_dir = os.path.dirname(checkpoint_path)\n",
        "\n",
        "batch_size = 32\n",
        "\n",
        "# Create a callback to save model's weight every 5 epochs\n",
        "cp_callback = keras.callbacks.ModelCheckpoint(\n",
        "    filepath=checkpoint_path,\n",
        "    verbose=1,\n",
        "    save_weights_only=True,\n",
        "    save_freq=5*batch_size\n",
        ")\n",
        "\n",
        "# Create a new model instance\n",
        "new_model = create_model()\n",
        "\n",
        "# Save the weights using (checkpoint_path) format\n",
        "new_model.save_weights(checkpoint_path.format(epoch=0))\n",
        "\n",
        "# Train the model with new callback\n",
        "new_model.fit(\n",
        "    train_images,\n",
        "    train_labels,\n",
        "    epochs=50,\n",
        "    verbose=1, \n",
        "    callbacks=[cp_callback],\n",
        "    batch_size=batch_size,\n",
        "    validation_data=(test_images, test_labels)\n",
        ")"
      ],
      "metadata": {
        "colab": {
          "base_uri": "https://localhost:8080/"
        },
        "id": "yMwt6Hjtc_dn",
        "outputId": "0399ebb7-e96b-48e4-82ee-7724e28b5fea"
      },
      "execution_count": 9,
      "outputs": [
        {
          "output_type": "stream",
          "name": "stdout",
          "text": [
            "Epoch 1/50\n",
            "32/32 [==============================] - 2s 23ms/step - loss: 1.2381 - sparse_categorical_accuracy: 0.6380 - val_loss: 0.7532 - val_sparse_categorical_accuracy: 0.7890\n",
            "Epoch 2/50\n",
            "32/32 [==============================] - 0s 12ms/step - loss: 0.4382 - sparse_categorical_accuracy: 0.8820 - val_loss: 0.5274 - val_sparse_categorical_accuracy: 0.8410\n",
            "Epoch 3/50\n",
            "32/32 [==============================] - 0s 12ms/step - loss: 0.2917 - sparse_categorical_accuracy: 0.9320 - val_loss: 0.4798 - val_sparse_categorical_accuracy: 0.8500\n",
            "Epoch 4/50\n",
            "32/32 [==============================] - 0s 13ms/step - loss: 0.2139 - sparse_categorical_accuracy: 0.9480 - val_loss: 0.4523 - val_sparse_categorical_accuracy: 0.8570\n",
            "Epoch 5/50\n",
            "26/32 [=======================>......] - ETA: 0s - loss: 0.1625 - sparse_categorical_accuracy: 0.9627\n",
            "Epoch 5: saving model to training_2/cp-0005.ckpt\n",
            "32/32 [==============================] - 0s 15ms/step - loss: 0.1662 - sparse_categorical_accuracy: 0.9620 - val_loss: 0.4216 - val_sparse_categorical_accuracy: 0.8630\n",
            "Epoch 6/50\n",
            "32/32 [==============================] - 0s 14ms/step - loss: 0.1224 - sparse_categorical_accuracy: 0.9810 - val_loss: 0.4197 - val_sparse_categorical_accuracy: 0.8610\n",
            "Epoch 7/50\n",
            "32/32 [==============================] - 1s 16ms/step - loss: 0.0860 - sparse_categorical_accuracy: 0.9870 - val_loss: 0.4142 - val_sparse_categorical_accuracy: 0.8630\n",
            "Epoch 8/50\n",
            "32/32 [==============================] - 1s 16ms/step - loss: 0.0631 - sparse_categorical_accuracy: 0.9940 - val_loss: 0.4163 - val_sparse_categorical_accuracy: 0.8710\n",
            "Epoch 9/50\n",
            "32/32 [==============================] - 0s 13ms/step - loss: 0.0525 - sparse_categorical_accuracy: 0.9970 - val_loss: 0.4109 - val_sparse_categorical_accuracy: 0.8670\n",
            "Epoch 10/50\n",
            "28/32 [=========================>....] - ETA: 0s - loss: 0.0426 - sparse_categorical_accuracy: 0.9989\n",
            "Epoch 10: saving model to training_2/cp-0010.ckpt\n",
            "32/32 [==============================] - 1s 19ms/step - loss: 0.0417 - sparse_categorical_accuracy: 0.9990 - val_loss: 0.4324 - val_sparse_categorical_accuracy: 0.8650\n",
            "Epoch 11/50\n",
            "32/32 [==============================] - 0s 15ms/step - loss: 0.0334 - sparse_categorical_accuracy: 0.9990 - val_loss: 0.4075 - val_sparse_categorical_accuracy: 0.8680\n",
            "Epoch 12/50\n",
            "32/32 [==============================] - 1s 16ms/step - loss: 0.0299 - sparse_categorical_accuracy: 0.9990 - val_loss: 0.4256 - val_sparse_categorical_accuracy: 0.8710\n",
            "Epoch 13/50\n",
            "32/32 [==============================] - 0s 13ms/step - loss: 0.0222 - sparse_categorical_accuracy: 1.0000 - val_loss: 0.4137 - val_sparse_categorical_accuracy: 0.8710\n",
            "Epoch 14/50\n",
            "32/32 [==============================] - 0s 14ms/step - loss: 0.0177 - sparse_categorical_accuracy: 1.0000 - val_loss: 0.4063 - val_sparse_categorical_accuracy: 0.8750\n",
            "Epoch 15/50\n",
            "31/32 [============================>.] - ETA: 0s - loss: 0.0142 - sparse_categorical_accuracy: 1.0000\n",
            "Epoch 15: saving model to training_2/cp-0015.ckpt\n",
            "32/32 [==============================] - 0s 15ms/step - loss: 0.0142 - sparse_categorical_accuracy: 1.0000 - val_loss: 0.4162 - val_sparse_categorical_accuracy: 0.8710\n",
            "Epoch 16/50\n",
            "32/32 [==============================] - 0s 13ms/step - loss: 0.0137 - sparse_categorical_accuracy: 1.0000 - val_loss: 0.4221 - val_sparse_categorical_accuracy: 0.8670\n",
            "Epoch 17/50\n",
            "32/32 [==============================] - 1s 21ms/step - loss: 0.0118 - sparse_categorical_accuracy: 1.0000 - val_loss: 0.4201 - val_sparse_categorical_accuracy: 0.8800\n",
            "Epoch 18/50\n",
            "32/32 [==============================] - 1s 16ms/step - loss: 0.0122 - sparse_categorical_accuracy: 1.0000 - val_loss: 0.4321 - val_sparse_categorical_accuracy: 0.8750\n",
            "Epoch 19/50\n",
            "32/32 [==============================] - 1s 20ms/step - loss: 0.0087 - sparse_categorical_accuracy: 1.0000 - val_loss: 0.4267 - val_sparse_categorical_accuracy: 0.8770\n",
            "Epoch 20/50\n",
            "29/32 [==========================>...] - ETA: 0s - loss: 0.0081 - sparse_categorical_accuracy: 1.0000\n",
            "Epoch 20: saving model to training_2/cp-0020.ckpt\n",
            "32/32 [==============================] - 1s 17ms/step - loss: 0.0080 - sparse_categorical_accuracy: 1.0000 - val_loss: 0.4275 - val_sparse_categorical_accuracy: 0.8750\n",
            "Epoch 21/50\n",
            "32/32 [==============================] - 0s 15ms/step - loss: 0.0074 - sparse_categorical_accuracy: 1.0000 - val_loss: 0.4204 - val_sparse_categorical_accuracy: 0.8760\n",
            "Epoch 22/50\n",
            "32/32 [==============================] - 1s 19ms/step - loss: 0.0071 - sparse_categorical_accuracy: 1.0000 - val_loss: 0.4259 - val_sparse_categorical_accuracy: 0.8800\n",
            "Epoch 23/50\n",
            "32/32 [==============================] - 0s 15ms/step - loss: 0.0057 - sparse_categorical_accuracy: 1.0000 - val_loss: 0.4377 - val_sparse_categorical_accuracy: 0.8740\n",
            "Epoch 24/50\n",
            "32/32 [==============================] - 0s 15ms/step - loss: 0.0053 - sparse_categorical_accuracy: 1.0000 - val_loss: 0.4426 - val_sparse_categorical_accuracy: 0.8750\n",
            "Epoch 25/50\n",
            "31/32 [============================>.] - ETA: 0s - loss: 0.0047 - sparse_categorical_accuracy: 1.0000\n",
            "Epoch 25: saving model to training_2/cp-0025.ckpt\n",
            "32/32 [==============================] - 0s 15ms/step - loss: 0.0047 - sparse_categorical_accuracy: 1.0000 - val_loss: 0.4408 - val_sparse_categorical_accuracy: 0.8800\n",
            "Epoch 26/50\n",
            "32/32 [==============================] - 1s 22ms/step - loss: 0.0047 - sparse_categorical_accuracy: 1.0000 - val_loss: 0.4456 - val_sparse_categorical_accuracy: 0.8750\n",
            "Epoch 27/50\n",
            "32/32 [==============================] - 0s 13ms/step - loss: 0.0043 - sparse_categorical_accuracy: 1.0000 - val_loss: 0.4458 - val_sparse_categorical_accuracy: 0.8770\n",
            "Epoch 28/50\n",
            "32/32 [==============================] - 0s 14ms/step - loss: 0.0040 - sparse_categorical_accuracy: 1.0000 - val_loss: 0.4462 - val_sparse_categorical_accuracy: 0.8760\n",
            "Epoch 29/50\n",
            "32/32 [==============================] - 0s 10ms/step - loss: 0.0037 - sparse_categorical_accuracy: 1.0000 - val_loss: 0.4409 - val_sparse_categorical_accuracy: 0.8790\n",
            "Epoch 30/50\n",
            "28/32 [=========================>....] - ETA: 0s - loss: 0.0037 - sparse_categorical_accuracy: 1.0000\n",
            "Epoch 30: saving model to training_2/cp-0030.ckpt\n",
            "32/32 [==============================] - 1s 16ms/step - loss: 0.0036 - sparse_categorical_accuracy: 1.0000 - val_loss: 0.4530 - val_sparse_categorical_accuracy: 0.8770\n",
            "Epoch 31/50\n",
            "32/32 [==============================] - 0s 15ms/step - loss: 0.0032 - sparse_categorical_accuracy: 1.0000 - val_loss: 0.4567 - val_sparse_categorical_accuracy: 0.8800\n",
            "Epoch 32/50\n",
            "32/32 [==============================] - 0s 14ms/step - loss: 0.0028 - sparse_categorical_accuracy: 1.0000 - val_loss: 0.4505 - val_sparse_categorical_accuracy: 0.8800\n",
            "Epoch 33/50\n",
            "32/32 [==============================] - 0s 15ms/step - loss: 0.0029 - sparse_categorical_accuracy: 1.0000 - val_loss: 0.4597 - val_sparse_categorical_accuracy: 0.8780\n",
            "Epoch 34/50\n",
            "32/32 [==============================] - 1s 18ms/step - loss: 0.0028 - sparse_categorical_accuracy: 1.0000 - val_loss: 0.4475 - val_sparse_categorical_accuracy: 0.8790\n",
            "Epoch 35/50\n",
            "28/32 [=========================>....] - ETA: 0s - loss: 0.0024 - sparse_categorical_accuracy: 1.0000\n",
            "Epoch 35: saving model to training_2/cp-0035.ckpt\n",
            "32/32 [==============================] - 0s 9ms/step - loss: 0.0024 - sparse_categorical_accuracy: 1.0000 - val_loss: 0.4517 - val_sparse_categorical_accuracy: 0.8840\n",
            "Epoch 36/50\n",
            "32/32 [==============================] - 0s 7ms/step - loss: 0.0023 - sparse_categorical_accuracy: 1.0000 - val_loss: 0.4570 - val_sparse_categorical_accuracy: 0.8820\n",
            "Epoch 37/50\n",
            "32/32 [==============================] - 0s 10ms/step - loss: 0.0022 - sparse_categorical_accuracy: 1.0000 - val_loss: 0.4671 - val_sparse_categorical_accuracy: 0.8780\n",
            "Epoch 38/50\n",
            "32/32 [==============================] - 0s 9ms/step - loss: 0.0020 - sparse_categorical_accuracy: 1.0000 - val_loss: 0.4674 - val_sparse_categorical_accuracy: 0.8760\n",
            "Epoch 39/50\n",
            "32/32 [==============================] - 0s 10ms/step - loss: 0.0022 - sparse_categorical_accuracy: 1.0000 - val_loss: 0.4667 - val_sparse_categorical_accuracy: 0.8790\n",
            "Epoch 40/50\n",
            "21/32 [==================>...........] - ETA: 0s - loss: 0.0018 - sparse_categorical_accuracy: 1.0000\n",
            "Epoch 40: saving model to training_2/cp-0040.ckpt\n",
            "32/32 [==============================] - 0s 11ms/step - loss: 0.0019 - sparse_categorical_accuracy: 1.0000 - val_loss: 0.4724 - val_sparse_categorical_accuracy: 0.8760\n",
            "Epoch 41/50\n",
            "32/32 [==============================] - 0s 8ms/step - loss: 0.0017 - sparse_categorical_accuracy: 1.0000 - val_loss: 0.4662 - val_sparse_categorical_accuracy: 0.8770\n",
            "Epoch 42/50\n",
            "32/32 [==============================] - 0s 7ms/step - loss: 0.0016 - sparse_categorical_accuracy: 1.0000 - val_loss: 0.4684 - val_sparse_categorical_accuracy: 0.8800\n",
            "Epoch 43/50\n",
            "32/32 [==============================] - 0s 10ms/step - loss: 0.0017 - sparse_categorical_accuracy: 1.0000 - val_loss: 0.4671 - val_sparse_categorical_accuracy: 0.8790\n",
            "Epoch 44/50\n",
            "32/32 [==============================] - 0s 7ms/step - loss: 0.0017 - sparse_categorical_accuracy: 1.0000 - val_loss: 0.4762 - val_sparse_categorical_accuracy: 0.8780\n",
            "Epoch 45/50\n",
            "22/32 [===================>..........] - ETA: 0s - loss: 0.0016 - sparse_categorical_accuracy: 1.0000\n",
            "Epoch 45: saving model to training_2/cp-0045.ckpt\n",
            "32/32 [==============================] - 0s 11ms/step - loss: 0.0017 - sparse_categorical_accuracy: 1.0000 - val_loss: 0.4970 - val_sparse_categorical_accuracy: 0.8720\n",
            "Epoch 46/50\n",
            "32/32 [==============================] - 0s 8ms/step - loss: 0.0017 - sparse_categorical_accuracy: 1.0000 - val_loss: 0.4873 - val_sparse_categorical_accuracy: 0.8730\n",
            "Epoch 47/50\n",
            "32/32 [==============================] - 0s 7ms/step - loss: 0.0012 - sparse_categorical_accuracy: 1.0000 - val_loss: 0.4848 - val_sparse_categorical_accuracy: 0.8750\n",
            "Epoch 48/50\n",
            "32/32 [==============================] - 0s 8ms/step - loss: 0.0014 - sparse_categorical_accuracy: 1.0000 - val_loss: 0.4848 - val_sparse_categorical_accuracy: 0.8780\n",
            "Epoch 49/50\n",
            "32/32 [==============================] - 0s 8ms/step - loss: 0.0014 - sparse_categorical_accuracy: 1.0000 - val_loss: 0.4921 - val_sparse_categorical_accuracy: 0.8710\n",
            "Epoch 50/50\n",
            "22/32 [===================>..........] - ETA: 0s - loss: 0.0013 - sparse_categorical_accuracy: 1.0000\n",
            "Epoch 50: saving model to training_2/cp-0050.ckpt\n",
            "32/32 [==============================] - 0s 8ms/step - loss: 0.0012 - sparse_categorical_accuracy: 1.0000 - val_loss: 0.4839 - val_sparse_categorical_accuracy: 0.8780\n"
          ]
        },
        {
          "output_type": "execute_result",
          "data": {
            "text/plain": [
              "<keras.callbacks.History at 0x7f7f3297a810>"
            ]
          },
          "metadata": {},
          "execution_count": 9
        }
      ]
    },
    {
      "cell_type": "code",
      "source": [
        "os.listdir(checkpoint_dir)"
      ],
      "metadata": {
        "colab": {
          "base_uri": "https://localhost:8080/"
        },
        "id": "yoG-Yz_7jGDf",
        "outputId": "24ad0a0e-ccc5-44d1-fddd-01304f4e71a8"
      },
      "execution_count": 10,
      "outputs": [
        {
          "output_type": "execute_result",
          "data": {
            "text/plain": [
              "['cp-0000.ckpt.index',\n",
              " 'cp-0010.ckpt.index',\n",
              " 'cp-0035.ckpt.data-00000-of-00001',\n",
              " 'checkpoint',\n",
              " 'cp-0035.ckpt.index',\n",
              " 'cp-0005.ckpt.data-00000-of-00001',\n",
              " 'cp-0020.ckpt.index',\n",
              " 'cp-0045.ckpt.index',\n",
              " 'cp-0040.ckpt.data-00000-of-00001',\n",
              " 'cp-0025.ckpt.index',\n",
              " 'cp-0010.ckpt.data-00000-of-00001',\n",
              " 'cp-0030.ckpt.data-00000-of-00001',\n",
              " 'cp-0020.ckpt.data-00000-of-00001',\n",
              " 'cp-0000.ckpt.data-00000-of-00001',\n",
              " 'cp-0050.ckpt.index',\n",
              " 'cp-0040.ckpt.index',\n",
              " 'cp-0025.ckpt.data-00000-of-00001',\n",
              " 'cp-0045.ckpt.data-00000-of-00001',\n",
              " 'cp-0015.ckpt.index',\n",
              " 'cp-0030.ckpt.index',\n",
              " 'cp-0050.ckpt.data-00000-of-00001',\n",
              " 'cp-0005.ckpt.index',\n",
              " 'cp-0015.ckpt.data-00000-of-00001']"
            ]
          },
          "metadata": {},
          "execution_count": 10
        }
      ]
    },
    {
      "cell_type": "code",
      "source": [
        "# Select the latest checkpoint\n",
        "latest = tf.train.latest_checkpoint(checkpoint_dir)\n",
        "latest"
      ],
      "metadata": {
        "colab": {
          "base_uri": "https://localhost:8080/",
          "height": 35
        },
        "id": "HY27knSQjm8f",
        "outputId": "25a6a30d-3504-4b6b-c863-466a412cd1eb"
      },
      "execution_count": 11,
      "outputs": [
        {
          "output_type": "execute_result",
          "data": {
            "text/plain": [
              "'training_2/cp-0050.ckpt'"
            ],
            "application/vnd.google.colaboratory.intrinsic+json": {
              "type": "string"
            }
          },
          "metadata": {},
          "execution_count": 11
        }
      ]
    },
    {
      "cell_type": "code",
      "source": [
        "# Create a new model instance\n",
        "new_untrained_model = create_model()\n",
        "\n",
        "# Load previously saved weights\n",
        "new_untrained_model.load_weights(latest)\n",
        "\n",
        "# Re-evaluate the model\n",
        "loss, acc = new_untrained_model.evaluate(test_images, test_labels, verbose=2)\n",
        "print(\"Restored model accuracy: {:5.2f}%\".format(acc * 100))\n"
      ],
      "metadata": {
        "colab": {
          "base_uri": "https://localhost:8080/"
        },
        "id": "btzP6Ys7kY5f",
        "outputId": "7405dca5-d110-480b-ae1c-56a107787b27"
      },
      "execution_count": 12,
      "outputs": [
        {
          "output_type": "stream",
          "name": "stdout",
          "text": [
            "32/32 - 0s - loss: 0.4839 - sparse_categorical_accuracy: 0.8780 - 189ms/epoch - 6ms/step\n",
            "Restored model accuracy: 87.80%\n"
          ]
        }
      ]
    },
    {
      "cell_type": "markdown",
      "source": [
        "#Manually save models"
      ],
      "metadata": {
        "id": "GV9gjT9Vu1jR"
      }
    },
    {
      "cell_type": "code",
      "source": [
        "# Save the weights\n",
        "basic_model.save_weights('./checkpoints/my-checkpoints')\n",
        "\n",
        "#  Create model\n",
        "model = create_model()\n",
        "\n",
        "# Restore model\n",
        "model.load_weights(\"./checkpoints/my-checkpoints\")\n",
        "\n",
        "# Evaluate model\n",
        "loss, acc = model.evaluate(test_images, test_labels, verbose=2)\n",
        "print(\"Restored model, accuracy: {:5.2f}%\".format(100 * acc))"
      ],
      "metadata": {
        "colab": {
          "base_uri": "https://localhost:8080/"
        },
        "id": "h6lBBI20u4ao",
        "outputId": "88082128-932f-450c-dd39-ecac34fada73"
      },
      "execution_count": 13,
      "outputs": [
        {
          "output_type": "stream",
          "name": "stdout",
          "text": [
            "32/32 - 0s - loss: 0.4097 - sparse_categorical_accuracy: 0.8710 - 174ms/epoch - 5ms/step\n",
            "Restored model, accuracy: 87.10%\n"
          ]
        }
      ]
    },
    {
      "cell_type": "markdown",
      "source": [
        "##SavedModel format"
      ],
      "metadata": {
        "id": "YS5hcFDHxhR4"
      }
    },
    {
      "cell_type": "code",
      "source": [
        "# Create and train a new model instance\n",
        "model = create_model()\n",
        "\n",
        "model.fit(train_images, train_labels, epochs=5)\n",
        "\n",
        "# Save the rntire model as a savedmodel\n",
        "! mkdir -p saved_model\n",
        "model.save(\"saved_model/my_model\")\n"
      ],
      "metadata": {
        "colab": {
          "base_uri": "https://localhost:8080/"
        },
        "id": "-5k0xra6xkgH",
        "outputId": "c0c7bcd6-ba3e-4648-fe76-55865b9427ff"
      },
      "execution_count": 14,
      "outputs": [
        {
          "output_type": "stream",
          "name": "stdout",
          "text": [
            "Epoch 1/5\n",
            "WARNING:tensorflow:Detecting that an object or model or tf.train.Checkpoint is being deleted with unrestored values. See the following logs for the specific values in question. To silence these warnings, use `status.expect_partial()`. See https://www.tensorflow.org/api_docs/python/tf/train/Checkpoint#restorefor details about the status object returned by the restore function.\n",
            "WARNING:tensorflow:Value in checkpoint could not be found in the restored object: (root).optimizer.iter\n",
            "WARNING:tensorflow:Value in checkpoint could not be found in the restored object: (root).optimizer.beta_1\n",
            "WARNING:tensorflow:Value in checkpoint could not be found in the restored object: (root).optimizer.beta_2\n",
            "WARNING:tensorflow:Value in checkpoint could not be found in the restored object: (root).optimizer.decay\n",
            "WARNING:tensorflow:Value in checkpoint could not be found in the restored object: (root).optimizer.learning_rate\n",
            "32/32 [==============================] - 1s 5ms/step - loss: 1.1211 - sparse_categorical_accuracy: 0.6900\n",
            "Epoch 2/5\n",
            "32/32 [==============================] - 0s 5ms/step - loss: 0.4269 - sparse_categorical_accuracy: 0.8880\n",
            "Epoch 3/5\n",
            "32/32 [==============================] - 0s 5ms/step - loss: 0.3040 - sparse_categorical_accuracy: 0.9140\n",
            "Epoch 4/5\n",
            "32/32 [==============================] - 0s 4ms/step - loss: 0.1975 - sparse_categorical_accuracy: 0.9560\n",
            "Epoch 5/5\n",
            "32/32 [==============================] - 0s 5ms/step - loss: 0.1474 - sparse_categorical_accuracy: 0.9620\n",
            "INFO:tensorflow:Assets written to: saved_model/my_model/assets\n"
          ]
        }
      ]
    },
    {
      "cell_type": "markdown",
      "source": [
        "##Inspect the saved model directory"
      ],
      "metadata": {
        "id": "MUpeuPSAyw_E"
      }
    },
    {
      "cell_type": "code",
      "source": [
        "# contains my_model directory\n",
        "! ls saved_model\n",
        "\n",
        "# Contains assets directory, keras_metadata.pb, saved_model.pb and variables folder.\n",
        "! ls saved_model/my_model/"
      ],
      "metadata": {
        "colab": {
          "base_uri": "https://localhost:8080/"
        },
        "id": "k3fIKjxZy1AN",
        "outputId": "b99c21e2-3532-4045-dd3d-59833d2dc8eb"
      },
      "execution_count": 15,
      "outputs": [
        {
          "output_type": "stream",
          "name": "stdout",
          "text": [
            "my_model\n",
            "assets\tkeras_metadata.pb  saved_model.pb  variables\n"
          ]
        }
      ]
    },
    {
      "cell_type": "markdown",
      "source": [
        "##Reload a fresh keras model"
      ],
      "metadata": {
        "id": "LK4k4d8B0Ilp"
      }
    },
    {
      "cell_type": "code",
      "source": [
        "new_model = keras.models.load_model(\"saved_model/my_model\")\n",
        "\n",
        "# Check its architecture\n",
        "new_model.summary()"
      ],
      "metadata": {
        "colab": {
          "base_uri": "https://localhost:8080/"
        },
        "id": "H_N64zr50MQp",
        "outputId": "9d1f0828-4309-427c-c30c-77cece8cf4f8"
      },
      "execution_count": 16,
      "outputs": [
        {
          "output_type": "stream",
          "name": "stdout",
          "text": [
            "Model: \"sequential_5\"\n",
            "_________________________________________________________________\n",
            " Layer (type)                Output Shape              Param #   \n",
            "=================================================================\n",
            " dense_10 (Dense)            (None, 512)               401920    \n",
            "                                                                 \n",
            " dropout_5 (Dropout)         (None, 512)               0         \n",
            "                                                                 \n",
            " dense_11 (Dense)            (None, 10)                5130      \n",
            "                                                                 \n",
            "=================================================================\n",
            "Total params: 407,050\n",
            "Trainable params: 407,050\n",
            "Non-trainable params: 0\n",
            "_________________________________________________________________\n"
          ]
        }
      ]
    },
    {
      "cell_type": "code",
      "source": [
        "# Evaluate the restored model\n",
        "loss, acc = new_model.evaluate(test_images, test_labels, verbose=2)\n",
        "print(\"Restored model, accuracy: {:5.2f}%\".format(100 * acc))\n",
        "\n",
        "\n",
        "print(new_model.predict(test_images).shape)"
      ],
      "metadata": {
        "id": "jguUGjGE0j-O",
        "colab": {
          "base_uri": "https://localhost:8080/"
        },
        "outputId": "6788b532-5c18-44ea-bf89-5e008123fd36"
      },
      "execution_count": 17,
      "outputs": [
        {
          "output_type": "stream",
          "name": "stdout",
          "text": [
            "32/32 - 0s - loss: 0.4229 - sparse_categorical_accuracy: 0.8540 - 179ms/epoch - 6ms/step\n",
            "Restored model, accuracy: 85.40%\n",
            "(1000, 10)\n"
          ]
        }
      ]
    },
    {
      "cell_type": "markdown",
      "source": [
        "##HDF5 format"
      ],
      "metadata": {
        "id": "In4ITv8pnnMI"
      }
    },
    {
      "cell_type": "code",
      "source": [
        "# Create a new model\n",
        "model = create_model()\n",
        "\n",
        "# Train model\n",
        "model.fit(train_images, train_labels, epochs=5, verbose=1)\n",
        "\n",
        "# Save the whole model to a HDF5 file.\n",
        "# the .h5 extension indicates that file is in HDF5 format.\n",
        "model.save(\"my_model.h5\")"
      ],
      "metadata": {
        "colab": {
          "base_uri": "https://localhost:8080/"
        },
        "id": "a-8WO60MnqVt",
        "outputId": "40eb75f8-e647-4279-af5e-79b0f0f6eae8"
      },
      "execution_count": 18,
      "outputs": [
        {
          "output_type": "stream",
          "name": "stdout",
          "text": [
            "Epoch 1/5\n",
            "32/32 [==============================] - 0s 5ms/step - loss: 1.1518 - sparse_categorical_accuracy: 0.6720\n",
            "Epoch 2/5\n",
            "32/32 [==============================] - 0s 5ms/step - loss: 0.4098 - sparse_categorical_accuracy: 0.8880\n",
            "Epoch 3/5\n",
            "32/32 [==============================] - 0s 5ms/step - loss: 0.2723 - sparse_categorical_accuracy: 0.9330\n",
            "Epoch 4/5\n",
            "32/32 [==============================] - 0s 5ms/step - loss: 0.2065 - sparse_categorical_accuracy: 0.9510\n",
            "Epoch 5/5\n",
            "32/32 [==============================] - 0s 5ms/step - loss: 0.1477 - sparse_categorical_accuracy: 0.9670\n"
          ]
        }
      ]
    },
    {
      "cell_type": "code",
      "source": [
        "# Recreate the exact same model, including its weights and optimizer\n",
        "new_model = keras.models.load_model(\"my_model.h5\")\n",
        "\n",
        "# Show model structure\n",
        "new_model.summary()\n",
        "\n",
        "# Check its accuracy\n",
        "loss, acc = new_model.evaluate(test_images, test_labels, verbose=2)\n",
        "print(\"Restored model accuracy: {:5.2f}%\".format(100 * acc))\n",
        "\n"
      ],
      "metadata": {
        "colab": {
          "base_uri": "https://localhost:8080/"
        },
        "id": "s-_UKOQxpOdD",
        "outputId": "c108d548-93e4-486b-d886-e8bd268ecfae"
      },
      "execution_count": 19,
      "outputs": [
        {
          "output_type": "stream",
          "name": "stdout",
          "text": [
            "Model: \"sequential_6\"\n",
            "_________________________________________________________________\n",
            " Layer (type)                Output Shape              Param #   \n",
            "=================================================================\n",
            " dense_12 (Dense)            (None, 512)               401920    \n",
            "                                                                 \n",
            " dropout_6 (Dropout)         (None, 512)               0         \n",
            "                                                                 \n",
            " dense_13 (Dense)            (None, 10)                5130      \n",
            "                                                                 \n",
            "=================================================================\n",
            "Total params: 407,050\n",
            "Trainable params: 407,050\n",
            "Non-trainable params: 0\n",
            "_________________________________________________________________\n",
            "32/32 - 0s - loss: 0.4743 - sparse_categorical_accuracy: 0.8460 - 165ms/epoch - 5ms/step\n",
            "Restored model accuracy: 84.60%\n"
          ]
        }
      ]
    },
    {
      "cell_type": "markdown",
      "source": [
        "#Saving custom Objects in HDF5 format\n",
        "##1. Define a custom object\n",
        "##2. Pass the object to the custom_objects argument when loading the model"
      ],
      "metadata": {
        "id": "Q_MZ-Zxb60C5"
      }
    },
    {
      "cell_type": "code",
      "source": [
        "# Define a custom layer class\n",
        "class Linear(keras.layers.Layer):\n",
        "    def __init__(self, units=32, **kwargs):\n",
        "        super(Linear, self).__init__(**kwargs)\n",
        "        self.units = units\n",
        "\n",
        "    def build(self, input_shape):\n",
        "        self.w = self.add_weight(\n",
        "            shape=(input_shape[-1], self.units),\n",
        "            initializer='random_normal',\n",
        "            trainable=True\n",
        "        )\n",
        "\n",
        "        self.b = self.add_weight(\n",
        "            shape=(self.units,), initializer='random_normal', trainable=True\n",
        "        )\n",
        "    \n",
        "    def call(self, inputs):\n",
        "        return tf.matmul(inputs, self.w) + self.b\n",
        "\n",
        "    def get_config(self):\n",
        "        config = super(Linear, self).get_config()\n",
        "        config.update({\"units\": self.units})\n",
        "        return config\n",
        "        \n",
        "    @classmethod\n",
        "    def from_config(cls, config):\n",
        "        return cls(**config)\n",
        "        "
      ],
      "metadata": {
        "id": "GHKMSlxU697U"
      },
      "execution_count": 20,
      "outputs": []
    },
    {
      "cell_type": "code",
      "source": [
        "# Create an instance of Linear class, at instantiation we don't know the input shape\n",
        "linear_layer = Linear(64)\n",
        "\n",
        "config = linear_layer.get_config()\n",
        "print(config)\n",
        "new_layer = linear_layer.from_config(config)\n",
        "\n",
        "# the layer's weights are created when the first time the layer is called\n",
        "y = linear_layer(tf.ones((10, 4)))\n",
        "print(y.numpy().shape)\n",
        "print(new_layer(tf.ones((5, 2))).numpy().shape)\n",
        "print(\"weights:\", len(linear_layer.weights))"
      ],
      "metadata": {
        "colab": {
          "base_uri": "https://localhost:8080/"
        },
        "id": "T92iDPo6g8v8",
        "outputId": "b8b9f212-aa21-447a-d9ef-abdc93ec718e"
      },
      "execution_count": 21,
      "outputs": [
        {
          "output_type": "stream",
          "name": "stdout",
          "text": [
            "{'name': 'linear', 'trainable': True, 'dtype': 'float32', 'units': 64}\n",
            "(10, 64)\n",
            "(5, 64)\n",
            "weights: 2\n"
          ]
        }
      ]
    },
    {
      "cell_type": "code",
      "source": [
        "# Create a neural network using custom Linear layer class defined previously\n",
        "class MLPBlock(keras.Model):\n",
        "    \"\"\"Custom multi layer perceptron network.\"\"\"\n",
        "    def __init__(self, output_dim, name=None):\n",
        "        super(MLPBlock, self).__init__(name=name)\n",
        "        self.output_dim = output_dim\n",
        "        self.linear_1 = Linear(32)\n",
        "        self.linear_2 = Linear(32)\n",
        "        self.linear_3 = Linear(self.output_dim)\n",
        "\n",
        "    def call(self, inputs):\n",
        "        \n",
        "        y = self.linear_1(inputs)\n",
        "        y = tf.nn.relu(y)\n",
        "        y = self.linear_2(y)\n",
        "        y = tf.nn.relu(y)\n",
        "        return self.linear_3(y)\n",
        "    \n",
        "    def get_config(self):\n",
        "        return {\"output_dim\": self.output_dim, \"name\": self.name}\n",
        "\n",
        "# Build an instance of MLP\n",
        "mlp = MLPBlock(1)\n",
        "y = mlp(tf.ones((3, 64)))\n",
        "mlp.compile(optimizer='adam', loss='mse', metrics=['accuracy'])\n",
        "mlp.fit(tf.ones((3, 64)), tf.ones((3,1)))\n",
        "print(\"weights:\", len(mlp.weights))\n",
        "print(\"Trainable weights:\", len(mlp.trainable_weights))"
      ],
      "metadata": {
        "colab": {
          "base_uri": "https://localhost:8080/"
        },
        "id": "W1rx_Lxik0IL",
        "outputId": "433f0e40-cce9-475c-ad7b-a22474373366"
      },
      "execution_count": 54,
      "outputs": [
        {
          "output_type": "stream",
          "name": "stdout",
          "text": [
            "1/1 [==============================] - 0s 498ms/step - loss: 0.9374 - accuracy: 0.0000e+00\n",
            "weights: 6\n",
            "Trainable weights: 6\n"
          ]
        }
      ]
    },
    {
      "cell_type": "code",
      "source": [
        "mlp.save(\"saved_model/mlp\", save_format='tf')"
      ],
      "metadata": {
        "colab": {
          "base_uri": "https://localhost:8080/",
          "height": 311
        },
        "id": "YLPyBSzxOyOY",
        "outputId": "9517248e-8779-498a-b1eb-258d94584a7f"
      },
      "execution_count": 55,
      "outputs": [
        {
          "output_type": "error",
          "ename": "AttributeError",
          "evalue": "ignored",
          "traceback": [
            "\u001b[0;31m---------------------------------------------------------------------------\u001b[0m",
            "\u001b[0;31mAttributeError\u001b[0m                            Traceback (most recent call last)",
            "\u001b[0;32m<ipython-input-55-b9a1fe77cea6>\u001b[0m in \u001b[0;36m<module>\u001b[0;34m()\u001b[0m\n\u001b[0;32m----> 1\u001b[0;31m \u001b[0mmlp\u001b[0m\u001b[0;34m.\u001b[0m\u001b[0msave\u001b[0m\u001b[0;34m(\u001b[0m\u001b[0;34m\"saved_model/mlp\"\u001b[0m\u001b[0;34m,\u001b[0m \u001b[0msave_format\u001b[0m\u001b[0;34m=\u001b[0m\u001b[0;34m'tf'\u001b[0m\u001b[0;34m)\u001b[0m\u001b[0;34m\u001b[0m\u001b[0;34m\u001b[0m\u001b[0m\n\u001b[0m",
            "\u001b[0;32m/usr/local/lib/python3.7/dist-packages/keras/utils/traceback_utils.py\u001b[0m in \u001b[0;36merror_handler\u001b[0;34m(*args, **kwargs)\u001b[0m\n\u001b[1;32m     65\u001b[0m     \u001b[0;32mexcept\u001b[0m \u001b[0mException\u001b[0m \u001b[0;32mas\u001b[0m \u001b[0me\u001b[0m\u001b[0;34m:\u001b[0m  \u001b[0;31m# pylint: disable=broad-except\u001b[0m\u001b[0;34m\u001b[0m\u001b[0;34m\u001b[0m\u001b[0m\n\u001b[1;32m     66\u001b[0m       \u001b[0mfiltered_tb\u001b[0m \u001b[0;34m=\u001b[0m \u001b[0m_process_traceback_frames\u001b[0m\u001b[0;34m(\u001b[0m\u001b[0me\u001b[0m\u001b[0;34m.\u001b[0m\u001b[0m__traceback__\u001b[0m\u001b[0;34m)\u001b[0m\u001b[0;34m\u001b[0m\u001b[0;34m\u001b[0m\u001b[0m\n\u001b[0;32m---> 67\u001b[0;31m       \u001b[0;32mraise\u001b[0m \u001b[0me\u001b[0m\u001b[0;34m.\u001b[0m\u001b[0mwith_traceback\u001b[0m\u001b[0;34m(\u001b[0m\u001b[0mfiltered_tb\u001b[0m\u001b[0;34m)\u001b[0m \u001b[0;32mfrom\u001b[0m \u001b[0;32mNone\u001b[0m\u001b[0;34m\u001b[0m\u001b[0;34m\u001b[0m\u001b[0m\n\u001b[0m\u001b[1;32m     68\u001b[0m     \u001b[0;32mfinally\u001b[0m\u001b[0;34m:\u001b[0m\u001b[0;34m\u001b[0m\u001b[0;34m\u001b[0m\u001b[0m\n\u001b[1;32m     69\u001b[0m       \u001b[0;32mdel\u001b[0m \u001b[0mfiltered_tb\u001b[0m\u001b[0;34m\u001b[0m\u001b[0;34m\u001b[0m\u001b[0m\n",
            "\u001b[0;32m/usr/local/lib/python3.7/dist-packages/tensorflow/python/training/tracking/graph_view.py\u001b[0m in \u001b[0;36m_escape_local_name\u001b[0;34m(name)\u001b[0m\n\u001b[1;32m     58\u001b[0m   \u001b[0;31m# edges traversed to reach the variable, so we escape forward slashes in\u001b[0m\u001b[0;34m\u001b[0m\u001b[0;34m\u001b[0m\u001b[0;34m\u001b[0m\u001b[0m\n\u001b[1;32m     59\u001b[0m   \u001b[0;31m# names.\u001b[0m\u001b[0;34m\u001b[0m\u001b[0;34m\u001b[0m\u001b[0;34m\u001b[0m\u001b[0m\n\u001b[0;32m---> 60\u001b[0;31m   return (name.replace(_ESCAPE_CHAR, _ESCAPE_CHAR + _ESCAPE_CHAR)\n\u001b[0m\u001b[1;32m     61\u001b[0m           .replace(r\"/\", _ESCAPE_CHAR + \"S\"))\n\u001b[1;32m     62\u001b[0m \u001b[0;34m\u001b[0m\u001b[0m\n",
            "\u001b[0;31mAttributeError\u001b[0m: 'NoneType' object has no attribute 'replace'"
          ]
        }
      ]
    },
    {
      "cell_type": "markdown",
      "source": [
        ""
      ],
      "metadata": {
        "id": "hVdG6cf_60AJ"
      }
    },
    {
      "cell_type": "code",
      "source": [
        "inputs = keras.Input(shape=(32,))\n",
        "x = Linear(32)(inputs)\n",
        "x = Linear(64)(x)\n",
        "x = Linear(32)(x)\n",
        "outputs = Linear(1)(x)\n",
        "model = keras.Model(inputs, outputs)\n",
        "config = model.get_config()\n",
        "print(config)\n",
        "\n",
        "custom_objects = {\"Linear\": Linear}\n",
        "new_model = keras.Model.from_config(config, custom_objects=custom_objects)"
      ],
      "metadata": {
        "id": "Q6P3MTqwo750",
        "colab": {
          "base_uri": "https://localhost:8080/"
        },
        "outputId": "6d99ea09-8f8d-4e9a-a06f-e3950daa91ba"
      },
      "execution_count": 36,
      "outputs": [
        {
          "output_type": "stream",
          "name": "stdout",
          "text": [
            "{'name': 'model_4', 'layers': [{'class_name': 'InputLayer', 'config': {'batch_input_shape': (None, 32), 'dtype': 'float32', 'sparse': False, 'ragged': False, 'name': 'input_5'}, 'name': 'input_5', 'inbound_nodes': []}, {'class_name': 'Linear', 'config': {'name': 'linear_29', 'trainable': True, 'dtype': 'float32', 'units': 32}, 'name': 'linear_29', 'inbound_nodes': [[['input_5', 0, 0, {}]]]}, {'class_name': 'Linear', 'config': {'name': 'linear_30', 'trainable': True, 'dtype': 'float32', 'units': 64}, 'name': 'linear_30', 'inbound_nodes': [[['linear_29', 0, 0, {}]]]}, {'class_name': 'Linear', 'config': {'name': 'linear_31', 'trainable': True, 'dtype': 'float32', 'units': 32}, 'name': 'linear_31', 'inbound_nodes': [[['linear_30', 0, 0, {}]]]}, {'class_name': 'Linear', 'config': {'name': 'linear_32', 'trainable': True, 'dtype': 'float32', 'units': 1}, 'name': 'linear_32', 'inbound_nodes': [[['linear_31', 0, 0, {}]]]}], 'input_layers': [['input_5', 0, 0]], 'output_layers': [['linear_32', 0, 0]]}\n"
          ]
        }
      ]
    },
    {
      "cell_type": "code",
      "source": [
        "model.save_weights(\"mlp\", save_format='tf')"
      ],
      "metadata": {
        "colab": {
          "base_uri": "https://localhost:8080/",
          "height": 311
        },
        "id": "MEbneYW8C7yS",
        "outputId": "90200361-c277-4934-def3-ca141d796dce"
      },
      "execution_count": 41,
      "outputs": [
        {
          "output_type": "error",
          "ename": "AttributeError",
          "evalue": "ignored",
          "traceback": [
            "\u001b[0;31m---------------------------------------------------------------------------\u001b[0m",
            "\u001b[0;31mAttributeError\u001b[0m                            Traceback (most recent call last)",
            "\u001b[0;32m<ipython-input-41-bf5a9cf55310>\u001b[0m in \u001b[0;36m<module>\u001b[0;34m()\u001b[0m\n\u001b[0;32m----> 1\u001b[0;31m \u001b[0mmodel\u001b[0m\u001b[0;34m.\u001b[0m\u001b[0msave_weights\u001b[0m\u001b[0;34m(\u001b[0m\u001b[0;34m\"mlp\"\u001b[0m\u001b[0;34m,\u001b[0m \u001b[0msave_format\u001b[0m\u001b[0;34m=\u001b[0m\u001b[0;34m'tf'\u001b[0m\u001b[0;34m)\u001b[0m\u001b[0;34m\u001b[0m\u001b[0;34m\u001b[0m\u001b[0m\n\u001b[0m",
            "\u001b[0;32m/usr/local/lib/python3.7/dist-packages/keras/utils/traceback_utils.py\u001b[0m in \u001b[0;36merror_handler\u001b[0;34m(*args, **kwargs)\u001b[0m\n\u001b[1;32m     65\u001b[0m     \u001b[0;32mexcept\u001b[0m \u001b[0mException\u001b[0m \u001b[0;32mas\u001b[0m \u001b[0me\u001b[0m\u001b[0;34m:\u001b[0m  \u001b[0;31m# pylint: disable=broad-except\u001b[0m\u001b[0;34m\u001b[0m\u001b[0;34m\u001b[0m\u001b[0m\n\u001b[1;32m     66\u001b[0m       \u001b[0mfiltered_tb\u001b[0m \u001b[0;34m=\u001b[0m \u001b[0m_process_traceback_frames\u001b[0m\u001b[0;34m(\u001b[0m\u001b[0me\u001b[0m\u001b[0;34m.\u001b[0m\u001b[0m__traceback__\u001b[0m\u001b[0;34m)\u001b[0m\u001b[0;34m\u001b[0m\u001b[0;34m\u001b[0m\u001b[0m\n\u001b[0;32m---> 67\u001b[0;31m       \u001b[0;32mraise\u001b[0m \u001b[0me\u001b[0m\u001b[0;34m.\u001b[0m\u001b[0mwith_traceback\u001b[0m\u001b[0;34m(\u001b[0m\u001b[0mfiltered_tb\u001b[0m\u001b[0;34m)\u001b[0m \u001b[0;32mfrom\u001b[0m \u001b[0;32mNone\u001b[0m\u001b[0;34m\u001b[0m\u001b[0;34m\u001b[0m\u001b[0m\n\u001b[0m\u001b[1;32m     68\u001b[0m     \u001b[0;32mfinally\u001b[0m\u001b[0;34m:\u001b[0m\u001b[0;34m\u001b[0m\u001b[0;34m\u001b[0m\u001b[0m\n\u001b[1;32m     69\u001b[0m       \u001b[0;32mdel\u001b[0m \u001b[0mfiltered_tb\u001b[0m\u001b[0;34m\u001b[0m\u001b[0;34m\u001b[0m\u001b[0m\n",
            "\u001b[0;32m/usr/local/lib/python3.7/dist-packages/tensorflow/python/training/tracking/graph_view.py\u001b[0m in \u001b[0;36m_escape_local_name\u001b[0;34m(name)\u001b[0m\n\u001b[1;32m     58\u001b[0m   \u001b[0;31m# edges traversed to reach the variable, so we escape forward slashes in\u001b[0m\u001b[0;34m\u001b[0m\u001b[0;34m\u001b[0m\u001b[0;34m\u001b[0m\u001b[0m\n\u001b[1;32m     59\u001b[0m   \u001b[0;31m# names.\u001b[0m\u001b[0;34m\u001b[0m\u001b[0;34m\u001b[0m\u001b[0;34m\u001b[0m\u001b[0m\n\u001b[0;32m---> 60\u001b[0;31m   return (name.replace(_ESCAPE_CHAR, _ESCAPE_CHAR + _ESCAPE_CHAR)\n\u001b[0m\u001b[1;32m     61\u001b[0m           .replace(r\"/\", _ESCAPE_CHAR + \"S\"))\n\u001b[1;32m     62\u001b[0m \u001b[0;34m\u001b[0m\u001b[0m\n",
            "\u001b[0;31mAttributeError\u001b[0m: 'NoneType' object has no attribute 'replace'"
          ]
        }
      ]
    },
    {
      "cell_type": "code",
      "source": [
        "class SubclassedModel(keras.Model):\n",
        "    def __init__(self, output_dim, name=None):\n",
        "        super(SubclassedModel, self).__init__(name=name)\n",
        "        self.output_dim = output_dim\n",
        "        self.dense_1 = keras.layers.Dense(64, activation=\"relu\", name=\"dense_1\")\n",
        "        self.dense_2 = keras.layers.Dense(64, activation=\"relu\", name=\"dense_2\")\n",
        "        self.dense_3 = keras.layers.Dense(output_dim, name=\"predictions\")\n",
        "\n",
        "    def call(self, inputs):\n",
        "        x = self.dense_1(inputs)\n",
        "        x = self.dense_2(x)\n",
        "        x = self.dense_3(x)\n",
        "        return x\n",
        "\n",
        "    def get_config(self):\n",
        "        return {\"output_dim\": self.output_dim, \"name\": self.name}\n",
        "\n",
        "\n",
        "subclassed_model = SubclassedModel(10)\n",
        "# Call the subclassed model once to create the weights.\n",
        "subclassed_model(tf.ones((1, 784)))"
      ],
      "metadata": {
        "colab": {
          "base_uri": "https://localhost:8080/"
        },
        "id": "vjr29UPLP7d6",
        "outputId": "e4bdb932-0bfd-4644-a06b-cd8d3467c88e"
      },
      "execution_count": 49,
      "outputs": [
        {
          "output_type": "execute_result",
          "data": {
            "text/plain": [
              "<tf.Tensor: shape=(1, 10), dtype=float32, numpy=\n",
              "array([[-0.16164304, -0.07613409, -0.6002283 , -0.21339276, -0.18713108,\n",
              "         0.0977993 , -0.1912318 ,  0.6535991 , -1.1266735 ,  0.11844908]],\n",
              "      dtype=float32)>"
            ]
          },
          "metadata": {},
          "execution_count": 49
        }
      ]
    },
    {
      "cell_type": "code",
      "source": [
        "subclassed_model.save(\"subclassed_model\", save_format='tf')"
      ],
      "metadata": {
        "colab": {
          "base_uri": "https://localhost:8080/"
        },
        "id": "VPHp27ZjQXrJ",
        "outputId": "e0a6acbf-28b3-43a2-d072-f79a8a37e7c9"
      },
      "execution_count": 53,
      "outputs": [
        {
          "output_type": "stream",
          "name": "stdout",
          "text": [
            "INFO:tensorflow:Assets written to: subclassed_model/assets\n"
          ]
        }
      ]
    }
  ]
}